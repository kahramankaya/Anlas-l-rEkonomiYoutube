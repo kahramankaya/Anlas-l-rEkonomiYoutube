{
  "cells": [
    {
      "cell_type": "markdown",
      "metadata": {
        "id": "view-in-github",
        "colab_type": "text"
      },
      "source": [
        "<a href=\"https://colab.research.google.com/github/kahramankaya/Anlas-l-rEkonomiYoutube/blob/main/62.video(Ba%C4%9F%C4%B1ms%C4%B1z%20%C4%B0ki%20%C3%96rneklem%20T%20Testi).ipynb\" target=\"_parent\"><img src=\"https://colab.research.google.com/assets/colab-badge.svg\" alt=\"Open In Colab\"/></a>"
      ]
    },
    {
      "cell_type": "code",
      "source": [
        "#62.video(Bağımsız İki Örneklem T Testi):\n",
        "#tek orneklem den farklı bu. burada iki tane grup vardır. bagımlı da var bagımsız da var. bagımlı da testten once de sonrada grup degısmez.ama bagımsız tam tersı dır.\n",
        "#bagımsız ıkı orneklem t testinin uygulanması ıcın sartlar vardır orneklemlerın normal dagılması gıbı. bunu chatgpt ye sorabılırsın."
      ],
      "metadata": {
        "id": "fThuimiQDC5L"
      },
      "execution_count": null,
      "outputs": []
    },
    {
      "cell_type": "code",
      "source": [
        "#ornek:A okulu ve B okulu var. bu okullarda alınan alınan notlar arasında bır farklılık var mı buna bakacagız. ıkı okul bırbırınden bagımsız oldugu ıcın bagımsız iki ornk t tsti kullanılır.\n",
        "from scipy import stats\n",
        "import numpy as np\n",
        "alfa=0.05\n",
        "np.random.seed(40)\n",
        "x=np.random.normal(40,3,size=40)\n",
        "y=np.random.normal(30,4,size=40)\n",
        "A_okulu=x\n",
        "B_okulu=y\n",
        "ttest,p=stats.ttest_ind(A_okulu,B_okulu,alternative=\"two-sided\")\n",
        "\n",
        "if p>alfa:\n",
        "  print(\"h0 red edilmez.\")\n",
        "\n",
        "else:\n",
        "  print(\"h0 red edilir.\")\n"
      ],
      "metadata": {
        "id": "Rbnr0Q_BDC8m",
        "outputId": "01851304-d9cb-48ed-c8d3-6ab1b4cd6bf7",
        "colab": {
          "base_uri": "https://localhost:8080/"
        }
      },
      "execution_count": 4,
      "outputs": [
        {
          "output_type": "stream",
          "name": "stdout",
          "text": [
            "h0 red edilir.\n"
          ]
        }
      ]
    },
    {
      "cell_type": "code",
      "source": [],
      "metadata": {
        "id": "_8gCKjh2DDE0"
      },
      "execution_count": null,
      "outputs": []
    },
    {
      "cell_type": "code",
      "source": [],
      "metadata": {
        "id": "0pIsUTLQDDLU"
      },
      "execution_count": null,
      "outputs": []
    }
  ],
  "metadata": {
    "colab": {
      "name": "Colaboratory'ye Hoş Geldiniz",
      "provenance": [],
      "include_colab_link": true
    },
    "kernelspec": {
      "display_name": "Python 3",
      "name": "python3"
    }
  },
  "nbformat": 4,
  "nbformat_minor": 0
}