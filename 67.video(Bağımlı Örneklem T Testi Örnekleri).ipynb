{
  "cells": [
    {
      "cell_type": "markdown",
      "metadata": {
        "id": "view-in-github",
        "colab_type": "text"
      },
      "source": [
        "<a href=\"https://colab.research.google.com/github/kahramankaya/Anlas-l-rEkonomiYoutube/blob/main/67.video(Ba%C4%9F%C4%B1ml%C4%B1%20%C3%96rneklem%20T%20Testi%20%C3%96rnekleri).ipynb\" target=\"_parent\"><img src=\"https://colab.research.google.com/assets/colab-badge.svg\" alt=\"Open In Colab\"/></a>"
      ]
    },
    {
      "cell_type": "code",
      "source": [
        "#67.video(Bağımlı Örneklem T Testi Örnekleri)\n",
        "# oncesı ve sonrasın da olan degerlerın farkı normallıgı karsılması gerekır. bu yuzden bıze fark degıskenı de lazım."
      ],
      "metadata": {
        "id": "ReKmCpbpo_Go"
      },
      "execution_count": null,
      "outputs": []
    },
    {
      "cell_type": "code",
      "source": [
        "#ornek:diyelimki bir grup almışsın bunlara bir sey uygulamışsın oncesınde ve sonrasında bır farklılık olmuş mu olmamış mı bu kodlayacagım.\n",
        "#h0:Mö=Ms\n",
        "#h1:Mö=!Ms\n",
        "\n",
        "from scipy import stats\n",
        "import numpy as np\n",
        "import pandas as pd\n",
        "\n",
        "np.random.seed(6)\n",
        "data=pd.DataFrame({\"before\":np.random.normal(10,size=20),\"after\":np.random.normal(5,size=20)})\n",
        "fark=np.random.normal(10,size=20)-np.random.normal(5,size=20)\n",
        "\n",
        "# normallık saglandı bu yuzden varyans homojenlıgı ıcın bartlett i kullanacagız.\n",
        "print(stats.shapiro(fark)) \n",
        "\n",
        " # 0.05 ten buyuk oldugu ıcın h0 red edilmez. yanı varyans homojen dagılmıs benzermış.\n",
        "print(stats.bartlett(np.random.normal(10,size=20),np.random.normal(5,size=20)))\n",
        "\n",
        "# 0.05 ten buyuk demek ki h0 red edilmez.\n",
        "x,p_value=stats.ttest_rel(data[\"before\"],data[\"after\"])\n",
        "print(p_value) "
      ],
      "metadata": {
        "id": "mpzEVMLXu7Jy",
        "outputId": "6e19ef9f-14d5-4666-8738-946b0a8d8c5b",
        "colab": {
          "base_uri": "https://localhost:8080/"
        }
      },
      "execution_count": 16,
      "outputs": [
        {
          "output_type": "stream",
          "name": "stdout",
          "text": [
            "ShapiroResult(statistic=0.973163902759552, pvalue=0.8197771906852722)\n",
            "BartlettResult(statistic=0.004374265123160124, pvalue=0.947267776402037)\n",
            "1.0587867357387455e-11\n"
          ]
        }
      ]
    },
    {
      "cell_type": "code",
      "source": [],
      "metadata": {
        "id": "C9ocCi_2u7qU"
      },
      "execution_count": null,
      "outputs": []
    }
  ],
  "metadata": {
    "colab": {
      "name": "Colaboratory'ye Hoş Geldiniz",
      "provenance": [],
      "include_colab_link": true
    },
    "kernelspec": {
      "display_name": "Python 3",
      "name": "python3"
    }
  },
  "nbformat": 4,
  "nbformat_minor": 0
}