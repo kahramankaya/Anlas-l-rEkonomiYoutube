{
  "cells": [
    {
      "cell_type": "markdown",
      "metadata": {
        "id": "view-in-github",
        "colab_type": "text"
      },
      "source": [
        "<a href=\"https://colab.research.google.com/github/kahramankaya/Anlas-l-rEkonomiYoutube/blob/main/82.video(Two-Way%20MANOVA).ipynb\" target=\"_parent\"><img src=\"https://colab.research.google.com/assets/colab-badge.svg\" alt=\"Open In Colab\"/></a>"
      ]
    },
    {
      "cell_type": "code",
      "source": [
        "#82.video(Two-Way MANOVA):burda da bırden fazla bagımlı degısken varken aynı zamanda bırden fazla bagımsız degısken vardır."
      ],
      "metadata": {
        "id": "5gNIYRbRcK0q"
      },
      "execution_count": null,
      "outputs": []
    },
    {
      "cell_type": "code",
      "source": [
        "import pandas as pd\n",
        "import numpy as np\n",
        "np.random.seed(5)\n",
        "data=pd.DataFrame({\n",
        "\"mevkı\":np.random.choice([\"A\",\"B\",\"C\",\"D\"],size=(30)),\n",
        "\"departman\":np.random.choice([\"arge\",\"uretım\",\"muhasebe\",\"fınans\"],size=(30)),\n",
        "\"performans\":np.random.randint(1,25,size=(30)),\n",
        "\"sahıplenme\":np.random.randint(1,25,size=(30)),\n",
        "\n",
        "})\n",
        "print(data)"
      ],
      "metadata": {
        "colab": {
          "base_uri": "https://localhost:8080/"
        },
        "id": "iRnG8wkhcK4b",
        "outputId": "2b5f02e0-9268-4a5c-f867-6dff78a18875"
      },
      "execution_count": 46,
      "outputs": [
        {
          "output_type": "stream",
          "name": "stdout",
          "text": [
            "   mevkı departman  performans  sahıplenme\n",
            "0      D      arge          10          23\n",
            "1      C  muhasebe          20          12\n",
            "2      D    uretım          20           9\n",
            "3      B  muhasebe          19           1\n",
            "4      C  muhasebe          18          13\n",
            "5      C    uretım          22          13\n",
            "6      A    uretım           8           6\n",
            "7      B  muhasebe           5          15\n",
            "8      A    uretım          13          16\n",
            "9      A    uretım          14          19\n",
            "10     D  muhasebe          12           1\n",
            "11     C    uretım          12           8\n",
            "12     D  muhasebe           4           8\n",
            "13     A    fınans           2          23\n",
            "14     C      arge          24          17\n",
            "15     A  muhasebe           4           1\n",
            "16     D    uretım          15           9\n",
            "17     A  muhasebe           2          13\n",
            "18     D      arge          22           6\n",
            "19     B      arge           8          12\n",
            "20     B      arge          17           6\n",
            "21     D  muhasebe          15          10\n",
            "22     A      arge          10          23\n",
            "23     D    uretım           7          21\n",
            "24     A    fınans          16           6\n",
            "25     B    fınans          17          19\n",
            "26     D    fınans           6           2\n",
            "27     B  muhasebe           3          16\n",
            "28     D      arge          14           7\n",
            "29     C  muhasebe          14           4\n"
          ]
        }
      ]
    },
    {
      "cell_type": "code",
      "source": [
        "# 1. 2. adım lar yapılır(normallık,homejenlık)"
      ],
      "metadata": {
        "id": "-OHqtLSecK7q"
      },
      "execution_count": null,
      "outputs": []
    },
    {
      "cell_type": "code",
      "source": [
        "#cıft yonlu manova testı:\n",
        "from statsmodels.multivariate.manova import MANOVA\n",
        "model=MANOVA.from_formula(\"performans + sahıplenme ~ mevkı + departman + mevkı:departman\",data=data)\n",
        "print(model.mv_test())"
      ],
      "metadata": {
        "colab": {
          "base_uri": "https://localhost:8080/",
          "height": 377
        },
        "id": "ziE9JSranale",
        "outputId": "46e13b78-9c13-40c3-d62a-ded6fbd39747"
      },
      "execution_count": 51,
      "outputs": [
        {
          "output_type": "error",
          "ename": "ValueError",
          "evalue": "ignored",
          "traceback": [
            "\u001b[0;31m---------------------------------------------------------------------------\u001b[0m",
            "\u001b[0;31mValueError\u001b[0m                                Traceback (most recent call last)",
            "\u001b[0;32m<ipython-input-51-fe25fb67e52f>\u001b[0m in \u001b[0;36m<module>\u001b[0;34m\u001b[0m\n\u001b[1;32m      1\u001b[0m \u001b[0;31m#cıft yonlu manova testı:\u001b[0m\u001b[0;34m\u001b[0m\u001b[0;34m\u001b[0m\u001b[0m\n\u001b[1;32m      2\u001b[0m \u001b[0;32mfrom\u001b[0m \u001b[0mstatsmodels\u001b[0m\u001b[0;34m.\u001b[0m\u001b[0mmultivariate\u001b[0m\u001b[0;34m.\u001b[0m\u001b[0mmanova\u001b[0m \u001b[0;32mimport\u001b[0m \u001b[0mMANOVA\u001b[0m\u001b[0;34m\u001b[0m\u001b[0;34m\u001b[0m\u001b[0m\n\u001b[0;32m----> 3\u001b[0;31m \u001b[0mmodel\u001b[0m\u001b[0;34m=\u001b[0m\u001b[0mMANOVA\u001b[0m\u001b[0;34m.\u001b[0m\u001b[0mfrom_formula\u001b[0m\u001b[0;34m(\u001b[0m\u001b[0;34m\"performans + sahıplenme ~ mevkı + departman + mevkı:departman\"\u001b[0m\u001b[0;34m,\u001b[0m\u001b[0mdata\u001b[0m\u001b[0;34m=\u001b[0m\u001b[0mdata\u001b[0m\u001b[0;34m)\u001b[0m\u001b[0;34m\u001b[0m\u001b[0;34m\u001b[0m\u001b[0m\n\u001b[0m\u001b[1;32m      4\u001b[0m \u001b[0mprint\u001b[0m\u001b[0;34m(\u001b[0m\u001b[0mmodel\u001b[0m\u001b[0;34m.\u001b[0m\u001b[0mmv_test\u001b[0m\u001b[0;34m(\u001b[0m\u001b[0;34m)\u001b[0m\u001b[0;34m)\u001b[0m\u001b[0;34m\u001b[0m\u001b[0;34m\u001b[0m\u001b[0m\n",
            "\u001b[0;32m/usr/local/lib/python3.9/dist-packages/statsmodels/base/model.py\u001b[0m in \u001b[0;36mfrom_formula\u001b[0;34m(cls, formula, data, subset, drop_cols, *args, **kwargs)\u001b[0m\n\u001b[1;32m    224\u001b[0m                        \u001b[0;34m'formula'\u001b[0m\u001b[0;34m:\u001b[0m \u001b[0mformula\u001b[0m\u001b[0;34m,\u001b[0m  \u001b[0;31m# attach formula for unpckling\u001b[0m\u001b[0;34m\u001b[0m\u001b[0;34m\u001b[0m\u001b[0m\n\u001b[1;32m    225\u001b[0m                        'design_info': design_info})\n\u001b[0;32m--> 226\u001b[0;31m         \u001b[0mmod\u001b[0m \u001b[0;34m=\u001b[0m \u001b[0mcls\u001b[0m\u001b[0;34m(\u001b[0m\u001b[0mendog\u001b[0m\u001b[0;34m,\u001b[0m \u001b[0mexog\u001b[0m\u001b[0;34m,\u001b[0m \u001b[0;34m*\u001b[0m\u001b[0margs\u001b[0m\u001b[0;34m,\u001b[0m \u001b[0;34m**\u001b[0m\u001b[0mkwargs\u001b[0m\u001b[0;34m)\u001b[0m\u001b[0;34m\u001b[0m\u001b[0;34m\u001b[0m\u001b[0m\n\u001b[0m\u001b[1;32m    227\u001b[0m         \u001b[0mmod\u001b[0m\u001b[0;34m.\u001b[0m\u001b[0mformula\u001b[0m \u001b[0;34m=\u001b[0m \u001b[0mformula\u001b[0m\u001b[0;34m\u001b[0m\u001b[0;34m\u001b[0m\u001b[0m\n\u001b[1;32m    228\u001b[0m         \u001b[0;31m# since we got a dataframe, attach the original\u001b[0m\u001b[0;34m\u001b[0m\u001b[0;34m\u001b[0m\u001b[0m\n",
            "\u001b[0;32m/usr/local/lib/python3.9/dist-packages/statsmodels/multivariate/manova.py\u001b[0m in \u001b[0;36m__init__\u001b[0;34m(self, endog, exog, missing, hasconst, **kwargs)\u001b[0m\n\u001b[1;32m     65\u001b[0m         super(MANOVA, self).__init__(endog, exog, missing=missing,\n\u001b[1;32m     66\u001b[0m                                      hasconst=hasconst, **kwargs)\n\u001b[0;32m---> 67\u001b[0;31m         \u001b[0mself\u001b[0m\u001b[0;34m.\u001b[0m\u001b[0m_fittedmod\u001b[0m \u001b[0;34m=\u001b[0m \u001b[0m_multivariate_ols_fit\u001b[0m\u001b[0;34m(\u001b[0m\u001b[0mself\u001b[0m\u001b[0;34m.\u001b[0m\u001b[0mendog\u001b[0m\u001b[0;34m,\u001b[0m \u001b[0mself\u001b[0m\u001b[0;34m.\u001b[0m\u001b[0mexog\u001b[0m\u001b[0;34m)\u001b[0m\u001b[0;34m\u001b[0m\u001b[0;34m\u001b[0m\u001b[0m\n\u001b[0m\u001b[1;32m     68\u001b[0m \u001b[0;34m\u001b[0m\u001b[0m\n\u001b[1;32m     69\u001b[0m     \u001b[0;32mdef\u001b[0m \u001b[0mfit\u001b[0m\u001b[0;34m(\u001b[0m\u001b[0mself\u001b[0m\u001b[0;34m)\u001b[0m\u001b[0;34m:\u001b[0m\u001b[0;34m\u001b[0m\u001b[0;34m\u001b[0m\u001b[0m\n",
            "\u001b[0;32m/usr/local/lib/python3.9/dist-packages/statsmodels/multivariate/multivariate_ols.py\u001b[0m in \u001b[0;36m_multivariate_ols_fit\u001b[0;34m(endog, exog, method, tolerance)\u001b[0m\n\u001b[1;32m    113\u001b[0m         \u001b[0mu\u001b[0m\u001b[0;34m,\u001b[0m \u001b[0ms\u001b[0m\u001b[0;34m,\u001b[0m \u001b[0mv\u001b[0m \u001b[0;34m=\u001b[0m \u001b[0msvd\u001b[0m\u001b[0;34m(\u001b[0m\u001b[0mx\u001b[0m\u001b[0;34m,\u001b[0m \u001b[0;36m0\u001b[0m\u001b[0;34m)\u001b[0m\u001b[0;34m\u001b[0m\u001b[0;34m\u001b[0m\u001b[0m\n\u001b[1;32m    114\u001b[0m         \u001b[0;32mif\u001b[0m \u001b[0;34m(\u001b[0m\u001b[0ms\u001b[0m \u001b[0;34m>\u001b[0m \u001b[0mtolerance\u001b[0m\u001b[0;34m)\u001b[0m\u001b[0;34m.\u001b[0m\u001b[0msum\u001b[0m\u001b[0;34m(\u001b[0m\u001b[0;34m)\u001b[0m \u001b[0;34m<\u001b[0m \u001b[0mlen\u001b[0m\u001b[0;34m(\u001b[0m\u001b[0ms\u001b[0m\u001b[0;34m)\u001b[0m\u001b[0;34m:\u001b[0m\u001b[0;34m\u001b[0m\u001b[0;34m\u001b[0m\u001b[0m\n\u001b[0;32m--> 115\u001b[0;31m             \u001b[0;32mraise\u001b[0m \u001b[0mValueError\u001b[0m\u001b[0;34m(\u001b[0m\u001b[0;34m'Covariance of x singular!'\u001b[0m\u001b[0;34m)\u001b[0m\u001b[0;34m\u001b[0m\u001b[0;34m\u001b[0m\u001b[0m\n\u001b[0m\u001b[1;32m    116\u001b[0m         \u001b[0minvs\u001b[0m \u001b[0;34m=\u001b[0m \u001b[0;36m1.\u001b[0m \u001b[0;34m/\u001b[0m \u001b[0ms\u001b[0m\u001b[0;34m\u001b[0m\u001b[0;34m\u001b[0m\u001b[0m\n\u001b[1;32m    117\u001b[0m \u001b[0;34m\u001b[0m\u001b[0m\n",
            "\u001b[0;31mValueError\u001b[0m: Covariance of x singular!"
          ]
        }
      ]
    },
    {
      "cell_type": "code",
      "source": [
        "#diyelim ki manova testinde h0 red edildi.\n",
        "import pingouin as pg\n",
        "posthoc1=pg.pairwise_tukey(data=data,dv=\"performans\",between=\"mevkı\")\n",
        "posthoc2=pg.pairwise_tukey(data,dv=\"sahıplenme\",between=\"mevkı\")\n",
        "posthoc3=pg.pairwise_tukey(data,dv=\"performans\",between=\"departman\")\n",
        "posthoc4=pg.pairwise_tukey(data,dv=\"sahıplenme\",between=\"departman\")\n",
        "print(posthoc1)\n",
        "print(posthoc2)\n",
        "print(posthoc3)\n",
        "print(posthoc4)"
      ],
      "metadata": {
        "id": "4cIi-Wd1w-7N",
        "outputId": "67f5a898-4b3e-4b50-d8b9-dc33f3254f1b",
        "colab": {
          "base_uri": "https://localhost:8080/"
        }
      },
      "execution_count": 54,
      "outputs": [
        {
          "output_type": "stream",
          "name": "stdout",
          "text": [
            "   A  B    mean(A)    mean(B)      diff        se         T   p-tukey  \\\n",
            "0  A  B   8.625000  11.500000 -2.875000  3.136954 -0.916494  0.796285   \n",
            "1  A  C   8.625000  18.333333 -9.708333  3.136954 -3.094828  0.022703   \n",
            "2  A  D   8.625000  12.500000 -3.875000  2.755218 -1.406422  0.506757   \n",
            "3  B  C  11.500000  18.333333 -6.833333  3.353544 -2.037645  0.200448   \n",
            "4  B  D  11.500000  12.500000 -1.000000  2.999501 -0.333389  0.986929   \n",
            "5  C  D  18.333333  12.500000  5.833333  2.999501  1.944768  0.234713   \n",
            "\n",
            "     hedges  \n",
            "0 -0.435960  \n",
            "1 -1.756696  \n",
            "2 -0.643420  \n",
            "3 -1.064928  \n",
            "4 -0.150026  \n",
            "5  1.007124  \n",
            "   A  B    mean(A)    mean(B)      diff        se         T   p-tukey  \\\n",
            "0  A  B  13.375000  11.500000  1.875000  3.793183  0.494308  0.959654   \n",
            "1  A  C  13.375000  11.166667  2.208333  3.793183  0.582185  0.936552   \n",
            "2  A  D  13.375000   9.600000  3.775000  3.331590  1.133092  0.672882   \n",
            "3  B  C  11.500000  11.166667  0.333333  4.055083  0.082201  0.999795   \n",
            "4  B  D  11.500000   9.600000  1.900000  3.626976  0.523852  0.952560   \n",
            "5  C  D  11.166667   9.600000  1.566667  3.626976  0.431948  0.972438   \n",
            "\n",
            "     hedges  \n",
            "0  0.227342  \n",
            "1  0.295162  \n",
            "2  0.466512  \n",
            "3  0.053374  \n",
            "4  0.255158  \n",
            "5  0.232702  \n",
            "          A         B    mean(A)    mean(B)      diff        se         T  \\\n",
            "0      arge    fınans  15.000000  10.250000  4.750000  4.051501  1.172405   \n",
            "1      arge  muhasebe  15.000000  10.545455  4.454545  3.125284  1.425325   \n",
            "2      arge    uretım  15.000000  13.875000  1.125000  3.345417  0.336281   \n",
            "3    fınans  muhasebe  10.250000  10.545455 -0.295455  3.774140 -0.078284   \n",
            "4    fınans    uretım  10.250000  13.875000 -3.625000  3.958351 -0.915785   \n",
            "5  muhasebe    uretım  10.545455  13.875000 -3.329545  3.003545 -1.108539   \n",
            "\n",
            "    p-tukey    hedges  \n",
            "0  0.649112  0.652449  \n",
            "1  0.495512  0.627764  \n",
            "2  0.986596  0.185210  \n",
            "3  0.999823 -0.038983  \n",
            "4  0.796658 -0.561112  \n",
            "5  0.687591 -0.500087  \n",
            "          A         B    mean(A)    mean(B)      diff        se         T  \\\n",
            "0      arge    fınans  13.428571  12.500000  0.928571  4.278184  0.217048   \n",
            "1      arge  muhasebe  13.428571   8.545455  4.883117  3.300145  1.479667   \n",
            "2      arge    uretım  13.428571  12.625000  0.803571  3.532594  0.227473   \n",
            "3    fınans  muhasebe  12.500000   8.545455  3.954545  3.985304  0.992282   \n",
            "4    fınans    uretım  12.500000  12.625000 -0.125000  4.179822 -0.029906   \n",
            "5  muhasebe    uretım   8.545455  12.625000 -4.079545  3.171594 -1.286276   \n",
            "\n",
            "    p-tukey    hedges  \n",
            "0  0.996296  0.099539  \n",
            "1  0.463639  0.706930  \n",
            "2  0.995745  0.114865  \n",
            "3  0.755055  0.527282  \n",
            "4  0.999990 -0.016018  \n",
            "5  0.579530 -0.681034  \n"
          ]
        }
      ]
    },
    {
      "cell_type": "code",
      "source": [],
      "metadata": {
        "id": "nhy4FBJ0w_VO"
      },
      "execution_count": null,
      "outputs": []
    }
  ],
  "metadata": {
    "colab": {
      "name": "Colaboratory'ye Hoş Geldiniz",
      "provenance": [],
      "include_colab_link": true
    },
    "kernelspec": {
      "display_name": "Python 3",
      "name": "python3"
    }
  },
  "nbformat": 4,
  "nbformat_minor": 0
}