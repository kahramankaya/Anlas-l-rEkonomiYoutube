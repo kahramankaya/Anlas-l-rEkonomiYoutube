{
  "cells": [
    {
      "cell_type": "markdown",
      "metadata": {
        "id": "view-in-github",
        "colab_type": "text"
      },
      "source": [
        "<a href=\"https://colab.research.google.com/github/kahramankaya/Anlas-l-rEkonomiYoutube/blob/main/73.video(One-Way%20ANOVA).ipynb\" target=\"_parent\"><img src=\"https://colab.research.google.com/assets/colab-badge.svg\" alt=\"Open In Colab\"/></a>"
      ]
    },
    {
      "cell_type": "code",
      "source": [
        "#73.video(One-Way ANOVA)"
      ],
      "metadata": {
        "id": "oNYRQTsnAged"
      },
      "execution_count": null,
      "outputs": []
    },
    {
      "cell_type": "code",
      "source": [
        "#h0:fark yoktur\n",
        "#h1:fark vardır\n",
        "\n",
        "import pandas as pd\n",
        "from scipy import stats\n",
        "\n",
        "data = [[120, 130, 110],\n",
        "        [130, 120, 140],\n",
        "        [140, 140, 130],\n",
        "        [130, 130, 140],\n",
        "        [120, 140, 120],\n",
        "        [130, 120, 130],\n",
        "        [140, 130, 140],\n",
        "        [130, 140, 130],\n",
        "        [120, 120, 110],\n",
        "        [130, 130, 140]]\n",
        "\n",
        "df = pd.DataFrame(data)\n",
        "\n",
        "lıse = df.iloc[:, 0]\n",
        "unıversıte = df.iloc[:, 1]\n",
        "doktora = df.iloc[:, 2]\n",
        "\n",
        "#1.adım: normallık testını yap. 2.adım varyans homojenlıgıne bak. 3. adım anova testını uygula. 1 ve 2 saglandıgında 3 e gecılır. ben dırek uzamasın dıye 3. adımı yazdım.\n",
        "#yoksa shapiro ve barlett testlerini uygulalamalıyız.\n",
        "fvalue, pvalue = stats.f_oneway(lıse,unıversıte,doktora)\n",
        "#demek ki 0.05 ten buyukse o zaman h0 red edilmez. demek ki lıse unı ve doktora arasında kı ogrencılerın tv ızlme surelerı arasında bır fark yokmuş.\n",
        "print(fvalue, pvalue) \n"
      ],
      "metadata": {
        "id": "df9lpGx4hl4H",
        "outputId": "479b8e48-c4a6-4691-e532-45b1e9ae496d",
        "colab": {
          "base_uri": "https://localhost:8080/"
        }
      },
      "execution_count": 27,
      "outputs": [
        {
          "output_type": "stream",
          "name": "stdout",
          "text": [
            "0.037815126050420166 0.9629418411783708\n"
          ]
        }
      ]
    }
  ],
  "metadata": {
    "colab": {
      "name": "Colaboratory'ye Hoş Geldiniz",
      "provenance": [],
      "include_colab_link": true
    },
    "kernelspec": {
      "display_name": "Python 3",
      "name": "python3"
    }
  },
  "nbformat": 4,
  "nbformat_minor": 0
}