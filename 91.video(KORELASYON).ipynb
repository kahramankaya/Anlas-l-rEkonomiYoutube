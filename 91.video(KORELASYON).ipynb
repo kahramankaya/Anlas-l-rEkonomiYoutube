{
  "cells": [
    {
      "cell_type": "markdown",
      "metadata": {
        "id": "view-in-github",
        "colab_type": "text"
      },
      "source": [
        "<a href=\"https://colab.research.google.com/github/kahramankaya/Anlas-l-rEkonomiYoutube/blob/main/91.video(KORELASYON).ipynb\" target=\"_parent\"><img src=\"https://colab.research.google.com/assets/colab-badge.svg\" alt=\"Open In Colab\"/></a>"
      ]
    },
    {
      "cell_type": "code",
      "source": [
        "#91.video(KORELASYON):baglılık nedensellıgı ıfade etmez ancak nedenselliği aramak için en iyi aractır.\n",
        "#korelasyon sadece ıkısının arasında pozıtıf mı negatıf mı bır ılıskı oldugunu gosterır."
      ],
      "metadata": {
        "id": "6IlrLzdBVVb7"
      },
      "execution_count": null,
      "outputs": []
    },
    {
      "cell_type": "code",
      "source": [
        "#korelasyon posıtıf veya negatıf olması yonu belırtır.\n",
        "#korelasyon-1 ve +1 arasında degsır.\n",
        "#eger korelasyon :\n",
        "#0,00 ise ilişki yoktur.\n",
        "#0,01-0,29 arasında ise dusuk ilişiki.\n",
        "#0,30-0.0,70 arasında ise orta ilişki\n",
        "#0,71-0,99 arasında ise yuksek ilişki\n",
        "#1 ise mukemmel ilişki vardır.\n",
        "#bu degerlerın negatıf ıcınde aynıdır.\n",
        "#0.5-0.9 arasında ise korelasyonda nedensellik aranabilir.\n"
      ],
      "metadata": {
        "id": "aPxs4A0PVVXY"
      },
      "execution_count": null,
      "outputs": []
    }
  ],
  "metadata": {
    "colab": {
      "name": "Colaboratory'ye Hoş Geldiniz",
      "provenance": [],
      "include_colab_link": true
    },
    "kernelspec": {
      "display_name": "Python 3",
      "name": "python3"
    }
  },
  "nbformat": 4,
  "nbformat_minor": 0
}