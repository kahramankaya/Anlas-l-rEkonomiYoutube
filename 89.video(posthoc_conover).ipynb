{
  "cells": [
    {
      "cell_type": "markdown",
      "metadata": {
        "id": "view-in-github",
        "colab_type": "text"
      },
      "source": [
        "<a href=\"https://colab.research.google.com/github/kahramankaya/Anlas-l-rEkonomiYoutube/blob/main/89.video(posthoc_conover).ipynb\" target=\"_parent\"><img src=\"https://colab.research.google.com/assets/colab-badge.svg\" alt=\"Open In Colab\"/></a>"
      ]
    },
    {
      "cell_type": "code",
      "source": [
        "#(kruskal-wallis h testi):tek yonlu anova nın varsayımları olmadıgı zaman tek yonlu anova yerıne kullanılan testtır.\n",
        "#tek yonlu anova bır bagımlı-bır bagımsız ıkı degısken var ıse bagımsız degısken en az 3 gruptan olusuyorsa o zaman kullanılır.\n",
        "#eger orneklem sayısı az ıse normal dagılımda saglanmıyorsa tek yonlu anova yerıne kruskal testı kullanılır.\n"
      ],
      "metadata": {
        "id": "VcPSdBToZbQ-"
      },
      "execution_count": null,
      "outputs": []
    },
    {
      "cell_type": "code",
      "source": [
        "import pandas as pd\n",
        "import numpy as np\n",
        "np.random.seed(5)\n",
        "data = pd.DataFrame({\n",
        "    \"ılkyontem\": np.random.randint(1, 200, size=(10)),\n",
        "    \"ıkıncıyontem\": np.random.randint(1, 200, size=(10)),\n",
        "    \"ucuncuyontem\": np.random.randint(1, 200, size=(10)),\n",
        "})\n",
        "print(data)\n",
        "#bizim bu datayı melt ile tek degıskene atamamız lazım. boylece bu testi uygulayabılırız."
      ],
      "metadata": {
        "id": "ZiG3R3bpZbN6",
        "outputId": "669b03c4-c82b-493c-9704-0d48ecc1fe7a",
        "colab": {
          "base_uri": "https://localhost:8080/"
        }
      },
      "execution_count": 45,
      "outputs": [
        {
          "output_type": "stream",
          "name": "stdout",
          "text": [
            "   ılkyontem  ıkıncıyontem  ucuncuyontem\n",
            "0        100             8            87\n",
            "1        190           144           126\n",
            "2        119           114           147\n",
            "3        145           182           122\n",
            "4         74            81           138\n",
            "5          9            28           107\n",
            "6        191            45            42\n",
            "7        156            66           191\n",
            "8        113           176           130\n",
            "9        159            31           104\n"
          ]
        }
      ]
    },
    {
      "cell_type": "code",
      "source": [
        "veri=pd.melt(data,value_vars=[\"ılkyontem\",\"ıkıncıyontem\",\"ucuncuyontem\"])\n",
        "veri.columns=[\"yontem\",\"sonuc\"]\n",
        "print(veri)"
      ],
      "metadata": {
        "id": "7wrxsu8nZbHs",
        "outputId": "6b71f8b2-0676-493a-a155-6b1b26ee82b9",
        "colab": {
          "base_uri": "https://localhost:8080/"
        }
      },
      "execution_count": 47,
      "outputs": [
        {
          "output_type": "stream",
          "name": "stdout",
          "text": [
            "          yontem  sonuc\n",
            "0      ılkyontem    100\n",
            "1      ılkyontem    190\n",
            "2      ılkyontem    119\n",
            "3      ılkyontem    145\n",
            "4      ılkyontem     74\n",
            "5      ılkyontem      9\n",
            "6      ılkyontem    191\n",
            "7      ılkyontem    156\n",
            "8      ılkyontem    113\n",
            "9      ılkyontem    159\n",
            "10  ıkıncıyontem      8\n",
            "11  ıkıncıyontem    144\n",
            "12  ıkıncıyontem    114\n",
            "13  ıkıncıyontem    182\n",
            "14  ıkıncıyontem     81\n",
            "15  ıkıncıyontem     28\n",
            "16  ıkıncıyontem     45\n",
            "17  ıkıncıyontem     66\n",
            "18  ıkıncıyontem    176\n",
            "19  ıkıncıyontem     31\n",
            "20  ucuncuyontem     87\n",
            "21  ucuncuyontem    126\n",
            "22  ucuncuyontem    147\n",
            "23  ucuncuyontem    122\n",
            "24  ucuncuyontem    138\n",
            "25  ucuncuyontem    107\n",
            "26  ucuncuyontem     42\n",
            "27  ucuncuyontem    191\n",
            "28  ucuncuyontem    130\n",
            "29  ucuncuyontem    104\n"
          ]
        }
      ]
    },
    {
      "cell_type": "code",
      "source": [
        "import pingouin as pg\n",
        "normallık=pg.normality(veri,dv=\"sonuc\",group=\"yontem\")\n",
        "print(normallık)"
      ],
      "metadata": {
        "id": "G3u5FVJuccC0",
        "outputId": "79359ef5-27db-4d8f-ee1f-608b4da96d47",
        "colab": {
          "base_uri": "https://localhost:8080/"
        }
      },
      "execution_count": 51,
      "outputs": [
        {
          "output_type": "stream",
          "name": "stdout",
          "text": [
            "                     W      pval  normal\n",
            "yontem                                  \n",
            "ılkyontem     0.933487  0.483057    True\n",
            "ıkıncıyontem  0.917661  0.337859    True\n",
            "ucuncuyontem  0.964601  0.836781    True\n"
          ]
        }
      ]
    },
    {
      "cell_type": "code",
      "source": [
        "#orneklem sayısı az ve de varsayalım kı normallık saglanmadı h0 red edıldı . nonparametrık kruskal  h testi yapılır.\n",
        "kruskal=pg.kruskal(veri,dv=\"sonuc\",between=(\"yontem\"))\n",
        "#p unc degerıne bak. h0 red edilmedi.grupşar arasında fark yokmuş. olsaydı bu teste gore post-hoc testi kullanılırdı.\n",
        "print(kruskal)"
      ],
      "metadata": {
        "id": "KdKYau-CccJk",
        "outputId": "a3f2b391-c4e3-47a7-ab11-f3311c49368a",
        "colab": {
          "base_uri": "https://localhost:8080/"
        }
      },
      "execution_count": 57,
      "outputs": [
        {
          "output_type": "stream",
          "name": "stdout",
          "text": [
            "         Source  ddof1         H    p-unc\n",
            "Kruskal  yontem      2  2.618002  0.27009\n"
          ]
        }
      ]
    },
    {
      "cell_type": "code",
      "source": [
        "#varsayalım ki gruplar arasında fark oldu. post-hoc a gececegız.\n",
        "!pip install scikit_posthocs\n",
        "from scikit_posthocs import posthoc_conover\n",
        "posthoc=posthoc_conover(veri,val_col=\"sonuc\",group_col=\"yontem\",p_adjust=\"bonf\")\n",
        "print(posthoc)"
      ],
      "metadata": {
        "id": "0KoNF-VadWPH",
        "outputId": "7240ca0d-9528-4aa2-c753-1ad57a8d875d",
        "colab": {
          "base_uri": "https://localhost:8080/"
        }
      },
      "execution_count": 65,
      "outputs": [
        {
          "output_type": "stream",
          "name": "stdout",
          "text": [
            "Looking in indexes: https://pypi.org/simple, https://us-python.pkg.dev/colab-wheels/public/simple/\n",
            "Requirement already satisfied: scikit_posthocs in /usr/local/lib/python3.9/dist-packages (0.7.0)\n",
            "Requirement already satisfied: scipy in /usr/local/lib/python3.9/dist-packages (from scikit_posthocs) (1.10.1)\n",
            "Requirement already satisfied: statsmodels in /usr/local/lib/python3.9/dist-packages (from scikit_posthocs) (0.13.5)\n",
            "Requirement already satisfied: numpy in /usr/local/lib/python3.9/dist-packages (from scikit_posthocs) (1.22.4)\n",
            "Requirement already satisfied: matplotlib in /usr/local/lib/python3.9/dist-packages (from scikit_posthocs) (3.5.3)\n",
            "Requirement already satisfied: seaborn in /usr/local/lib/python3.9/dist-packages (from scikit_posthocs) (0.11.2)\n",
            "Requirement already satisfied: pandas>=0.20.0 in /usr/local/lib/python3.9/dist-packages (from scikit_posthocs) (1.3.5)\n",
            "Requirement already satisfied: pytz>=2017.3 in /usr/local/lib/python3.9/dist-packages (from pandas>=0.20.0->scikit_posthocs) (2022.7.1)\n",
            "Requirement already satisfied: python-dateutil>=2.7.3 in /usr/local/lib/python3.9/dist-packages (from pandas>=0.20.0->scikit_posthocs) (2.8.2)\n",
            "Requirement already satisfied: fonttools>=4.22.0 in /usr/local/lib/python3.9/dist-packages (from matplotlib->scikit_posthocs) (4.39.0)\n",
            "Requirement already satisfied: pillow>=6.2.0 in /usr/local/lib/python3.9/dist-packages (from matplotlib->scikit_posthocs) (8.4.0)\n",
            "Requirement already satisfied: pyparsing>=2.2.1 in /usr/local/lib/python3.9/dist-packages (from matplotlib->scikit_posthocs) (3.0.9)\n",
            "Requirement already satisfied: kiwisolver>=1.0.1 in /usr/local/lib/python3.9/dist-packages (from matplotlib->scikit_posthocs) (1.4.4)\n",
            "Requirement already satisfied: packaging>=20.0 in /usr/local/lib/python3.9/dist-packages (from matplotlib->scikit_posthocs) (23.0)\n",
            "Requirement already satisfied: cycler>=0.10 in /usr/local/lib/python3.9/dist-packages (from matplotlib->scikit_posthocs) (0.11.0)\n",
            "Requirement already satisfied: patsy>=0.5.2 in /usr/local/lib/python3.9/dist-packages (from statsmodels->scikit_posthocs) (0.5.3)\n",
            "Requirement already satisfied: six in /usr/local/lib/python3.9/dist-packages (from patsy>=0.5.2->statsmodels->scikit_posthocs) (1.15.0)\n",
            "              ucuncuyontem  ıkıncıyontem  ılkyontem\n",
            "ucuncuyontem      1.000000      0.698275   1.000000\n",
            "ıkıncıyontem      0.698275      1.000000   0.394938\n",
            "ılkyontem         1.000000      0.394938   1.000000\n"
          ]
        }
      ]
    },
    {
      "cell_type": "code",
      "source": [],
      "metadata": {
        "id": "Mk9n6JVPdWb1"
      },
      "execution_count": null,
      "outputs": []
    }
  ],
  "metadata": {
    "colab": {
      "name": "Colaboratory'ye Hoş Geldiniz",
      "provenance": [],
      "include_colab_link": true
    },
    "kernelspec": {
      "display_name": "Python 3",
      "name": "python3"
    }
  },
  "nbformat": 4,
  "nbformat_minor": 0
}