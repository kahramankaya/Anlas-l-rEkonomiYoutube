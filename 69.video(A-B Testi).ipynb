{
  "cells": [
    {
      "cell_type": "markdown",
      "metadata": {
        "id": "view-in-github",
        "colab_type": "text"
      },
      "source": [
        "<a href=\"https://colab.research.google.com/github/kahramankaya/Anlas-l-rEkonomiYoutube/blob/main/69.video(A-B%20Testi).ipynb\" target=\"_parent\"><img src=\"https://colab.research.google.com/assets/colab-badge.svg\" alt=\"Open In Colab\"/></a>"
      ]
    },
    {
      "cell_type": "code",
      "source": [
        "#69.video(A-B Testi)\n",
        "#ornek:deney grubuna eskı testı kontrol grubuna yenı testı uyguladık. bakalım bu test degısıklıgı ıle oransal olak bır degısıklık var mı bunu ogrenecegız.\n",
        "\n",
        "import pandas as pd\n",
        "import numpy as np\n",
        "from scipy import stats\n",
        "np.random.seed(5)\n",
        "\n",
        "list1=[]\n",
        "list2=[]\n",
        "list3=[]\n",
        "list4=[]\n",
        "\n",
        "for m in range(1500):\n",
        "  list1.append(\"kontrol\")\n",
        "for m in range(1500):\n",
        "  list2.append(\"deney\")\n",
        " \n",
        "\n",
        "list5=[]\n",
        "for m in range(3000): \n",
        "  list5.append(np.random.choice([0,1]))\n",
        "\n",
        "df1=pd.DataFrame(list1,columns=[\"grup\"])\n",
        "df2=pd.DataFrame(list2,columns=[\"grup\"])\n",
        "df3=pd.concat([df1,df2],axis=0,ignore_index=True)\n",
        "\n",
        "df7=pd.DataFrame(list5,columns=[\"satın_alma\"])\n",
        "\n",
        "for m in df3[\"grup\"]:\n",
        "  if m==\"kontrol\":\n",
        "    list3.append(\"yeni_tasarım\")\n",
        "  else:\n",
        "    list4.append(\"eski_tasarım\")\n",
        "\n",
        "df4=pd.DataFrame(list3,columns=[\"tasarım\"])\n",
        "df5=pd.DataFrame(list4,columns=[\"tasarım\"])\n",
        "df6=pd.concat([df4,df5],axis=0,ignore_index=True)\n",
        "\n",
        "\n",
        "data=pd.concat([df3,df6,df7],axis=1)\n",
        "\n",
        "#crosstab bize verileri capraz halli bilgisini verir.\n",
        "print(pd.crosstab(data[\"grup\"],data[\"tasarım\"]))\n",
        "\n",
        "\n",
        "#10.dk dayım\n",
        "\n",
        "\n"
      ],
      "metadata": {
        "id": "g6HAtGHWKw29",
        "outputId": "87ee9498-0c98-4537-aaa7-e98b7f19e543",
        "colab": {
          "base_uri": "https://localhost:8080/"
        }
      },
      "execution_count": null,
      "outputs": [
        {
          "output_type": "stream",
          "name": "stdout",
          "text": [
            "tasarım  eski_tasarım  yeni_tasarım\n",
            "grup                               \n",
            "deney            1500             0\n",
            "kontrol             0          1500\n"
          ]
        }
      ]
    }
  ],
  "metadata": {
    "colab": {
      "name": "Colaboratory'ye Hoş Geldiniz",
      "provenance": [],
      "include_colab_link": true
    },
    "kernelspec": {
      "display_name": "Python 3",
      "name": "python3"
    }
  },
  "nbformat": 4,
  "nbformat_minor": 0
}