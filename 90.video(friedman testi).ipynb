{
  "cells": [
    {
      "cell_type": "markdown",
      "metadata": {
        "id": "view-in-github",
        "colab_type": "text"
      },
      "source": [
        "<a href=\"https://colab.research.google.com/github/kahramankaya/Anlas-l-rEkonomiYoutube/blob/main/90.video(friedman%20testi).ipynb\" target=\"_parent\"><img src=\"https://colab.research.google.com/assets/colab-badge.svg\" alt=\"Open In Colab\"/></a>"
      ]
    },
    {
      "cell_type": "code",
      "source": [
        "#90.video(friedman testi)sıralamalı iki yönlü varyans analizi:tek yonlu tekrarlı anova nın non-parametrikte karsılıgı dır"
      ],
      "metadata": {
        "id": "fINNlOm-jinW"
      },
      "execution_count": null,
      "outputs": []
    },
    {
      "cell_type": "code",
      "source": [
        "import pandas as pd\n",
        "import numpy as np\n",
        "data=pd.DataFrame(\n",
        "{\n",
        "\"kısıler\":[\"A\",\"B\",\"C\",\"D\",\"X\",\"Y\"],\n",
        "\"testoncesı\":np.random.randint(1000,size=(6)) ,  \n",
        "\"testsonrası1\":np.random.randint(1000,size=(6)),\n",
        "\"testsonrası2\":np.random.randint(1000,size=(6)),\n",
        "\"testsonrası3\":np.random.randint(1000,size=(6)),\n",
        "}\n",
        ")\n",
        "print(data)"
      ],
      "metadata": {
        "id": "lqO0ki5Sji_F",
        "outputId": "4c87c7f5-58e9-4986-9e98-fb7013956ea1",
        "colab": {
          "base_uri": "https://localhost:8080/"
        }
      },
      "execution_count": 69,
      "outputs": [
        {
          "output_type": "stream",
          "name": "stdout",
          "text": [
            "  kısıler  testoncesı  testsonrası1  testsonrası2  testsonrası3\n",
            "0       A         144           900           799           147\n",
            "1       B         974           110           770           274\n",
            "2       C           5           676           324           881\n",
            "3       D         826           873           294           245\n",
            "4       X         768           691           105           135\n",
            "5       Y         976           539           979           868\n"
          ]
        }
      ]
    },
    {
      "cell_type": "code",
      "source": [
        "veri=pd.melt(data,id_vars=[\"kısıler\"],value_vars=[\"testoncesı\",\"testsonrası1\",\"testsonrası2\",\"testsonrası3\"])\n",
        "veri.columns=[\"kısıler\",\"testler\",\"degerler\"]\n",
        "print(veri)"
      ],
      "metadata": {
        "id": "pLE47hPTjjGk",
        "outputId": "450aae03-7207-407d-a829-3d1be14158d2",
        "colab": {
          "base_uri": "https://localhost:8080/"
        }
      },
      "execution_count": 71,
      "outputs": [
        {
          "output_type": "stream",
          "name": "stdout",
          "text": [
            "   kısıler       testler  degerler\n",
            "0        A    testoncesı       144\n",
            "1        B    testoncesı       974\n",
            "2        C    testoncesı         5\n",
            "3        D    testoncesı       826\n",
            "4        X    testoncesı       768\n",
            "5        Y    testoncesı       976\n",
            "6        A  testsonrası1       900\n",
            "7        B  testsonrası1       110\n",
            "8        C  testsonrası1       676\n",
            "9        D  testsonrası1       873\n",
            "10       X  testsonrası1       691\n",
            "11       Y  testsonrası1       539\n",
            "12       A  testsonrası2       799\n",
            "13       B  testsonrası2       770\n",
            "14       C  testsonrası2       324\n",
            "15       D  testsonrası2       294\n",
            "16       X  testsonrası2       105\n",
            "17       Y  testsonrası2       979\n",
            "18       A  testsonrası3       147\n",
            "19       B  testsonrası3       274\n",
            "20       C  testsonrası3       881\n",
            "21       D  testsonrası3       245\n",
            "22       X  testsonrası3       135\n",
            "23       Y  testsonrası3       868\n"
          ]
        }
      ]
    },
    {
      "cell_type": "code",
      "source": [
        "from scipy import stats\n",
        "normallık=stats.shapiro(veri[\"degerler\"])\n",
        "#normal dagılım degıl. ornek saysıda az old ıcın friedman a gecebiliriz.\n",
        "print(normallık)"
      ],
      "metadata": {
        "id": "pft5f8pMjjJv",
        "outputId": "3aa68e78-7995-4f85-9370-49cce7f9a32d",
        "colab": {
          "base_uri": "https://localhost:8080/"
        }
      },
      "execution_count": 74,
      "outputs": [
        {
          "output_type": "stream",
          "name": "stdout",
          "text": [
            "ShapiroResult(statistic=0.86805260181427, pvalue=0.0048194099217653275)\n"
          ]
        }
      ]
    },
    {
      "cell_type": "code",
      "source": [],
      "metadata": {
        "id": "fqP6UjXdu5AA"
      },
      "execution_count": null,
      "outputs": []
    },
    {
      "cell_type": "code",
      "source": [],
      "metadata": {
        "id": "V2fYGO1Xu5HA"
      },
      "execution_count": null,
      "outputs": []
    }
  ],
  "metadata": {
    "colab": {
      "name": "Colaboratory'ye Hoş Geldiniz",
      "provenance": [],
      "include_colab_link": true
    },
    "kernelspec": {
      "display_name": "Python 3",
      "name": "python3"
    }
  },
  "nbformat": 4,
  "nbformat_minor": 0
}