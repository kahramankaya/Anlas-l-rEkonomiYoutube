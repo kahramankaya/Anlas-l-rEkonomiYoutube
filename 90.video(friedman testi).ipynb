{
  "cells": [
    {
      "cell_type": "markdown",
      "metadata": {
        "id": "view-in-github",
        "colab_type": "text"
      },
      "source": [
        "<a href=\"https://colab.research.google.com/github/kahramankaya/Anlas-l-rEkonomiYoutube/blob/main/90.video(friedman%20testi).ipynb\" target=\"_parent\"><img src=\"https://colab.research.google.com/assets/colab-badge.svg\" alt=\"Open In Colab\"/></a>"
      ]
    },
    {
      "cell_type": "code",
      "source": [
        "#90.video(friedman testi)sıralamalı iki yönlü varyans analizi:tek yonlu tekrarlı anova nın non-parametrikte karsılıgı dır"
      ],
      "metadata": {
        "id": "fINNlOm-jinW"
      },
      "execution_count": null,
      "outputs": []
    },
    {
      "cell_type": "code",
      "source": [
        "import pandas as pd\n",
        "import numpy as np\n",
        "np.random.seed(5)\n",
        "data=pd.DataFrame(\n",
        "{\n",
        "\"kısıler\":[\"A\",\"B\",\"C\",\"D\",\"X\",\"Y\"],\n",
        "\"testoncesı\":np.random.randint(1000,size=(6)) ,  \n",
        "\"testsonrası1\":np.random.randint(1000,size=(6)),\n",
        "\"testsonrası2\":np.random.randint(1000,size=(6)),\n",
        "\"testsonrası3\":np.random.randint(1000,size=(6)),\n",
        "}\n",
        ")\n",
        "print(data)"
      ],
      "metadata": {
        "id": "lqO0ki5Sji_F",
        "outputId": "e0192bcc-8f92-4d7b-92c2-e40791984734",
        "colab": {
          "base_uri": "https://localhost:8080/"
        }
      },
      "execution_count": 18,
      "outputs": [
        {
          "output_type": "stream",
          "name": "stdout",
          "text": [
            "  kısıler  testoncesı  testsonrası1  testsonrası2  testsonrası3\n",
            "0       A         867            73           624           113\n",
            "1       B         206             8           670           437\n",
            "2       C         701           740           720           999\n",
            "3       D         998           743           519            80\n",
            "4       X         118           958           204            27\n",
            "5       Y         400           411           911            44\n"
          ]
        }
      ]
    },
    {
      "cell_type": "code",
      "source": [
        "# pingouin ile de normalliğe baktık yukarda stats ile de baktık.\n",
        "veri=pd.melt(data,id_vars=[\"kısıler\"],value_vars=[\"testoncesı\",\"testsonrası1\",\"testsonrası2\",\"testsonrası3\"])\n",
        "veri.columns=[\"kısıler\",\"testler\",\"degerler\"]\n",
        "print(veri)"
      ],
      "metadata": {
        "id": "pLE47hPTjjGk",
        "outputId": "68d70ab9-54a1-43df-ec6f-d37e99c7d7d9",
        "colab": {
          "base_uri": "https://localhost:8080/"
        }
      },
      "execution_count": 19,
      "outputs": [
        {
          "output_type": "stream",
          "name": "stdout",
          "text": [
            "   kısıler       testler  degerler\n",
            "0        A    testoncesı       867\n",
            "1        B    testoncesı       206\n",
            "2        C    testoncesı       701\n",
            "3        D    testoncesı       998\n",
            "4        X    testoncesı       118\n",
            "5        Y    testoncesı       400\n",
            "6        A  testsonrası1        73\n",
            "7        B  testsonrası1         8\n",
            "8        C  testsonrası1       740\n",
            "9        D  testsonrası1       743\n",
            "10       X  testsonrası1       958\n",
            "11       Y  testsonrası1       411\n",
            "12       A  testsonrası2       624\n",
            "13       B  testsonrası2       670\n",
            "14       C  testsonrası2       720\n",
            "15       D  testsonrası2       519\n",
            "16       X  testsonrası2       204\n",
            "17       Y  testsonrası2       911\n",
            "18       A  testsonrası3       113\n",
            "19       B  testsonrası3       437\n",
            "20       C  testsonrası3       999\n",
            "21       D  testsonrası3        80\n",
            "22       X  testsonrası3        27\n",
            "23       Y  testsonrası3        44\n"
          ]
        }
      ]
    },
    {
      "cell_type": "code",
      "source": [
        "from scipy import stats\n",
        "normallık=stats.shapiro(veri[\"degerler\"])\n",
        "#normal dagılım degıl. ornek saysıda az old ıcın friedman a gecebiliriz.\n",
        "print(normallık)"
      ],
      "metadata": {
        "id": "pft5f8pMjjJv",
        "outputId": "2c56d6c9-7cb0-40fc-ac9e-0d118bf8a7a7",
        "colab": {
          "base_uri": "https://localhost:8080/"
        }
      },
      "execution_count": 20,
      "outputs": [
        {
          "output_type": "stream",
          "name": "stdout",
          "text": [
            "ShapiroResult(statistic=0.9063103795051575, pvalue=0.029355600476264954)\n"
          ]
        }
      ]
    },
    {
      "cell_type": "code",
      "source": [
        "!pip install pingouin\n",
        "import pingouin as pg\n",
        "pgG=pg.normality(veri,group=\"testler\",dv=\"degerler\")\n",
        "print(pgG)"
      ],
      "metadata": {
        "id": "fqP6UjXdu5AA",
        "outputId": "83831367-0700-4c12-aed3-4df3059fdfd4",
        "colab": {
          "base_uri": "https://localhost:8080/"
        }
      },
      "execution_count": 27,
      "outputs": [
        {
          "output_type": "stream",
          "name": "stdout",
          "text": [
            "Looking in indexes: https://pypi.org/simple, https://us-python.pkg.dev/colab-wheels/public/simple/\n",
            "Requirement already satisfied: pingouin in /usr/local/lib/python3.9/dist-packages (0.5.3)\n",
            "Requirement already satisfied: statsmodels>=0.13 in /usr/local/lib/python3.9/dist-packages (from pingouin) (0.13.5)\n",
            "Requirement already satisfied: scikit-learn in /usr/local/lib/python3.9/dist-packages (from pingouin) (1.2.2)\n",
            "Requirement already satisfied: tabulate in /usr/local/lib/python3.9/dist-packages (from pingouin) (0.8.10)\n",
            "Requirement already satisfied: outdated in /usr/local/lib/python3.9/dist-packages (from pingouin) (0.2.2)\n",
            "Requirement already satisfied: pandas>=1.0 in /usr/local/lib/python3.9/dist-packages (from pingouin) (1.4.4)\n",
            "Requirement already satisfied: pandas-flavor>=0.2.0 in /usr/local/lib/python3.9/dist-packages (from pingouin) (0.5.0)\n",
            "Requirement already satisfied: numpy>=1.19 in /usr/local/lib/python3.9/dist-packages (from pingouin) (1.22.4)\n",
            "Requirement already satisfied: matplotlib>=3.0.2 in /usr/local/lib/python3.9/dist-packages (from pingouin) (3.5.3)\n",
            "Requirement already satisfied: scipy>=1.7 in /usr/local/lib/python3.9/dist-packages (from pingouin) (1.10.1)\n",
            "Requirement already satisfied: seaborn>=0.11 in /usr/local/lib/python3.9/dist-packages (from pingouin) (0.11.2)\n",
            "Requirement already satisfied: cycler>=0.10 in /usr/local/lib/python3.9/dist-packages (from matplotlib>=3.0.2->pingouin) (0.11.0)\n",
            "Requirement already satisfied: fonttools>=4.22.0 in /usr/local/lib/python3.9/dist-packages (from matplotlib>=3.0.2->pingouin) (4.39.0)\n",
            "Requirement already satisfied: packaging>=20.0 in /usr/local/lib/python3.9/dist-packages (from matplotlib>=3.0.2->pingouin) (23.0)\n",
            "Requirement already satisfied: pyparsing>=2.2.1 in /usr/local/lib/python3.9/dist-packages (from matplotlib>=3.0.2->pingouin) (3.0.9)\n",
            "Requirement already satisfied: pillow>=6.2.0 in /usr/local/lib/python3.9/dist-packages (from matplotlib>=3.0.2->pingouin) (8.4.0)\n",
            "Requirement already satisfied: python-dateutil>=2.7 in /usr/local/lib/python3.9/dist-packages (from matplotlib>=3.0.2->pingouin) (2.8.2)\n",
            "Requirement already satisfied: kiwisolver>=1.0.1 in /usr/local/lib/python3.9/dist-packages (from matplotlib>=3.0.2->pingouin) (1.4.4)\n",
            "Requirement already satisfied: pytz>=2020.1 in /usr/local/lib/python3.9/dist-packages (from pandas>=1.0->pingouin) (2022.7.1)\n",
            "Requirement already satisfied: lazy-loader>=0.1 in /usr/local/lib/python3.9/dist-packages (from pandas-flavor>=0.2.0->pingouin) (0.1)\n",
            "Requirement already satisfied: xarray in /usr/local/lib/python3.9/dist-packages (from pandas-flavor>=0.2.0->pingouin) (2022.12.0)\n",
            "Requirement already satisfied: patsy>=0.5.2 in /usr/local/lib/python3.9/dist-packages (from statsmodels>=0.13->pingouin) (0.5.3)\n",
            "Requirement already satisfied: littleutils in /usr/local/lib/python3.9/dist-packages (from outdated->pingouin) (0.2.2)\n",
            "Requirement already satisfied: requests in /usr/local/lib/python3.9/dist-packages (from outdated->pingouin) (2.25.1)\n",
            "Requirement already satisfied: setuptools>=44 in /usr/local/lib/python3.9/dist-packages (from outdated->pingouin) (57.4.0)\n",
            "Requirement already satisfied: joblib>=1.1.1 in /usr/local/lib/python3.9/dist-packages (from scikit-learn->pingouin) (1.1.1)\n",
            "Requirement already satisfied: threadpoolctl>=2.0.0 in /usr/local/lib/python3.9/dist-packages (from scikit-learn->pingouin) (3.1.0)\n",
            "Requirement already satisfied: six in /usr/local/lib/python3.9/dist-packages (from patsy>=0.5.2->statsmodels>=0.13->pingouin) (1.15.0)\n",
            "Requirement already satisfied: idna<3,>=2.5 in /usr/local/lib/python3.9/dist-packages (from requests->outdated->pingouin) (2.10)\n",
            "Requirement already satisfied: chardet<5,>=3.0.2 in /usr/local/lib/python3.9/dist-packages (from requests->outdated->pingouin) (4.0.0)\n",
            "Requirement already satisfied: certifi>=2017.4.17 in /usr/local/lib/python3.9/dist-packages (from requests->outdated->pingouin) (2022.12.7)\n",
            "Requirement already satisfied: urllib3<1.27,>=1.21.1 in /usr/local/lib/python3.9/dist-packages (from requests->outdated->pingouin) (1.26.14)\n",
            "                     W      pval  normal\n",
            "testler                                 \n",
            "testoncesı    0.928984  0.572276    True\n",
            "testsonrası1  0.904348  0.400268    True\n",
            "testsonrası2  0.948855  0.731000    True\n",
            "testsonrası3  0.747376  0.018774   False\n"
          ]
        }
      ]
    },
    {
      "cell_type": "code",
      "source": [
        "#friedman testi\n",
        "fr=pg.friedman(data=veri,dv=\"degerler\",within=\"testler\",subject=\"kısıler\")\n",
        "#p-unc degerıne bak.h0 red edilmedi. yani test sonrasında yapılan testlerın test oncesınde bır farklılıgı yoktur.\n",
        "print(fr)"
      ],
      "metadata": {
        "id": "9QzWHtDRL6Fw",
        "outputId": "54ba1130-0a2d-4a10-90ed-82d336a54bbb",
        "colab": {
          "base_uri": "https://localhost:8080/"
        }
      },
      "execution_count": 30,
      "outputs": [
        {
          "output_type": "stream",
          "name": "stdout",
          "text": [
            "           Source    W  ddof1    Q     p-unc\n",
            "Friedman  testler  0.1      3  1.8  0.614935\n"
          ]
        }
      ]
    },
    {
      "cell_type": "code",
      "source": [
        "#eger yukarda h0 red edilseydı bunu varsayarak yola cıkarsak posthoc uygulamalıyız. bu yapı array ile daha iyi çalıştıgından datayı arraya cevırmem gereklı.\n",
        "!pip install scikit_posthocs\n",
        "from scikit_posthocs import posthoc_conover_friedman\n",
        "import numpy as np\n",
        "arr=np.array([data[\"testoncesı\"],data[\"testsonrası1\"],data[\"testsonrası2\"],data[\"testsonrası3\"]])\n",
        "print(arr)\n",
        "print(posthoc_conover_friedman(arr,p_adjust=\"bonf\"))\n",
        "#cıkan sonucta  rakamlar 0,1,2,3 aslında testoncesı,testsonrası1... bunları ısfade eden bır matrıx yapısını verdı.\n",
        "#ve degerler 0.05 ten buyuk oldugu ıcın gruplar arasında bır farklılık olmadıgını gosterdı. zaten frıedman testı farklılık olmadıgını soylemıstı."
      ],
      "metadata": {
        "id": "qJOWZ0znL6NI",
        "outputId": "fe36ab51-999d-4924-fa29-94cf13bc7dc6",
        "colab": {
          "base_uri": "https://localhost:8080/"
        }
      },
      "execution_count": 35,
      "outputs": [
        {
          "output_type": "stream",
          "name": "stdout",
          "text": [
            "Looking in indexes: https://pypi.org/simple, https://us-python.pkg.dev/colab-wheels/public/simple/\n",
            "Requirement already satisfied: scikit_posthocs in /usr/local/lib/python3.9/dist-packages (0.7.0)\n",
            "Requirement already satisfied: scipy in /usr/local/lib/python3.9/dist-packages (from scikit_posthocs) (1.10.1)\n",
            "Requirement already satisfied: numpy in /usr/local/lib/python3.9/dist-packages (from scikit_posthocs) (1.22.4)\n",
            "Requirement already satisfied: matplotlib in /usr/local/lib/python3.9/dist-packages (from scikit_posthocs) (3.5.3)\n",
            "Requirement already satisfied: seaborn in /usr/local/lib/python3.9/dist-packages (from scikit_posthocs) (0.11.2)\n",
            "Requirement already satisfied: pandas>=0.20.0 in /usr/local/lib/python3.9/dist-packages (from scikit_posthocs) (1.4.4)\n",
            "Requirement already satisfied: statsmodels in /usr/local/lib/python3.9/dist-packages (from scikit_posthocs) (0.13.5)\n",
            "Requirement already satisfied: python-dateutil>=2.8.1 in /usr/local/lib/python3.9/dist-packages (from pandas>=0.20.0->scikit_posthocs) (2.8.2)\n",
            "Requirement already satisfied: pytz>=2020.1 in /usr/local/lib/python3.9/dist-packages (from pandas>=0.20.0->scikit_posthocs) (2022.7.1)\n",
            "Requirement already satisfied: packaging>=20.0 in /usr/local/lib/python3.9/dist-packages (from matplotlib->scikit_posthocs) (23.0)\n",
            "Requirement already satisfied: pillow>=6.2.0 in /usr/local/lib/python3.9/dist-packages (from matplotlib->scikit_posthocs) (8.4.0)\n",
            "Requirement already satisfied: fonttools>=4.22.0 in /usr/local/lib/python3.9/dist-packages (from matplotlib->scikit_posthocs) (4.39.0)\n",
            "Requirement already satisfied: cycler>=0.10 in /usr/local/lib/python3.9/dist-packages (from matplotlib->scikit_posthocs) (0.11.0)\n",
            "Requirement already satisfied: kiwisolver>=1.0.1 in /usr/local/lib/python3.9/dist-packages (from matplotlib->scikit_posthocs) (1.4.4)\n",
            "Requirement already satisfied: pyparsing>=2.2.1 in /usr/local/lib/python3.9/dist-packages (from matplotlib->scikit_posthocs) (3.0.9)\n",
            "Requirement already satisfied: patsy>=0.5.2 in /usr/local/lib/python3.9/dist-packages (from statsmodels->scikit_posthocs) (0.5.3)\n",
            "Requirement already satisfied: six in /usr/local/lib/python3.9/dist-packages (from patsy>=0.5.2->statsmodels->scikit_posthocs) (1.15.0)\n",
            "[[867 206 701 998 118 400]\n",
            " [ 73   8 740 743 958 411]\n",
            " [624 670 720 519 204 911]\n",
            " [113 437 999  80  27  44]]\n",
            "     0    1    2    3    4    5\n",
            "0  1.0  1.0  1.0  1.0  1.0  1.0\n",
            "1  1.0  1.0  1.0  1.0  1.0  1.0\n",
            "2  1.0  1.0  1.0  1.0  1.0  1.0\n",
            "3  1.0  1.0  1.0  1.0  1.0  1.0\n",
            "4  1.0  1.0  1.0  1.0  1.0  1.0\n",
            "5  1.0  1.0  1.0  1.0  1.0  1.0\n"
          ]
        }
      ]
    }
  ],
  "metadata": {
    "colab": {
      "name": "Colaboratory'ye Hoş Geldiniz",
      "provenance": [],
      "include_colab_link": true
    },
    "kernelspec": {
      "display_name": "Python 3",
      "name": "python3"
    }
  },
  "nbformat": 4,
  "nbformat_minor": 0
}