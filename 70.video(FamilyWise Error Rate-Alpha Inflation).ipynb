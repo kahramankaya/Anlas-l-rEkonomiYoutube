{
  "cells": [
    {
      "cell_type": "markdown",
      "metadata": {
        "id": "view-in-github",
        "colab_type": "text"
      },
      "source": [
        "<a href=\"https://colab.research.google.com/github/kahramankaya/Anlas-l-rEkonomiYoutube/blob/main/70.video(FamilyWise%20Error%20Rate-Alpha%20Inflation).ipynb\" target=\"_parent\"><img src=\"https://colab.research.google.com/assets/colab-badge.svg\" alt=\"Open In Colab\"/></a>"
      ]
    },
    {
      "cell_type": "code",
      "source": [
        "#70.video(FamilyWise Error Rate-Alpha Inflation):bız sımdıye kadar ıkı gruba kadar testlerımızı uyguladık. \n",
        "#mesela erkek ve kadınlar ıkı grub ama yaptıgımız bır arastırmanın ilkokul,ortaokul,lise,lısans gıbı bır suru olunca bunlar ustunde t testı uygulayamıyoruz.\n",
        "# aslında t testını coklu gruba soyle uygulayabılırız. grubu ıkılı ıkılı alıp oyle yaparız ama bu da uzun oldugu ıcın ANNOVA testı uyguluyoruz.\n",
        "# ve test uyguladıgımız zamanlarda alfa hata yuzde 5 idi ama bu tek grub ya da ıkı grub olunca boyle. coklu gruba gecınce bu hata payı degısıyor.\n",
        "#nasıl kı bır baranın 1 kere ve 10 kere atılmasında yazı cıkma olasılıgı farklı ıse burada da hata payı yuzde 5 ten farklı olyor. \n",
        "#test sayısı arttıkca bu hata payı degsııyor yanı. hıpotez sayısı arttıkca hata payı da artıyor.\n",
        "# İŞTE BU HATA PAYI ARTTIGI ICIN BIZ T TESTI KULLANMAYIP BUNUN YERINE ANNOVA TESTI KULLANIYORUZ.\n"
      ],
      "metadata": {
        "id": "6XqsFRer98jR"
      },
      "execution_count": null,
      "outputs": []
    },
    {
      "cell_type": "code",
      "source": [],
      "metadata": {
        "id": "_ml2ys5t9-EV"
      },
      "execution_count": null,
      "outputs": []
    }
  ],
  "metadata": {
    "colab": {
      "name": "Colaboratory'ye Hoş Geldiniz",
      "provenance": [],
      "include_colab_link": true
    },
    "kernelspec": {
      "display_name": "Python 3",
      "name": "python3"
    }
  },
  "nbformat": 4,
  "nbformat_minor": 0
}