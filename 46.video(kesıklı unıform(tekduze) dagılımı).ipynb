{
  "cells": [
    {
      "cell_type": "markdown",
      "metadata": {
        "id": "view-in-github",
        "colab_type": "text"
      },
      "source": [
        "<a href=\"https://colab.research.google.com/github/kahramankaya/Anlas-l-rEkonomiYoutube/blob/main/46.video(kes%C4%B1kl%C4%B1%20un%C4%B1form(tekduze)%20dag%C4%B1l%C4%B1m%C4%B1).ipynb\" target=\"_parent\"><img src=\"https://colab.research.google.com/assets/colab-badge.svg\" alt=\"Open In Colab\"/></a>"
      ]
    },
    {
      "cell_type": "code",
      "source": [
        "46.video(kesıklı unıform(tekduze) dagılımı)\n",
        "# unıform dagılımı hem kesıklı hemde ureklı ıcın kullanılan bır dagılımdır.\n",
        "# unıform dagılımının tanımını bılıyorum ek olarak bakmak ıstyorsun wıkıpedıadan bakabılırsın."
      ],
      "metadata": {
        "id": "KBBJRI0MbzOM"
      },
      "execution_count": null,
      "outputs": []
    },
    {
      "cell_type": "code",
      "source": [
        "# ornek zar ornegı.\n",
        "from scipy import stats\n",
        "n=6\n",
        "dağilim=stats.randint(1,n+1) # randınt yerıne unıform yazma sorun cıkar. cunku kesıklı ve sureklı ıcın farklı unıform yapıları mevcuttur. n+1 dememın nedenı şu: demez isem 6 dahıl edılmedıgı ıcın yanlıs sonuc cıkar. 6 dahıl edılmesı ıcın +1 ekledım.\n",
        "p0=dağilim.pmf(k=5) # 5 gelme olasılıgı.\n",
        "print(p0)\n",
        "print(dağilim.expect()) # beklenen deger hesaplama\n",
        "print(dağilim.var()) # varyans hesaplama.\n",
        "print(dağilim.cdf(x=2)*100) # zarın yuzeyınının 3 ten kucuk gelme olasıgı dır bu.\n",
        "\n"
      ],
      "metadata": {
        "id": "OmwLi_5pbzRd",
        "outputId": "f50d4c85-7177-4383-ff4b-9905abdc93d0",
        "colab": {
          "base_uri": "https://localhost:8080/"
        }
      },
      "execution_count": 28,
      "outputs": [
        {
          "output_type": "stream",
          "name": "stdout",
          "text": [
            "0.16666666666666666\n",
            "3.5\n",
            "2.9166666666666665\n",
            "33.33333333333333\n"
          ]
        }
      ]
    },
    {
      "cell_type": "code",
      "source": [],
      "metadata": {
        "id": "9D4uG0s1bz67"
      },
      "execution_count": null,
      "outputs": []
    }
  ],
  "metadata": {
    "colab": {
      "name": "Colaboratory'ye Hoş Geldiniz",
      "provenance": [],
      "include_colab_link": true
    },
    "kernelspec": {
      "display_name": "Python 3",
      "name": "python3"
    }
  },
  "nbformat": 4,
  "nbformat_minor": 0
}