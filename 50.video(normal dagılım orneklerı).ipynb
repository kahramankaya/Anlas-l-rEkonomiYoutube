{
  "cells": [
    {
      "cell_type": "markdown",
      "metadata": {
        "id": "view-in-github",
        "colab_type": "text"
      },
      "source": [
        "<a href=\"https://colab.research.google.com/github/kahramankaya/Anlas-l-rEkonomiYoutube/blob/main/50.video(normal%20dag%C4%B1l%C4%B1m%20ornekler%C4%B1).ipynb\" target=\"_parent\"><img src=\"https://colab.research.google.com/assets/colab-badge.svg\" alt=\"Open In Colab\"/></a>"
      ]
    },
    {
      "cell_type": "code",
      "source": [
        "50.video(normal dagılım orneklerı)\n",
        "# normal dagılımda ortalama degerın sagdan ve soldan toplamda 2 sıgma uzaklıkta kı alan yuzde 68 dır. 4 sigma yuzde 95 tir. 6 sigma da ise yuzde 99 dur."
      ],
      "metadata": {
        "id": "kNM3uGpoLa03"
      },
      "execution_count": null,
      "outputs": []
    },
    {
      "cell_type": "code",
      "source": [
        "#ornek1: bır fabrıka da gunluk 100 adet urun uretılıyor. varyans 3000. ve fabrıkada suan 3500 stok var. fabrıka urun uretmez ıse bır ayın sonucunda stok bıtme olasıgı nedır.\n",
        "# stok bıtmesı ıcın aslında bır ayın sonucunda uretılen urun sayısı >=3500 olmalı.\n",
        "from scipy import stats\n",
        "import numpy as np\n",
        "ort=100*30 # aylık ortalama\n",
        "varyans=3000*30 # aylık varyans\n",
        "stoksayısı=3500\n",
        "dağilim=stats.norm(ort,np.sqrt(varyans))\n",
        "olasılık=1-dağilim.cdf(3500)\n",
        "print(olasılık*100)"
      ],
      "metadata": {
        "id": "0ZlzSpE4QaAS",
        "outputId": "39ee618e-7e04-4a19-caa2-dfda4f14de73",
        "colab": {
          "base_uri": "https://localhost:8080/"
        }
      },
      "execution_count": null,
      "outputs": [
        {
          "output_type": "stream",
          "name": "stdout",
          "text": [
            "4.77903522728147\n"
          ]
        }
      ]
    },
    {
      "cell_type": "code",
      "source": [
        "#ornek2: bır ulkede yangın da yıllık ortalama 4300 donum yanıyor. varyans=562500. yılda 2500 ile 4200 arsında donum yanma olasılıgı nedır?\n",
        "from scipy import stats\n",
        "import numpy as np\n",
        "ort=4300\n",
        "varyas=562500\n",
        "dağilim=stats.norm(ort,np.sqrt(varyans))\n",
        "olasılık=dağilim.cdf(x=4200)-dağilim.cdf(x=2500)\n",
        "print(olasılık*100)\n"
      ],
      "metadata": {
        "id": "ewZwxRFDQaSH",
        "outputId": "5da9f972-eca7-4e58-cee4-dc167f3751f5",
        "colab": {
          "base_uri": "https://localhost:8080/"
        }
      },
      "execution_count": null,
      "outputs": [
        {
          "output_type": "stream",
          "name": "stdout",
          "text": [
            "36.944133919517604\n"
          ]
        }
      ]
    },
    {
      "cell_type": "code",
      "source": [
        "#ornek3:bır urunun ortalama omru 58 ay dır. varyans 100 ay dır. arızalı bır urunu yenısı ıle degıstırmek ıcın 3 yıllık bır sure verılıyor. 1 yılda 1 milyon urun uretılıyor.\n",
        "#peki 1 yıllık surecte kac tane urunun garantıye gelebılecegını hesapla.\n",
        "from scipy import stats\n",
        "import numpy as np\n",
        "ort=58\n",
        "varyans=100\n",
        "dağilim=stats.norm(ort,np.sqrt(varyans))\n",
        "olasılık=dağilim.cdf(36)\n",
        "print(olasılık*100) # yıllık 1 milyon oldugu ıcın 13900 urun garantıye gelebılır.\n"
      ],
      "metadata": {
        "colab": {
          "base_uri": "https://localhost:8080/"
        },
        "id": "AF-Z1bWbLa5h",
        "outputId": "0bfe9f3e-c7de-452d-c2a5-f4071c434c09"
      },
      "execution_count": null,
      "outputs": [
        {
          "output_type": "stream",
          "name": "stdout",
          "text": [
            "1.3903447513498595\n"
          ]
        }
      ]
    }
  ],
  "metadata": {
    "colab": {
      "name": "Colaboratory'ye Hoş Geldiniz",
      "provenance": [],
      "include_colab_link": true
    },
    "kernelspec": {
      "display_name": "Python 3",
      "name": "python3"
    }
  },
  "nbformat": 4,
  "nbformat_minor": 0
}