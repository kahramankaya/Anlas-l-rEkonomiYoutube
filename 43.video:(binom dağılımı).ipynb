{
  "cells": [
    {
      "cell_type": "markdown",
      "metadata": {
        "id": "view-in-github",
        "colab_type": "text"
      },
      "source": [
        "<a href=\"https://colab.research.google.com/github/kahramankaya/Anlas-l-rEkonomiYoutube/blob/main/43.video%3A(binom%20da%C4%9F%C4%B1l%C4%B1m%C4%B1).ipynb\" target=\"_parent\"><img src=\"https://colab.research.google.com/assets/colab-badge.svg\" alt=\"Open In Colab\"/></a>"
      ]
    },
    {
      "cell_type": "code",
      "source": [
        "43.video:(binom dağılımı): bu da bernoulli dağılımı gibi kesikli dir ve iki olasılı sonuc uzerınde işlem görür. ama bernoulli den tek farkı parayı bernoulli gibi tek bir kere havaya atılmıyor n kere atılıyor."
      ],
      "metadata": {
        "id": "QTktj6XCPlmg"
      },
      "execution_count": null,
      "outputs": []
    },
    {
      "cell_type": "code",
      "source": [
        "# formül video da verilmiş. ve de beklenen değer formülü verilmiş. beklenen değer formulu: p*n dir.\n",
        "# varyans formmül: n*p*(1-p) dir.\n",
        "# formuller de p dediğimiz şey: olayın başarılı olma olasılığı dır."
      ],
      "metadata": {
        "id": "jA1qb1FIPl3F"
      },
      "execution_count": null,
      "outputs": []
    },
    {
      "cell_type": "code",
      "source": [
        "#ornek: para bir kez havaya atılıyor. yazı gelme olasılıgı.\n",
        "from scipy import stats\n",
        "p=0.5\n",
        "n=1\n",
        "dağilim=stats.binom(n,p)\n",
        "yazıGelmeOlasılık=dağilim.pmf(k=1)\n",
        "print(yazıGelmeOlasılık) # 0.5 cıkar.\n",
        "\n",
        "\n",
        "# bu sefer deneme sayısı n = 7 olsun ve 3 kere yazı gelmesini istiyorum.\n",
        "from scipy import stats\n",
        "p=0.5\n",
        "n=7\n",
        "dağilim=stats.binom(n,p)\n",
        "yazıGelmeOlasılık=dağilim.pmf(k=3)\n",
        "print(yazıGelmeOlasılık) # 0.273 cıkar."
      ],
      "metadata": {
        "id": "EH04FaC6Plj5",
        "outputId": "cd15dd7b-823f-4806-b48d-bbaf3b97da55",
        "colab": {
          "base_uri": "https://localhost:8080/"
        }
      },
      "execution_count": 5,
      "outputs": [
        {
          "output_type": "stream",
          "name": "stdout",
          "text": [
            "0.5\n",
            "0.2734374999999999\n"
          ]
        }
      ]
    },
    {
      "cell_type": "code",
      "source": [
        "#ornek: penaltı da gol olma ya da olmama gıbı ıkı tane sonuc var. bu yuzden bernoulli ve de bınoma uygun\n",
        "# bu penaltı da 100 atıştan 80 tanesının gol olma olasılıgını bulmuşşlar.\n",
        "# bundan sonra gelecek 5 penaltıdan 3 nün gol olma olasılıgı bul.\n",
        "from scipy import stats\n",
        "p=0.80\n",
        "n=5\n",
        "dağilim=stats.binom(n,p)\n",
        "golGelmeOlasılık=dağilim.pmf(k=3)\n",
        "print(golGelmeOlasılık) # yüzde 20 cıkar."
      ],
      "metadata": {
        "id": "qP_xdFhlU_oP",
        "outputId": "a938b569-08a1-41a3-9b3c-da30d278655a",
        "colab": {
          "base_uri": "https://localhost:8080/"
        }
      },
      "execution_count": 8,
      "outputs": [
        {
          "output_type": "stream",
          "name": "stdout",
          "text": [
            "0.20479999999999995\n"
          ]
        }
      ]
    },
    {
      "cell_type": "code",
      "source": [
        "# ornek: bır fabrıkada urunun hatalı olma ya da olmama gıbı ır olasılıgı var. bu yuzden burada bınom kullanılabılır.\n",
        "# ve bu fabrıka da her 100 urunden 1 tanesının hatalı cıktıgı oluyormuş.\n",
        "# ve üretilen 10 ürünün de tamamının sağlam olasılıgını bana bul ya da maximum 2 tanesının hatalı olmasını bul.\n",
        "from scipy import stats\n",
        "p=0.01 \n",
        "n=10\n",
        "dağilim=stats.binom(n,p)\n",
        "saglamGelmeOlasılık=dağilim.pmf(k=0)\n",
        "print(saglamGelmeOlasılık) # yüzde 90 cıkar.\n",
        "\n",
        "# peki max 2 tanesinin hatalı kusurlu olması nedır.\n",
        "from scipy import stats\n",
        "p=0.01 \n",
        "n=10\n",
        "dağilim=stats.binom(n,p)\n",
        "kusurlu0GelmeOlasılık=dağilim.pmf(k=0)\n",
        "kusurlu1GelmeOlasılık=dağilim.pmf(k=1)\n",
        "kusurlu2GelmeOlasılık=dağilim.pmf(k=2)\n",
        "print(kusurlu1GelmeOlasılık+kusurlu2GelmeOlasılık+kusurlu3GelmeOlasılık) # yüzde 99 çıkar.\n",
        "# max 2 kusurlu istenilen oldugu ıcın 0 hatalı 1 hatalı ve 2 hatalı olmak uzere bunların toplamı olması gerekır. \n",
        "# şimdi burada kümülatif yanı olasılık toplamları olduğu için cdf fonksiyonu kullnaılırsa aynı sonucu verir.\n",
        "toplam=dağilim.cdf(x=2) # bunun parametrisi  x tir. x kullanılmak zorunndayız. x dahil olmak uzere x e kadar olan butun olasılıkları alır.\n",
        "print(toplam) # yuzde 99 cıktı.\n",
        "\n"
      ],
      "metadata": {
        "id": "QbVK7IXdWmCy",
        "outputId": "3140674a-9d5f-4976-8c93-5d156e79e638",
        "colab": {
          "base_uri": "https://localhost:8080/"
        }
      },
      "execution_count": 24,
      "outputs": [
        {
          "output_type": "stream",
          "name": "stdout",
          "text": [
            "0.9043820750088044\n",
            "0.09965642699821528\n",
            "0.9998861508820942\n"
          ]
        }
      ]
    },
    {
      "cell_type": "code",
      "source": [
        "# ornek: bır magazada satıslarda 100 urunden 10 tanesi iade ediliyor.\n",
        "# ve bu magaza da bır hafta da 50 tane ürün satılmış. bu urunlerden  5 tanesının ıade olma olasıgı nedir.\n",
        "from scipy import stats\n",
        "p=0.1\n",
        "n=50\n",
        "dağilim=stats.binom(n,p)\n",
        "iadeGelmeOlasılık=dağilim.pmf(k=5)\n",
        "print(iadeGelmeOlasılık) # yuzde 18 cıkar.\n",
        "\n",
        "# en fazla 15 tanesının ıade olma olasılıg neir\n",
        "toplam=dağilim.cdf(x=15)\n",
        "print(toplam) # yuzde 99 cıkar.\n",
        "# en az 10 defa ıade olm olasılıgı nedır\n",
        "toplammm=dağilim.cdf(x=10) # 1 den cıkarmayı unutma sakın. cunku en az 10 tane denılıyor.\n",
        "print(1-toplammm) #0.0093 cıkar. "
      ],
      "metadata": {
        "id": "g-vBuJ4KfFN4",
        "outputId": "6560807d-c55c-4baf-e8b5-50e694f13eb6",
        "colab": {
          "base_uri": "https://localhost:8080/"
        }
      },
      "execution_count": 29,
      "outputs": [
        {
          "output_type": "stream",
          "name": "stdout",
          "text": [
            "0.1849246008952154\n",
            "0.9999825030783145\n",
            "0.009354601587329037\n"
          ]
        }
      ]
    }
  ],
  "metadata": {
    "colab": {
      "name": "Colaboratory'ye Hoş Geldiniz",
      "provenance": [],
      "include_colab_link": true
    },
    "kernelspec": {
      "display_name": "Python 3",
      "name": "python3"
    }
  },
  "nbformat": 4,
  "nbformat_minor": 0
}