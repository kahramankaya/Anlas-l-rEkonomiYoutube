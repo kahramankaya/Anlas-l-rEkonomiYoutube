{
  "cells": [
    {
      "cell_type": "markdown",
      "metadata": {
        "id": "view-in-github",
        "colab_type": "text"
      },
      "source": [
        "<a href=\"https://colab.research.google.com/github/kahramankaya/Anlas-l-rEkonomiYoutube/blob/main/86.video(%C4%B0%C5%9Faret%20Testi).ipynb\" target=\"_parent\"><img src=\"https://colab.research.google.com/assets/colab-badge.svg\" alt=\"Open In Colab\"/></a>"
      ]
    },
    {
      "cell_type": "code",
      "source": [
        "#86.video(İşaret Testi):bu test parametrikte ki t testinin non-parametrikte ki karşılığıdır aslında.\n",
        "#parametrik dagılım uzerınden sonuclara varılmaya calısırken non-parametrik oyle yapmaz. buyuk orneklemlerde genellıkle parametrık testler kullanılır ama ıstısna olarak işaret\n",
        "# testi gibi non-parametrik testlerde kullanılır."
      ],
      "metadata": {
        "id": "SBrb5vzLlZjX"
      },
      "execution_count": 20,
      "outputs": []
    },
    {
      "cell_type": "code",
      "source": [
        "#ornek:25 tane ogrencının orneklemı alınmıstır. ve bunların notları alınmıstır.\n",
        "import pandas as pd\n",
        "import numpy as np\n",
        "np.random.seed(5)\n",
        "data=pd.DataFrame({\n",
        "\"ogrencı\":np.arange(1,26,1),\n",
        "\"notlar\":np.random.randint(1,100,size=(25))    \n",
        "})\n",
        "print(data)"
      ],
      "metadata": {
        "id": "z_MJja31lZnf",
        "outputId": "133307c9-0049-42f0-81a8-a21a2f506ab3",
        "colab": {
          "base_uri": "https://localhost:8080/"
        }
      },
      "execution_count": 25,
      "outputs": [
        {
          "output_type": "stream",
          "name": "stdout",
          "text": [
            "    ogrencı  notlar\n",
            "0         1      79\n",
            "1         2      62\n",
            "2         3      17\n",
            "3         4      74\n",
            "4         5       9\n",
            "5         6      63\n",
            "6         7      28\n",
            "7         8      31\n",
            "8         9      81\n",
            "9        10       8\n",
            "10       11      77\n",
            "11       12      16\n",
            "12       13      54\n",
            "13       14      81\n",
            "14       15      28\n",
            "15       16      45\n",
            "16       17      78\n",
            "17       18      76\n",
            "18       19      66\n",
            "19       20      48\n",
            "20       21      31\n",
            "21       22      85\n",
            "22       23      87\n",
            "23       24      19\n",
            "24       25      10\n"
          ]
        }
      ]
    },
    {
      "cell_type": "code",
      "source": [
        "#h0:notların ortalaması 30 dur.\n",
        "#h1:notların ortalaması 30 dan farklıdır.\n",
        "#once shapiro ile normal dagılmış mı bakacagız. normal degılse ve orneklem sayısı kucuk ıse non-parametrik işaret testi uygulanır.\n",
        "#parametrik t testinde ortalama uzerınde sonuca gıderdık ama burada medyan uzerınden sonuca gıdecegız cunku non-parametrik test.\n",
        "import pandas as pd\n",
        "from scipy import stats\n",
        "norm=stats.shapiro(data[\"notlar\"])\n",
        "print(norm)\n",
        "#p degerı alpha dan kucuk old ıcın h0 red yanı normal dagılmamıstır. orneklem saysıda kucuk old ıcın ısaret testıne gecılır."
      ],
      "metadata": {
        "id": "QNHrTqbslZqq",
        "outputId": "78efeb53-3391-43e1-a6b5-78b377cf2a14",
        "colab": {
          "base_uri": "https://localhost:8080/"
        }
      },
      "execution_count": 28,
      "outputs": [
        {
          "output_type": "stream",
          "name": "stdout",
          "text": [
            "ShapiroResult(statistic=0.8911588788032532, pvalue=0.011837729252874851)\n"
          ]
        }
      ]
    },
    {
      "cell_type": "code",
      "source": [
        "#işaret testi:\n",
        "from statsmodels.stats.descriptivestats import sign_test\n",
        "test=sign_test(data[\"notlar\"],mu0=30)\n",
        "#h0 red kabul edıldı. \n",
        "print(test)\n",
        "print(data[\"notlar\"].median())"
      ],
      "metadata": {
        "id": "otxQsx3itA9O",
        "outputId": "7ba05edd-5310-4159-d898-72d5498da4fb",
        "colab": {
          "base_uri": "https://localhost:8080/"
        }
      },
      "execution_count": 31,
      "outputs": [
        {
          "output_type": "stream",
          "name": "stdout",
          "text": [
            "(4.5, 0.10775214433670044)\n",
            "54.0\n"
          ]
        }
      ]
    },
    {
      "cell_type": "code",
      "source": [],
      "metadata": {
        "id": "fi6X5XnDtBFl"
      },
      "execution_count": null,
      "outputs": []
    }
  ],
  "metadata": {
    "colab": {
      "name": "Colaboratory'ye Hoş Geldiniz",
      "provenance": [],
      "include_colab_link": true
    },
    "kernelspec": {
      "display_name": "Python 3",
      "name": "python3"
    }
  },
  "nbformat": 4,
  "nbformat_minor": 0
}