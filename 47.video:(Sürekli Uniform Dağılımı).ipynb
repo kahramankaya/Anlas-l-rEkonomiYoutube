{
  "cells": [
    {
      "cell_type": "markdown",
      "metadata": {
        "id": "view-in-github",
        "colab_type": "text"
      },
      "source": [
        "<a href=\"https://colab.research.google.com/github/kahramankaya/Anlas-l-rEkonomiYoutube/blob/main/47.video%3A(S%C3%BCrekli%20Uniform%20Da%C4%9F%C4%B1l%C4%B1m%C4%B1).ipynb\" target=\"_parent\"><img src=\"https://colab.research.google.com/assets/colab-badge.svg\" alt=\"Open In Colab\"/></a>"
      ]
    },
    {
      "cell_type": "code",
      "source": [
        "47.video:(Sürekli Uniform Dağılımı)"
      ],
      "metadata": {
        "id": "UWw6ILT37Ri1"
      },
      "execution_count": null,
      "outputs": []
    },
    {
      "cell_type": "code",
      "source": [
        "#uniform dagılımında onemli bır nokta var: \n",
        "#eger unıform dagılımı kesıklı ıse x eksenıne karssıılık gelen degerler dırek o rassalın olasılık degerı oluyor.\n",
        "#eger unıform dagılımı sureklı ıse x eksenıne karssıılık gelen degerler dırek o rassalın olasılık degerı olmuyor o rassalın fonksiyon degerı oluyor. o fonksıyonun ıkı degerın arasında kı alan olasılık degerı oluyor."
      ],
      "metadata": {
        "id": "MqWlVOZl7RgM"
      },
      "execution_count": null,
      "outputs": []
    },
    {
      "cell_type": "code",
      "source": [
        "#ornek: bir otobus var her 15 dk da bir kalkıyor. bu otobusu bekleyen kişinin ortalama bekleme olasılıgı ve de 12 dan z bekleme olasılıgı ne kadar?\n",
        "\n",
        "from scipy import stats\n",
        "ustsınır=15\n",
        "altsınır=0\n",
        "dağilim=stats.uniform(altsınır,ustsınır)\n",
        "olasılık=dağilim.expect() # kişinin ortalama bekleme olasıgı bu kadarmış.\n",
        "print(olasılık)\n",
        "olasılıkk=dağilim.cdf(x=12)\n",
        "print(olasılıkk*100) # yuzde 80 cıktı."
      ],
      "metadata": {
        "colab": {
          "base_uri": "https://localhost:8080/"
        },
        "id": "tchn0fTj7RdT",
        "outputId": "9a9e9563-b28c-4b18-c002-ab70c36367d9"
      },
      "execution_count": 6,
      "outputs": [
        {
          "output_type": "stream",
          "name": "stdout",
          "text": [
            "7.5\n",
            "80.0\n"
          ]
        }
      ]
    },
    {
      "cell_type": "code",
      "source": [
        "#ornek: arızalı bır urunun 1 bucuk saat ıle 4 saat arasında tamır edıldıgı bılınıyor. rasgele secılen bır urunun 2 saatten fazla surede tamır edılme olasıgı nedır?\n",
        "from scipy import stats\n",
        "ustsınır=4\n",
        "altsınır=1.5\n",
        "dağilim=stats.uniform(altsınır,ustsınır)\n",
        "olasılık=dağilim.cdf(2)\n",
        "print(100-olasılık*100) # yuzde 87.5 cıktı."
      ],
      "metadata": {
        "colab": {
          "base_uri": "https://localhost:8080/"
        },
        "id": "5dmAVMHo7RaO",
        "outputId": "cad2f71b-4a47-4cf9-889b-18e21d03e1ee"
      },
      "execution_count": 10,
      "outputs": [
        {
          "output_type": "stream",
          "name": "stdout",
          "text": [
            "87.5\n"
          ]
        }
      ]
    },
    {
      "cell_type": "code",
      "source": [],
      "metadata": {
        "id": "5CPL0S2W7RXf"
      },
      "execution_count": null,
      "outputs": []
    }
  ],
  "metadata": {
    "colab": {
      "name": "Colaboratory'ye Hoş Geldiniz",
      "provenance": [],
      "include_colab_link": true
    },
    "kernelspec": {
      "display_name": "Python 3",
      "name": "python3"
    }
  },
  "nbformat": 4,
  "nbformat_minor": 0
}