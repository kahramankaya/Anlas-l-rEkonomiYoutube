{
  "cells": [
    {
      "cell_type": "markdown",
      "metadata": {
        "id": "view-in-github",
        "colab_type": "text"
      },
      "source": [
        "<a href=\"https://colab.research.google.com/github/kahramankaya/Anlas-l-rEkonomiYoutube/blob/main/66.video(Ba%C4%9F%C4%B1ml%C4%B1%20%C3%96rneklem%20T%20Testi).ipynb\" target=\"_parent\"><img src=\"https://colab.research.google.com/assets/colab-badge.svg\" alt=\"Open In Colab\"/></a>"
      ]
    },
    {
      "cell_type": "code",
      "source": [
        "#66.video(Bağımlı Örneklem T Testi): bagımsız t testı gıbı degıl bu. burada tek grup ya da örneklem var. ve bu grubun ilk bastakı olcusu ve son olcusu arasında fark var mı bu test bunu gosterıyor bıze\n",
        "#sartları:bagımlı degısken sureklı olmalı,bagımlı degıskenın oncesı ve soonrası ıcın normal dagılım gostermesı gerekır,varyans homojenlıgı olmalıdır."
      ],
      "metadata": {
        "id": "qSrM7DiQo_A-"
      },
      "execution_count": null,
      "outputs": []
    },
    {
      "cell_type": "code",
      "source": [
        "#h0:Mö=Ms\n",
        "#h1:Mö=!Ms\n",
        "import pandas as pd\n",
        "from scipy import stats\n",
        "\n",
        "# before ve after verileri içeren DataFrame'i oluştur\n",
        "data = pd.DataFrame({'before': [10, 12, 14, 16, 18], \n",
        "                     'after': [12, 15, 15, 18, 20]})\n",
        "\n",
        "# bağımlı örneklem t-testini yap\n",
        "t_statistic, p_value = stats.ttest_rel(data['before'], data['after'])\n",
        "\n",
        "print('t-statistic:', t_statistic)\n",
        "print('p-value:', p_value)\n",
        "#yani h1 kabul edilir h0 red edilir.\n"
      ],
      "metadata": {
        "id": "luB4zEgBo_D9",
        "outputId": "c1968a40-35cd-4c37-f058-7c5fad641cd9",
        "colab": {
          "base_uri": "https://localhost:8080/"
        }
      },
      "execution_count": 1,
      "outputs": [
        {
          "output_type": "stream",
          "name": "stdout",
          "text": [
            "t-statistic: -6.324555320336758\n",
            "p-value: 0.0031982021523353082\n"
          ]
        }
      ]
    },
    {
      "cell_type": "code",
      "source": [],
      "metadata": {
        "id": "ReKmCpbpo_Go"
      },
      "execution_count": null,
      "outputs": []
    }
  ],
  "metadata": {
    "colab": {
      "name": "Colaboratory'ye Hoş Geldiniz",
      "provenance": [],
      "include_colab_link": true
    },
    "kernelspec": {
      "display_name": "Python 3",
      "name": "python3"
    }
  },
  "nbformat": 4,
  "nbformat_minor": 0
}