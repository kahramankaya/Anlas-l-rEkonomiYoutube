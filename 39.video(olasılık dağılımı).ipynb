{
  "cells": [
    {
      "cell_type": "markdown",
      "metadata": {
        "id": "view-in-github",
        "colab_type": "text"
      },
      "source": [
        "<a href=\"https://colab.research.google.com/github/kahramankaya/Anlas-l-rEkonomiYoutube/blob/main/39.video(olas%C4%B1l%C4%B1k%20da%C4%9F%C4%B1l%C4%B1m%C4%B1).ipynb\" target=\"_parent\"><img src=\"https://colab.research.google.com/assets/colab-badge.svg\" alt=\"Open In Colab\"/></a>"
      ]
    },
    {
      "cell_type": "code",
      "source": [
        "39.video:\"olasılık dağılımı\": olasılık dagılımı rassal degıskenlerın aldıgı olasılık ların nasıl degıstgını gosteren dagılımdır."
      ],
      "metadata": {
        "id": "5wGOKr9m7o-Z"
      },
      "execution_count": null,
      "outputs": []
    },
    {
      "cell_type": "code",
      "source": [
        "bu vıdeo da parayı 3 kez atarsak ve rassal degıskenlerle bunun olasılık dagılıgımını cızıyor. pek bır sey yok bıldıgım yerler.\n"
      ],
      "metadata": {
        "id": "S1RpkKSe7r2N"
      },
      "execution_count": null,
      "outputs": []
    }
  ],
  "metadata": {
    "colab": {
      "name": "Colaboratory'ye Hoş Geldiniz",
      "provenance": [],
      "include_colab_link": true
    },
    "kernelspec": {
      "display_name": "Python 3",
      "name": "python3"
    }
  },
  "nbformat": 4,
  "nbformat_minor": 0
}