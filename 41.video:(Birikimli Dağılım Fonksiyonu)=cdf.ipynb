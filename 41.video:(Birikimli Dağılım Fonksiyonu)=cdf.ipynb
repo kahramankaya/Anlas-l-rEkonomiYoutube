{
  "cells": [
    {
      "cell_type": "markdown",
      "metadata": {
        "id": "view-in-github",
        "colab_type": "text"
      },
      "source": [
        "<a href=\"https://colab.research.google.com/github/kahramankaya/Anlas-l-rEkonomiYoutube/blob/main/41.video%3A(Birikimli%20Da%C4%9F%C4%B1l%C4%B1m%20Fonksiyonu)%3Dcdf.ipynb\" target=\"_parent\"><img src=\"https://colab.research.google.com/assets/colab-badge.svg\" alt=\"Open In Colab\"/></a>"
      ]
    },
    {
      "cell_type": "code",
      "source": [
        "#41.video:(Birikimli Dağılım Fonksiyonu)=cdf"
      ],
      "metadata": {
        "id": "uSyKk-vuBJBh"
      },
      "execution_count": null,
      "outputs": []
    },
    {
      "cell_type": "code",
      "source": [
        "#bu fonksiyon diyelim ki normal bir dağılımda yani süreki bir fonksiyon üzerinden integral alan hesaplamaya yarar.\n",
        "#pdf te x e karşılık gelen deger olasılık degıldı. dırek onun x degerının y degerını verıyordu.\n",
        "#cdf ise bu pdf uzerınden ıstenılen alanı hesplamaya yarar."
      ],
      "metadata": {
        "id": "SFOQq3yiBI-5"
      },
      "execution_count": null,
      "outputs": []
    },
    {
      "cell_type": "code",
      "source": [
        "#ornek:normal dagılıma sahıp bır grafık var elımde.\n",
        "#bu grafıgın ortalaması 15, varyansı 9 dur. grafıgın ortalamsının 11 den dusuk olma olasılıgı kactır?\n",
        "from scipy import stats\n",
        "olasılık1=stats.norm.pdf(x=11,loc=15,scale=3)\n",
        "print(olasılık1) # bu çıkan deger pdf yanı sureklı dagılıma sahıp olan normal dagılım grafıgımızın x degerı olan 11 ın y de ki degerı dır.\n",
        "#11 den dusuk alanı bulmak ıcın cdf kullanmak gerkiyor.\n",
        "olasılık2=stats.norm.cdf(x=11,loc=15,scale=3)\n",
        "print(olasılık2) # işte bu cıkan sonu bıze 11 den kucuk alanı verdı. yanı eksi sonsuzdan 11 e kadar olanı verıd.\n",
        "# aslında cdf pdf in integralli halidir. cdf in türevi alındıgında pdf elde edılır.\n",
        "# birikimli dağılım fonksyonu F(X) ile gösterilir. \n"
      ],
      "metadata": {
        "colab": {
          "base_uri": "https://localhost:8080/"
        },
        "id": "fGTLZKZdBI7h",
        "outputId": "1b3983a1-55fb-4766-91ac-8d8e69950de4"
      },
      "execution_count": null,
      "outputs": [
        {
          "output_type": "stream",
          "name": "stdout",
          "text": [
            "0.05467002489199788\n",
            "0.09121121972586788\n"
          ]
        }
      ]
    },
    {
      "cell_type": "code",
      "source": [
        "# ornek: parayı 3 kez atarsak gelen rassal değişkenlere baglı olasılık degerlerını bışıyoruz. bunu barplot lara aktaralım\n",
        "from scipy import stats\n",
        "import numpy as np\n",
        "import seaborn as sns\n",
        "p=[1/8,3/8,3/8,1/8]\n",
        "x=[0,1,2,3]\n",
        "sns.barplot(x,p)\n"
      ],
      "metadata": {
        "id": "MC8w7clJe3te",
        "outputId": "4af47057-d4ba-469c-a083-b0bb5a8c3291",
        "colab": {
          "base_uri": "https://localhost:8080/",
          "height": 339
        }
      },
      "execution_count": null,
      "outputs": [
        {
          "output_type": "stream",
          "name": "stderr",
          "text": [
            "/usr/local/lib/python3.8/dist-packages/seaborn/_decorators.py:36: FutureWarning: Pass the following variables as keyword args: x, y. From version 0.12, the only valid positional argument will be `data`, and passing other arguments without an explicit keyword will result in an error or misinterpretation.\n",
            "  warnings.warn(\n"
          ]
        },
        {
          "output_type": "execute_result",
          "data": {
            "text/plain": [
              "<matplotlib.axes._subplots.AxesSubplot at 0x7f9059caa3d0>"
            ]
          },
          "metadata": {},
          "execution_count": 1
        },
        {
          "output_type": "display_data",
          "data": {
            "text/plain": [
              "<Figure size 432x288 with 1 Axes>"
            ],
            "image/png": "[encoded data removed]"
          },
          "metadata": {
            "needs_background": "light"
          }
        }
      ]
    },
    {
      "cell_type": "code",
      "source": [
        "#cdf tüm olasılıkları toplayarak ilerler. bunu şimdi paranın 3 kere atması ornegınde cıkan \n",
        "#olasılıkları toplayarak ılerlemesını saglagan grafıgı yazdıracağım python koduyla.\n",
        "import matplotlib.pyplot as plt\n",
        "import seaborn as sns\n",
        "p=[1/8,3/8,3/8,1/8]\n",
        "x=[0,1,2,3]\n",
        "cum=[]\n",
        "for i in range(len(p)):\n",
        "  if len(cum)==0:\n",
        "    cum.append(p[0])\n",
        "  else:\n",
        "    cum.append(p[i]+cum[i-1])\n",
        "    \n",
        "print(cum)\n",
        "# sns.barplot(y=cum,x=x)\n",
        "\n",
        "# ya da asagıda kı gıbı yapılabılırız.\n",
        "plt.plot(x,cum,drawstyle=\"steps\")\n",
        "plt.show()\n",
        "\n"
      ],
      "metadata": {
        "id": "qa5ilwQkj6Lh",
        "colab": {
          "base_uri": "https://localhost:8080/",
          "height": 282
        },
        "outputId": "5eca066e-485d-48cb-b9f1-170900f8b72e"
      },
      "execution_count": 32,
      "outputs": [
        {
          "output_type": "stream",
          "name": "stdout",
          "text": [
            "[0.125, 0.5, 0.875, 1.0]\n"
          ]
        },
        {
          "output_type": "display_data",
          "data": {
            "text/plain": [
              "<Figure size 432x288 with 1 Axes>"
            ],
            "image/png": "[encoded data removed]"
          },
          "metadata": {
            "needs_background": "light"
          }
        }
      ]
    }
  ],
  "metadata": {
    "colab": {
      "name": "Colaboratory'ye Hoş Geldiniz",
      "provenance": [],
      "include_colab_link": true
    },
    "kernelspec": {
      "display_name": "Python 3",
      "name": "python3"
    }
  },
  "nbformat": 4,
  "nbformat_minor": 0
}