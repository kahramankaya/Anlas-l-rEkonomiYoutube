{
  "cells": [
    {
      "cell_type": "markdown",
      "metadata": {
        "id": "view-in-github",
        "colab_type": "text"
      },
      "source": [
        "<a href=\"https://colab.research.google.com/github/kahramankaya/Anlas-l-rEkonomiYoutube/blob/main/78.video(Pandas%20Melt%20Fonksiyonu).ipynb\" target=\"_parent\"><img src=\"https://colab.research.google.com/assets/colab-badge.svg\" alt=\"Open In Colab\"/></a>"
      ]
    },
    {
      "cell_type": "code",
      "source": [
        "#78 (Pandas Melt Fonksiyonu):Pandas melt fonksiyonu, geniş formatlı (wide format) verileri uzun formatlı (long format) verilere dönüştürmek için kullanılan bir fonksiyondur.\n",
        "#Bu dönüştürme işlemi, verilerin analiz edilmesi, görselleştirilmesi veya başka amaçlarla kullanılması için daha uygun bir yapıya getirir."
      ],
      "metadata": {
        "id": "Tz1Vb2IzcOPs"
      },
      "execution_count": null,
      "outputs": []
    },
    {
      "cell_type": "code",
      "source": [
        "import pandas as pd\n",
        "df_wide = pd.DataFrame({\n",
        "    'id': [1, 2, 3],\n",
        "    'name': ['Alice', 'Bob', 'Charlie'],\n",
        "    'age': [25, 30, 35],\n",
        "    'salary_2020': [50000, 60000, 70000],\n",
        "    'salary_2021': [55000, 65000, 75000]\n",
        "})\n",
        "print(df_wide)"
      ],
      "metadata": {
        "id": "C4gGnuBvbSY0",
        "outputId": "b71d0eb9-e3be-43e1-e275-3e85f7f59f5c",
        "colab": {
          "base_uri": "https://localhost:8080/"
        }
      },
      "execution_count": 2,
      "outputs": [
        {
          "output_type": "stream",
          "name": "stdout",
          "text": [
            "   id     name  age  salary_2020  salary_2021\n",
            "0   1    Alice   25        50000        55000\n",
            "1   2      Bob   30        60000        65000\n",
            "2   3  Charlie   35        70000        75000\n"
          ]
        }
      ]
    },
    {
      "cell_type": "code",
      "source": [
        "#id_vars demekle bu sutunlar degısmez gerıye kalanlar degısır.\n",
        "df_long = pd.melt(df_wide, id_vars=['id', 'name', 'age'], value_vars=[\"salary_2020\",\"salary_2021\"])\n",
        "df_long.columns=['id', 'name', 'age',\"yıl\",\"maaş\"]\n",
        "print(df_long)"
      ],
      "metadata": {
        "id": "pn8NJ_oxbS3q",
        "outputId": "3bf52b60-ecd0-4e58-c901-9469c5d95818",
        "colab": {
          "base_uri": "https://localhost:8080/"
        }
      },
      "execution_count": 7,
      "outputs": [
        {
          "output_type": "stream",
          "name": "stdout",
          "text": [
            "   id     name  age          yıl   maaş\n",
            "0   1    Alice   25  salary_2020  50000\n",
            "1   2      Bob   30  salary_2020  60000\n",
            "2   3  Charlie   35  salary_2020  70000\n",
            "3   1    Alice   25  salary_2021  55000\n",
            "4   2      Bob   30  salary_2021  65000\n",
            "5   3  Charlie   35  salary_2021  75000\n"
          ]
        }
      ]
    }
  ],
  "metadata": {
    "colab": {
      "name": "Colaboratory'ye Hoş Geldiniz",
      "provenance": [],
      "include_colab_link": true
    },
    "kernelspec": {
      "display_name": "Python 3",
      "name": "python3"
    }
  },
  "nbformat": 4,
  "nbformat_minor": 0
}