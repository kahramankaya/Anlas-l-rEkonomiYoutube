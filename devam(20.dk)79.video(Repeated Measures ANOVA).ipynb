{
  "cells": [
    {
      "cell_type": "markdown",
      "metadata": {
        "id": "view-in-github",
        "colab_type": "text"
      },
      "source": [
        "<a href=\"https://colab.research.google.com/github/kahramankaya/Anlas-l-rEkonomiYoutube/blob/main/devam(20.dk)79.video(Repeated%20Measures%20ANOVA).ipynb\" target=\"_parent\"><img src=\"https://colab.research.google.com/assets/colab-badge.svg\" alt=\"Open In Colab\"/></a>"
      ]
    },
    {
      "cell_type": "code",
      "source": [
        "#79.video(Repeated Measures ANOVA): onceden sadece test oncesı ve test sonrası olur. ıkı tane oldugu ıcınde t testı kullanırdık ama burada bellı aralıklarla test ler yapılırsa bu yapı kullanılır."
      ],
      "metadata": {
        "id": "-dzF1V00iE91"
      },
      "execution_count": null,
      "outputs": []
    },
    {
      "cell_type": "code",
      "source": [
        "import pandas as pd\n",
        "import numpy as np\n",
        "data=pd.DataFrame(\n",
        "{\n",
        "\"kısıler\":[\"A\",\"B\",\"C\",\"D\",\"X\",\"Y\"],\n",
        "\"testoncesı\":np.random.randint(1000,size=(6)) ,  \n",
        "\"testsonrası1\":np.random.randint(1000,size=(6)),\n",
        "\"testsonrası2\":np.random.randint(1000,size=(6)),\n",
        "\"testsonrası3\":np.random.randint(1000,size=(6)),\n",
        "}\n",
        ")\n",
        "print(data)"
      ],
      "metadata": {
        "colab": {
          "base_uri": "https://localhost:8080/"
        },
        "id": "o5DCOu9riFDs",
        "outputId": "60c385ac-c0e0-49c1-9c2d-274544e97a63"
      },
      "execution_count": 49,
      "outputs": [
        {
          "output_type": "stream",
          "name": "stdout",
          "text": [
            "  kısıler  testoncesı  testsonrası1  testsonrası2  testsonrası3\n",
            "0       A         965           531           907           934\n",
            "1       B         406           679           167           405\n",
            "2       C          61           134           795           281\n",
            "3       D         116           561           808           310\n",
            "4       X         529           696           308           603\n",
            "5       Y         434           620           800           251\n"
          ]
        }
      ]
    },
    {
      "cell_type": "code",
      "source": [
        "#pandas melt ile bu verıyı duzgun hale getırelım.\n",
        "df_long = pd.melt(data, id_vars=['kısıler'], value_vars=[\"testoncesı\",\"testsonrası1\",\"testsonrası2\",\"testsonrası3\"])\n",
        "df_long.columns=[\"kısıler\",\"test\",\"olcum\"]\n",
        "print(df_long)"
      ],
      "metadata": {
        "colab": {
          "base_uri": "https://localhost:8080/",
          "height": 217
        },
        "id": "Ob36t7JuiFJE",
        "outputId": "56eb16bd-7aba-4379-b25e-f29515ca5b78"
      },
      "execution_count": 62,
      "outputs": [
        {
          "output_type": "error",
          "ename": "TypeError",
          "evalue": "ignored",
          "traceback": [
            "\u001b[0;31m---------------------------------------------------------------------------\u001b[0m",
            "\u001b[0;31mTypeError\u001b[0m                                 Traceback (most recent call last)",
            "\u001b[0;32m<ipython-input-62-a5644f3f374d>\u001b[0m in \u001b[0;36m<module>\u001b[0;34m\u001b[0m\n\u001b[1;32m      1\u001b[0m \u001b[0;31m#pandas melt ile bu verıyı duzgun hale getırelım.\u001b[0m\u001b[0;34m\u001b[0m\u001b[0;34m\u001b[0m\u001b[0;34m\u001b[0m\u001b[0m\n\u001b[0;32m----> 2\u001b[0;31m \u001b[0mdf_long\u001b[0m \u001b[0;34m=\u001b[0m \u001b[0mpd\u001b[0m\u001b[0;34m.\u001b[0m\u001b[0mmelt\u001b[0m\u001b[0;34m(\u001b[0m\u001b[0mdata\u001b[0m\u001b[0;34m,\u001b[0m \u001b[0mid_vars\u001b[0m\u001b[0;34m=\u001b[0m\u001b[0;34m[\u001b[0m\u001b[0;34m'kısıler'\u001b[0m\u001b[0;34m]\u001b[0m\u001b[0;34m,\u001b[0m \u001b[0mvalue_vars\u001b[0m\u001b[0;34m=\u001b[0m\u001b[0;34m[\u001b[0m\u001b[0;34m\"testoncesı\"\u001b[0m\u001b[0;34m,\u001b[0m\u001b[0;34m\"testsonrası1\"\u001b[0m\u001b[0;34m,\u001b[0m\u001b[0;34m\"testsonrası2\"\u001b[0m\u001b[0;34m,\u001b[0m\u001b[0;34m\"testsonrası3\"\u001b[0m\u001b[0;34m]\u001b[0m\u001b[0;34m)\u001b[0m\u001b[0;34m\u001b[0m\u001b[0;34m\u001b[0m\u001b[0m\n\u001b[0m\u001b[1;32m      3\u001b[0m \u001b[0mdf_long\u001b[0m\u001b[0;34m.\u001b[0m\u001b[0mcolumns\u001b[0m\u001b[0;34m=\u001b[0m\u001b[0;34m[\u001b[0m\u001b[0;34m\"kısıler\"\u001b[0m\u001b[0;34m,\u001b[0m\u001b[0;34m\"test\"\u001b[0m\u001b[0;34m,\u001b[0m\u001b[0;34m\"olcum\"\u001b[0m\u001b[0;34m]\u001b[0m\u001b[0;34m\u001b[0m\u001b[0;34m\u001b[0m\u001b[0m\n\u001b[1;32m      4\u001b[0m \u001b[0mprint\u001b[0m\u001b[0;34m(\u001b[0m\u001b[0mdf_long\u001b[0m\u001b[0;34m)\u001b[0m\u001b[0;34m\u001b[0m\u001b[0;34m\u001b[0m\u001b[0m\n",
            "\u001b[0;31mTypeError\u001b[0m: melt() got multiple values for argument 'id_vars'"
          ]
        }
      ]
    },
    {
      "cell_type": "code",
      "source": [],
      "metadata": {
        "id": "Gp7ETnI07xmo"
      },
      "execution_count": 45,
      "outputs": []
    }
  ],
  "metadata": {
    "colab": {
      "name": "Colaboratory'ye Hoş Geldiniz",
      "provenance": [],
      "include_colab_link": true
    },
    "kernelspec": {
      "display_name": "Python 3",
      "name": "python3"
    }
  },
  "nbformat": 4,
  "nbformat_minor": 0
}