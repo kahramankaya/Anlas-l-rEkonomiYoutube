{
  "cells": [
    {
      "cell_type": "markdown",
      "metadata": {
        "id": "view-in-github",
        "colab_type": "text"
      },
      "source": [
        "<a href=\"https://colab.research.google.com/github/kahramankaya/Anlas-l-rEkonomiYoutube/blob/main/36.video(%22beklenen%20de%C4%9Fer%22).ipynb\" target=\"_parent\"><img src=\"https://colab.research.google.com/assets/colab-badge.svg\" alt=\"Open In Colab\"/></a>"
      ]
    },
    {
      "cell_type": "code",
      "source": [
        "36.video:\"beklenen değer\""
      ],
      "metadata": {
        "id": "1FcjxaU7O2Nd"
      },
      "execution_count": null,
      "outputs": []
    },
    {
      "cell_type": "code",
      "source": [
        "olasılığın kesikli ve ya sürekli olmasına göre bekelenen değer hesaplama formülü değişir.\n",
        "eğer kesikli ise mesela zarda 1,2,3,4,5,6 gelem olasılıkları var. her birinin gelme olasılıgı esit olup 1/6 dır.\n",
        "beklenen değer hesaplama şöyle yapılır: E(x)=1*(1/6)+2*(1/6)+3*(1/6)+4*(1/6)+5*(1/6)+6*(1/6) bu şekilde hesaplanır.\n",
        "açıklaması şu: her bir değerin gelme olasığını kendisi ile çarpıp tümünü toplarsak o zaman kesikli için beklenen değer hesaplanır.\n",
        "ornek2: 12.dk ve 13. arası çok güzel bir ornek var farklı vıdeodan daha ıyı anlarsın. bu yüzden yazmadım.\n"
      ],
      "metadata": {
        "id": "OXAhBXxtO1ib"
      },
      "execution_count": null,
      "outputs": []
    },
    {
      "cell_type": "code",
      "source": [
        "eğer olasılık sürekli ise o zaman beklenen değer hesaplaması integral ile bulunur.\n",
        "bu integrale sınırlar yazılır ve verılen fonksıyonu ek olarak x  ile carpılır ve daha sonra ıntegral alam ışlemi ile beklenen değr bulunur.\n",
        "bunu video dan izlersen daha iyi anlarsın.\n"
      ],
      "metadata": {
        "id": "AFAnsSepO1fs"
      },
      "execution_count": null,
      "outputs": []
    },
    {
      "cell_type": "code",
      "source": [],
      "metadata": {
        "id": "cIztrR8IO1cr"
      },
      "execution_count": null,
      "outputs": []
    },
    {
      "cell_type": "code",
      "source": [],
      "metadata": {
        "id": "J3cggJMgO1ZL"
      },
      "execution_count": null,
      "outputs": []
    },
    {
      "cell_type": "code",
      "source": [],
      "metadata": {
        "id": "GpY0KzSBO00T"
      },
      "execution_count": null,
      "outputs": []
    }
  ],
  "metadata": {
    "colab": {
      "name": "Colaboratory'ye Hoş Geldiniz",
      "provenance": [],
      "include_colab_link": true
    },
    "kernelspec": {
      "display_name": "Python 3",
      "name": "python3"
    }
  },
  "nbformat": 4,
  "nbformat_minor": 0
}