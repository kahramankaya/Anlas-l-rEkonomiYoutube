{
  "cells": [
    {
      "cell_type": "markdown",
      "metadata": {
        "id": "view-in-github",
        "colab_type": "text"
      },
      "source": [
        "<a href=\"https://colab.research.google.com/github/kahramankaya/Anlas-l-rEkonomiYoutube/blob/main/68.video(iki%20%C3%B6rneklem%20Z%20Oran%20Testi).ipynb\" target=\"_parent\"><img src=\"https://colab.research.google.com/assets/colab-badge.svg\" alt=\"Open In Colab\"/></a>"
      ]
    },
    {
      "cell_type": "code",
      "source": [
        "#68.video(iki örneklem Z Oran Testi): önceden iki orneklemlerın ortalamaları arasında fark var mı yok mu buna bakardık. \n",
        "#şimdi ise iki orneklem arasında oran farkı var mı diye bakıyoruz."
      ],
      "metadata": {
        "id": "C9ocCi_2u7qU"
      },
      "execution_count": null,
      "outputs": []
    },
    {
      "cell_type": "code",
      "source": [
        "#ornek:bır erkek grubu ve bır kız grubu ıcın tv ızleme olarak oransal bır fark var mı buna bakacagız.\n",
        "#erkek ve kadınlardan 50 kısılık orneklemler alınıyor. erkeklerın 50 kısıden 45 tanesı tv ızlerken kadınlardan 50 kısıden 40 kısıdır.\n",
        "\n",
        "from statsmodels.stats.proportion import proportions_ztest\n",
        "import numpy as np\n",
        "\n",
        "#h0:p1=p2\n",
        "#h1:p1>p2 # bu yuzden larger kullandık asagıda.\n",
        "basarı=np.array([45,40])\n",
        "gozlem=np.array([50,50])\n",
        "\n",
        "test=proportions_ztest(basarı,gozlem,alternative=\"larger\")\n",
        "\n",
        "#0.05 ten buyuk oldugu ıcın oransal olarak fark yokmuş. \n",
        "print(test)"
      ],
      "metadata": {
        "id": "M9o62q-O4k2o",
        "outputId": "85c6e399-58a2-44b7-dfff-562bef3c8c5f",
        "colab": {
          "base_uri": "https://localhost:8080/"
        }
      },
      "execution_count": 29,
      "outputs": [
        {
          "output_type": "stream",
          "name": "stdout",
          "text": [
            "(1.4002800840280094, 0.08071473118354161)\n"
          ]
        }
      ]
    },
    {
      "cell_type": "code",
      "source": [],
      "metadata": {
        "id": "UuIi4D9-4k5v"
      },
      "execution_count": null,
      "outputs": []
    }
  ],
  "metadata": {
    "colab": {
      "name": "Colaboratory'ye Hoş Geldiniz",
      "provenance": [],
      "include_colab_link": true
    },
    "kernelspec": {
      "display_name": "Python 3",
      "name": "python3"
    }
  },
  "nbformat": 4,
  "nbformat_minor": 0
}