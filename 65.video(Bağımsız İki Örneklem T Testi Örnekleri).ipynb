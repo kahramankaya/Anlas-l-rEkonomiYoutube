{
  "cells": [
    {
      "cell_type": "markdown",
      "metadata": {
        "id": "view-in-github",
        "colab_type": "text"
      },
      "source": [
        "<a href=\"https://colab.research.google.com/github/kahramankaya/Anlas-l-rEkonomiYoutube/blob/main/65.video(Ba%C4%9F%C4%B1ms%C4%B1z%20%C4%B0ki%20%C3%96rneklem%20T%20Testi%20%C3%96rnekleri).ipynb\" target=\"_parent\"><img src=\"https://colab.research.google.com/assets/colab-badge.svg\" alt=\"Open In Colab\"/></a>"
      ]
    },
    {
      "cell_type": "code",
      "source": [
        "#65.video(Bağımsız İki Örneklem T Testi Örnekleri):"
      ],
      "metadata": {
        "id": "on8sH_iQOTbj"
      },
      "execution_count": null,
      "outputs": []
    },
    {
      "cell_type": "code",
      "source": [
        "#ornek: sıgara ıcen ve ıcmeyen arasında nefes tutma zaman uzerınde farklılık var mı buna bakmak ıstıyoruz bunun t testı kullacagız.\n",
        "#buna gecmeden normallık testı daha sonra varyans homojenlıgıne bakmak lazım.\n",
        "from scipy import stats\n",
        "import numpy as np\n",
        "import pandas as pd\n",
        "\n",
        "np.random.seed(6)\n",
        "ıcen=[]\n",
        "ıcmeyen=[]\n",
        "zaman=[]\n",
        "for m in range(50):\n",
        "  ıcen.append(\"ıcen\")\n",
        "  zaman.append(np.random.normal(3,2,size=1))\n",
        "for m in range(50):\n",
        "  ıcmeyen.append(\"ıcmeyen\")\n",
        "  zaman.append(np.random.normal(3,4,size=1))\n",
        "df1=pd.DataFrame(ıcen,columns=[\"durum\"])\n",
        "df2=pd.DataFrame(ıcmeyen,columns=[\"durum\"])\n",
        "df4=pd.DataFrame(zaman,columns=[\"zaman\"])\n",
        "df3=pd.concat([df1,df2],ignore_index=True,axis=0)\n",
        "data=pd.concat([df3,df4],axis=1)\n",
        "print(data)\n",
        "\n",
        "#1.adım normalllık testı: normallık saglanmaz ıse 2.adımda levene testi kullanılırdı.\n",
        "ıcennorm=stats.shapiro(data[data[\"durum\"]==\"ıcen\"][\"zaman\"])\n",
        "ıcmeyennorm=stats.shapiro(data[data[\"durum\"]==\"ıcmeyen\"][\"zaman\"])\n",
        "print(ıcennorm) # goruldugu gıbı ıcenler ve ıcmeyenler normal dagılmıs cunku 0.05 ten buyuk p degerı var bu da hıpotez red edılmez. yanı kabul edılır normal dagılmısıtr buda .\n",
        "print(ıcmeyennorm)\n",
        "\n",
        "#2.adım varyans testi: \n",
        "print(stats.bartlett(data[data[\"durum\"]==\"ıcen\"][\"zaman\"],data[data[\"durum\"]==\"ıcmeyen\"][\"zaman\"])) # p degerı 0.05 ten buyuk yanı hıpotez red edılmez.\n",
        "\n",
        "#3.adım normallık saglandı ve varyanslar ıcen ve ıcmeyenler arasında esıt cıktıgı ıcın sımdı t testıne gecebılırım.\n",
        "print(stats.ttest_ind(data[data[\"durum\"]==\"ıcen\"][\"zaman\"],data[data[\"durum\"]==\"ıcmeyen\"][\"zaman\"],alternative=\"two-sided\")) # hıpotez p degerı 0.05 ten kucuk old ıcın red edılır. demek ki ıcen ve ıcmeyenler arasında nefes tutma bakımından fark varmış.\n"
      ],
      "metadata": {
        "id": "yLVPc4fCOTeT",
        "outputId": "f67b8433-4b28-43e4-a6e8-c2fdebf71046",
        "colab": {
          "base_uri": "https://localhost:8080/"
        }
      },
      "execution_count": 135,
      "outputs": [
        {
          "output_type": "stream",
          "name": "stdout",
          "text": [
            "      durum     zaman\n",
            "0      ıcen  2.376433\n",
            "1      ıcen  4.458008\n",
            "2      ıcen  3.435642\n",
            "3      ıcen  1.201816\n",
            "4      ıcen -1.973561\n",
            "..      ...       ...\n",
            "95  ıcmeyen  5.776613\n",
            "96  ıcmeyen  2.921675\n",
            "97  ıcmeyen  9.651371\n",
            "98  ıcmeyen  3.122434\n",
            "99  ıcmeyen  1.810003\n",
            "\n",
            "[100 rows x 2 columns]\n",
            "ShapiroResult(statistic=0.9942868947982788, pvalue=0.997466504573822)\n",
            "ShapiroResult(statistic=0.9869106411933899, pvalue=0.8495994210243225)\n",
            "BartlettResult(statistic=15.78491736581542, pvalue=7.096598337551758e-05)\n",
            "Ttest_indResult(statistic=-0.9778430069873406, pvalue=0.3305596947847339)\n"
          ]
        }
      ]
    },
    {
      "cell_type": "code",
      "source": [
        "#eger kı 2.adımda varyans homojenlıgınde farklılık varsa t testı kullanmıyoruz onun bır uyesı olan welch t-testi kullanıyoruz. arada fark yok sadece bır parametre eklıyoruz . t testınden tek fark budur.\n",
        "#Welch t-testi, iki farklı grup arasında anlamlı bir farklılık olup olmadığını test etmek için kullanılan bir istatistiksel testtir.\n",
        "#Bu test, t-testi ailesine aittir ve örneklem büyüklükleri, varyanslar ve standart sapmaları farklı olan iki grup arasında karşılaştırma yapmak için kullanılır.\n",
        "#Welch t-testi, özellikle eşit varyans varsayımının ihlal edildiği durumlarda kullanılır.\n",
        "\n",
        "print(stats.ttest_ind(data[data[\"durum\"]==\"ıcen\"][\"zaman\"],data[data[\"durum\"]==\"ıcmeyen\"][\"zaman\"],alternative=\"two-sided\",equal_var=False)) # 0.05 ten kucuk bu yuzden ıkı grup arasında farklılık vardır anlamına gelir.\n"
      ],
      "metadata": {
        "id": "6TbLCao9hRGH",
        "outputId": "00be435d-2087-4cb9-f150-e058318b255a",
        "colab": {
          "base_uri": "https://localhost:8080/"
        }
      },
      "execution_count": 136,
      "outputs": [
        {
          "output_type": "stream",
          "name": "stdout",
          "text": [
            "Ttest_indResult(statistic=-0.9778430069873406, pvalue=0.331226354175852)\n"
          ]
        }
      ]
    }
  ],
  "metadata": {
    "colab": {
      "name": "Colaboratory'ye Hoş Geldiniz",
      "provenance": [],
      "include_colab_link": true
    },
    "kernelspec": {
      "display_name": "Python 3",
      "name": "python3"
    }
  },
  "nbformat": 4,
  "nbformat_minor": 0
}