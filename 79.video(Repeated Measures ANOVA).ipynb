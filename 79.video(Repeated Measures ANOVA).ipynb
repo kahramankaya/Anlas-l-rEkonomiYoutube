{
  "cells": [
    {
      "cell_type": "markdown",
      "metadata": {
        "id": "view-in-github",
        "colab_type": "text"
      },
      "source": [
        "<a href=\"https://colab.research.google.com/github/kahramankaya/Anlas-l-rEkonomiYoutube/blob/main/79.video(Repeated%20Measures%20ANOVA).ipynb\" target=\"_parent\"><img src=\"https://colab.research.google.com/assets/colab-badge.svg\" alt=\"Open In Colab\"/></a>"
      ]
    },
    {
      "cell_type": "code",
      "source": [
        "#79.video(Repeated Measures ANOVA)"
      ],
      "metadata": {
        "id": "-dzF1V00iE91"
      },
      "execution_count": null,
      "outputs": []
    },
    {
      "cell_type": "code",
      "source": [
        "import pandas as pd\n",
        "import numpy as np\n",
        "data=pd.DataFrame(\n",
        "{\n",
        "\"kısıler\":[\"A\",\"B\",\"C\",\"D\",\"X\",\"Y\"],\n",
        "\"testoncesı\":np.random.randint(1000,size=(6)) ,  \n",
        "\"testsonrası1\":np.random.randint(1000,size=(6)),\n",
        "\"testsonrası2\":np.random.randint(1000,size=(6)),\n",
        "\"testsonrası3\":np.random.randint(1000,size=(6)),\n",
        "}\n",
        ")\n",
        "print(data)"
      ],
      "metadata": {
        "id": "o5DCOu9riFDs",
        "outputId": "2ec855b2-0569-4c43-897d-a2d0e0930d18",
        "colab": {
          "base_uri": "https://localhost:8080/"
        }
      },
      "execution_count": 25,
      "outputs": [
        {
          "output_type": "stream",
          "name": "stdout",
          "text": [
            "  kısıler  testoncesı  testsonrası1  testsonrası2  testsonrası3\n",
            "0       A         699           729           262           416\n",
            "1       B         528           665           368           159\n",
            "2       C         102           723           981           197\n",
            "3       D         336           728           217           944\n",
            "4       X         773           510           991           825\n",
            "5       Y         906           723           867           116\n"
          ]
        }
      ]
    },
    {
      "cell_type": "code",
      "source": [
        "#pandas melt ile bu verıyı duzgun hale getırelım.\n",
        "pd =pd.melt(data , id_vars=[\"kısıler\"], value_vars=[\"testoncesı\",\"testsonrası1\",\"testsonrası2\",\"testsonrası3\"])\n",
        "pd.columns=[\"kısıler\",\"test\",\"olcum\"]\n",
        "print(pd)"
      ],
      "metadata": {
        "id": "Ob36t7JuiFJE",
        "outputId": "53f291ed-4dfa-421a-c788-451ef79c8fd3",
        "colab": {
          "base_uri": "https://localhost:8080/",
          "height": 217
        }
      },
      "execution_count": 38,
      "outputs": [
        {
          "output_type": "error",
          "ename": "TypeError",
          "evalue": "ignored",
          "traceback": [
            "\u001b[0;31m---------------------------------------------------------------------------\u001b[0m",
            "\u001b[0;31mTypeError\u001b[0m                                 Traceback (most recent call last)",
            "\u001b[0;32m<ipython-input-38-ce869f974c0d>\u001b[0m in \u001b[0;36m<module>\u001b[0;34m\u001b[0m\n\u001b[1;32m      1\u001b[0m \u001b[0;31m#pandas melt ile bu verıyı duzgun hale getırelım.\u001b[0m\u001b[0;34m\u001b[0m\u001b[0;34m\u001b[0m\u001b[0;34m\u001b[0m\u001b[0m\n\u001b[0;32m----> 2\u001b[0;31m \u001b[0mpd\u001b[0m \u001b[0;34m=\u001b[0m\u001b[0mpd\u001b[0m\u001b[0;34m.\u001b[0m\u001b[0mmelt\u001b[0m\u001b[0;34m(\u001b[0m\u001b[0mdata\u001b[0m \u001b[0;34m,\u001b[0m \u001b[0mid_vars\u001b[0m\u001b[0;34m=\u001b[0m\u001b[0;34m[\u001b[0m\u001b[0;34m\"kısıler\"\u001b[0m\u001b[0;34m]\u001b[0m\u001b[0;34m,\u001b[0m \u001b[0mvalue_vars\u001b[0m\u001b[0;34m=\u001b[0m\u001b[0;34m[\u001b[0m\u001b[0;34m\"testoncesı\"\u001b[0m\u001b[0;34m,\u001b[0m\u001b[0;34m\"testsonrası1\"\u001b[0m\u001b[0;34m,\u001b[0m\u001b[0;34m\"testsonrası2\"\u001b[0m\u001b[0;34m,\u001b[0m\u001b[0;34m\"testsonrası3\"\u001b[0m\u001b[0;34m]\u001b[0m\u001b[0;34m)\u001b[0m\u001b[0;34m\u001b[0m\u001b[0;34m\u001b[0m\u001b[0m\n\u001b[0m\u001b[1;32m      3\u001b[0m \u001b[0mpd\u001b[0m\u001b[0;34m.\u001b[0m\u001b[0mcolumns\u001b[0m\u001b[0;34m=\u001b[0m\u001b[0;34m[\u001b[0m\u001b[0;34m\"kısıler\"\u001b[0m\u001b[0;34m,\u001b[0m\u001b[0;34m\"test\"\u001b[0m\u001b[0;34m,\u001b[0m\u001b[0;34m\"olcum\"\u001b[0m\u001b[0;34m]\u001b[0m\u001b[0;34m\u001b[0m\u001b[0;34m\u001b[0m\u001b[0m\n\u001b[1;32m      4\u001b[0m \u001b[0mprint\u001b[0m\u001b[0;34m(\u001b[0m\u001b[0mpd\u001b[0m\u001b[0;34m)\u001b[0m\u001b[0;34m\u001b[0m\u001b[0;34m\u001b[0m\u001b[0m\n",
            "\u001b[0;31mTypeError\u001b[0m: melt() got multiple values for argument 'id_vars'"
          ]
        }
      ]
    },
    {
      "cell_type": "code",
      "source": [
        "pd = pd.melt(data, id_vars=\"kısıler\", value_vars=[\"testoncesı\", \"testsonrası1\", \"testsonrası2\", \"testsonrası3\"])\n",
        "pd.columns = [\"kısıler\", \"test\", \"olcum\"]\n",
        "print(pd)\n"
      ],
      "metadata": {
        "id": "HJOa01sziFN6",
        "outputId": "f77d400d-7204-410e-b8e4-15f09d5e7255",
        "colab": {
          "base_uri": "https://localhost:8080/"
        }
      },
      "execution_count": 27,
      "outputs": [
        {
          "output_type": "stream",
          "name": "stdout",
          "text": [
            "   kısıler          test  olcum\n",
            "0        A    testoncesı    699\n",
            "1        B    testoncesı    528\n",
            "2        C    testoncesı    102\n",
            "3        D    testoncesı    336\n",
            "4        X    testoncesı    773\n",
            "5        Y    testoncesı    906\n",
            "6        A  testsonrası1    729\n",
            "7        B  testsonrası1    665\n",
            "8        C  testsonrası1    723\n",
            "9        D  testsonrası1    728\n",
            "10       X  testsonrası1    510\n",
            "11       Y  testsonrası1    723\n",
            "12       A  testsonrası2    262\n",
            "13       B  testsonrası2    368\n",
            "14       C  testsonrası2    981\n",
            "15       D  testsonrası2    217\n",
            "16       X  testsonrası2    991\n",
            "17       Y  testsonrası2    867\n",
            "18       A  testsonrası3    416\n",
            "19       B  testsonrası3    159\n",
            "20       C  testsonrası3    197\n",
            "21       D  testsonrası3    944\n",
            "22       X  testsonrası3    825\n",
            "23       Y  testsonrası3    116\n"
          ]
        }
      ]
    }
  ],
  "metadata": {
    "colab": {
      "name": "Colaboratory'ye Hoş Geldiniz",
      "provenance": [],
      "include_colab_link": true
    },
    "kernelspec": {
      "display_name": "Python 3",
      "name": "python3"
    }
  },
  "nbformat": 4,
  "nbformat_minor": 0
}