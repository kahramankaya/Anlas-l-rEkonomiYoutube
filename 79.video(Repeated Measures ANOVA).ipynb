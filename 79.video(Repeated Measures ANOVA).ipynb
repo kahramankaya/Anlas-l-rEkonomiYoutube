{
  "cells": [
    {
      "cell_type": "markdown",
      "metadata": {
        "id": "view-in-github",
        "colab_type": "text"
      },
      "source": [
        "<a href=\"https://colab.research.google.com/github/kahramankaya/Anlas-l-rEkonomiYoutube/blob/main/79.video(Repeated%20Measures%20ANOVA).ipynb\" target=\"_parent\"><img src=\"https://colab.research.google.com/assets/colab-badge.svg\" alt=\"Open In Colab\"/></a>"
      ]
    },
    {
      "cell_type": "code",
      "source": [
        "#79.video(Repeated Measures ANOVA)"
      ],
      "metadata": {
        "id": "-dzF1V00iE91"
      },
      "execution_count": null,
      "outputs": []
    },
    {
      "cell_type": "code",
      "source": [
        "import pandas as pd\n",
        "import numpy as np\n",
        "#burda size olarak az sayıda 6 tane belırlemısım ama bu test ıcın orneklem sayısının cok fazla olması gerkeır yoksa frıedman uygulanırdı.\n",
        "data=pd.DataFrame(\n",
        "{\n",
        "\"kısıler\":[\"A\",\"B\",\"C\",\"D\",\"X\",\"Y\"],\n",
        "\"testoncesı\":np.random.randint(1000,size=(6)) ,  \n",
        "\"testsonrası1\":np.random.randint(1000,size=(6)),\n",
        "\"testsonrası2\":np.random.randint(1000,size=(6)),\n",
        "\"testsonrası3\":np.random.randint(1000,size=(6)),\n",
        "}\n",
        ")\n",
        "print(data)"
      ],
      "metadata": {
        "id": "o5DCOu9riFDs",
        "outputId": "3a81236a-d485-407c-f9df-62824320f4fc",
        "colab": {
          "base_uri": "https://localhost:8080/"
        }
      },
      "execution_count": null,
      "outputs": [
        {
          "output_type": "stream",
          "name": "stdout",
          "text": [
            "  kısıler  testoncesı  testsonrası1  testsonrası2  testsonrası3\n",
            "0       A         160           362           910           774\n",
            "1       B         780           493           873           331\n",
            "2       C         551           132           163            43\n",
            "3       D         664           534           883           558\n",
            "4       X         571             7           156            68\n",
            "5       Y         298           904           838           740\n"
          ]
        }
      ]
    },
    {
      "cell_type": "code",
      "source": [
        "#pandas melt ile bu verıyı duzgun hale getırelım.\n",
        "pd =pd.melt(data , id_vars=[\"kısıler\"], value_vars=[\"testoncesı\",\"testsonrası1\",\"testsonrası2\",\"testsonrası3\"])\n",
        "pd.columns=[\"kısıler\",\"test\",\"olcum\"]\n",
        "print(pd)"
      ],
      "metadata": {
        "id": "Ob36t7JuiFJE",
        "outputId": "c112c87c-1c8a-4662-fc2d-20be72953f04",
        "colab": {
          "base_uri": "https://localhost:8080/"
        }
      },
      "execution_count": null,
      "outputs": [
        {
          "output_type": "stream",
          "name": "stdout",
          "text": [
            "   kısıler          test  olcum\n",
            "0        A    testoncesı    160\n",
            "1        B    testoncesı    780\n",
            "2        C    testoncesı    551\n",
            "3        D    testoncesı    664\n",
            "4        X    testoncesı    571\n",
            "5        Y    testoncesı    298\n",
            "6        A  testsonrası1    362\n",
            "7        B  testsonrası1    493\n",
            "8        C  testsonrası1    132\n",
            "9        D  testsonrası1    534\n",
            "10       X  testsonrası1      7\n",
            "11       Y  testsonrası1    904\n",
            "12       A  testsonrası2    910\n",
            "13       B  testsonrası2    873\n",
            "14       C  testsonrası2    163\n",
            "15       D  testsonrası2    883\n",
            "16       X  testsonrası2    156\n",
            "17       Y  testsonrası2    838\n",
            "18       A  testsonrası3    774\n",
            "19       B  testsonrası3    331\n",
            "20       C  testsonrası3     43\n",
            "21       D  testsonrası3    558\n",
            "22       X  testsonrası3     68\n",
            "23       Y  testsonrası3    740\n"
          ]
        }
      ]
    },
    {
      "cell_type": "code",
      "source": [
        "#her test ıcın normallık ıcın pingoin kullandık. boylece her grup ıcın normallıge baktı ve hepsının normal dagıldıgını soyledı.\n",
        "!pip install pingouin\n",
        "import pingouin as pg\n",
        "#dv kısmına bagımlı degıskenı atıyoruz.\n",
        "normallık_testı=pg.normality(data=pd,dv=\"olcum\",group=\"test\",method=\"shapiro\")\n",
        "print(normallık_testı)"
      ],
      "metadata": {
        "id": "sflWmG1CQ6EB",
        "outputId": "7ddbb1fa-9128-4e98-950e-5600f9fd76f9",
        "colab": {
          "base_uri": "https://localhost:8080/"
        }
      },
      "execution_count": null,
      "outputs": [
        {
          "output_type": "stream",
          "name": "stdout",
          "text": [
            "Looking in indexes: https://pypi.org/simple, https://us-python.pkg.dev/colab-wheels/public/simple/\n",
            "Requirement already satisfied: pingouin in /usr/local/lib/python3.8/dist-packages (0.5.3)\n",
            "Requirement already satisfied: numpy>=1.19 in /usr/local/lib/python3.8/dist-packages (from pingouin) (1.22.4)\n",
            "Requirement already satisfied: seaborn>=0.11 in /usr/local/lib/python3.8/dist-packages (from pingouin) (0.11.2)\n",
            "Requirement already satisfied: scipy>=1.7 in /usr/local/lib/python3.8/dist-packages (from pingouin) (1.10.1)\n",
            "Requirement already satisfied: pandas>=1.0 in /usr/local/lib/python3.8/dist-packages (from pingouin) (1.3.5)\n",
            "Requirement already satisfied: tabulate in /usr/local/lib/python3.8/dist-packages (from pingouin) (0.8.10)\n",
            "Requirement already satisfied: scikit-learn in /usr/local/lib/python3.8/dist-packages (from pingouin) (1.2.1)\n",
            "Requirement already satisfied: statsmodels>=0.13 in /usr/local/lib/python3.8/dist-packages (from pingouin) (0.13.5)\n",
            "Requirement already satisfied: outdated in /usr/local/lib/python3.8/dist-packages (from pingouin) (0.2.2)\n",
            "Requirement already satisfied: pandas-flavor>=0.2.0 in /usr/local/lib/python3.8/dist-packages (from pingouin) (0.5.0)\n",
            "Requirement already satisfied: matplotlib>=3.0.2 in /usr/local/lib/python3.8/dist-packages (from pingouin) (3.5.3)\n",
            "Requirement already satisfied: pyparsing>=2.2.1 in /usr/local/lib/python3.8/dist-packages (from matplotlib>=3.0.2->pingouin) (3.0.9)\n",
            "Requirement already satisfied: python-dateutil>=2.7 in /usr/local/lib/python3.8/dist-packages (from matplotlib>=3.0.2->pingouin) (2.8.2)\n",
            "Requirement already satisfied: fonttools>=4.22.0 in /usr/local/lib/python3.8/dist-packages (from matplotlib>=3.0.2->pingouin) (4.38.0)\n",
            "Requirement already satisfied: packaging>=20.0 in /usr/local/lib/python3.8/dist-packages (from matplotlib>=3.0.2->pingouin) (23.0)\n",
            "Requirement already satisfied: pillow>=6.2.0 in /usr/local/lib/python3.8/dist-packages (from matplotlib>=3.0.2->pingouin) (8.4.0)\n",
            "Requirement already satisfied: cycler>=0.10 in /usr/local/lib/python3.8/dist-packages (from matplotlib>=3.0.2->pingouin) (0.11.0)\n",
            "Requirement already satisfied: kiwisolver>=1.0.1 in /usr/local/lib/python3.8/dist-packages (from matplotlib>=3.0.2->pingouin) (1.4.4)\n",
            "Requirement already satisfied: pytz>=2017.3 in /usr/local/lib/python3.8/dist-packages (from pandas>=1.0->pingouin) (2022.7.1)\n",
            "Requirement already satisfied: xarray in /usr/local/lib/python3.8/dist-packages (from pandas-flavor>=0.2.0->pingouin) (2022.12.0)\n",
            "Requirement already satisfied: lazy-loader>=0.1 in /usr/local/lib/python3.8/dist-packages (from pandas-flavor>=0.2.0->pingouin) (0.1)\n",
            "Requirement already satisfied: patsy>=0.5.2 in /usr/local/lib/python3.8/dist-packages (from statsmodels>=0.13->pingouin) (0.5.3)\n",
            "Requirement already satisfied: setuptools>=44 in /usr/local/lib/python3.8/dist-packages (from outdated->pingouin) (57.4.0)\n",
            "Requirement already satisfied: littleutils in /usr/local/lib/python3.8/dist-packages (from outdated->pingouin) (0.2.2)\n",
            "Requirement already satisfied: requests in /usr/local/lib/python3.8/dist-packages (from outdated->pingouin) (2.25.1)\n",
            "Requirement already satisfied: joblib>=1.1.1 in /usr/local/lib/python3.8/dist-packages (from scikit-learn->pingouin) (1.2.0)\n",
            "Requirement already satisfied: threadpoolctl>=2.0.0 in /usr/local/lib/python3.8/dist-packages (from scikit-learn->pingouin) (3.1.0)\n",
            "Requirement already satisfied: six in /usr/local/lib/python3.8/dist-packages (from patsy>=0.5.2->statsmodels>=0.13->pingouin) (1.15.0)\n",
            "Requirement already satisfied: urllib3<1.27,>=1.21.1 in /usr/local/lib/python3.8/dist-packages (from requests->outdated->pingouin) (1.26.14)\n",
            "Requirement already satisfied: idna<3,>=2.5 in /usr/local/lib/python3.8/dist-packages (from requests->outdated->pingouin) (2.10)\n",
            "Requirement already satisfied: chardet<5,>=3.0.2 in /usr/local/lib/python3.8/dist-packages (from requests->outdated->pingouin) (4.0.0)\n",
            "Requirement already satisfied: certifi>=2017.4.17 in /usr/local/lib/python3.8/dist-packages (from requests->outdated->pingouin) (2022.12.7)\n",
            "                     W      pval  normal\n",
            "test                                    \n",
            "testoncesı    0.895402  0.347463    True\n",
            "testsonrası1  0.818764  0.086103    True\n",
            "testsonrası2  0.974732  0.922580    True\n",
            "testsonrası3  0.930115  0.580987    True\n"
          ]
        }
      ]
    },
    {
      "cell_type": "code",
      "source": [
        "#küresellik testi:varyans lar eşit mi değil mi buna bakar. h0 eşit diyor.\n",
        "#subject kısmı ilk column alınır. within ise hangı gruplar karsılastırmak ıstnıyorsa onun columnu yazılır.\n",
        "#eger homojenlık saglanmıssa o zaman tekrarlı anova yapısı uygulanabilir.\n",
        "homojenlik=pg.sphericity(data=pd,dv=\"olcum\",subject=\"kısıler\",within=\"test\")\n",
        "print(homojenlik)"
      ],
      "metadata": {
        "id": "FLMmzViHTs97",
        "outputId": "d4098ab2-b1fa-41da-83bd-04086be22f58",
        "colab": {
          "base_uri": "https://localhost:8080/"
        }
      },
      "execution_count": null,
      "outputs": [
        {
          "output_type": "stream",
          "name": "stdout",
          "text": [
            "SpherResults(spher=True, W=0.14680214505937053, chi2=7.141714439042083, dof=5, pval=0.22431069502597029)\n"
          ]
        }
      ]
    },
    {
      "cell_type": "code",
      "source": [
        "ANOVA=pg.rm_anova(data=pd,dv=\"olcum\",subject=\"kısıler\",within=\"test\")\n",
        "#p-unc degerıne bak.\n",
        "#demek ki yapılan testler arasında anlamlı bır farklılık yokmus. eger olsaydı o zaman o zaman bu farkı yaratan grupları bulmak ıcın posthoc testıne gecılır.\n",
        "print(ANOVA)"
      ],
      "metadata": {
        "id": "gCqHjBzNdNFs",
        "outputId": "345a1934-fa9e-40aa-83a6-6f6a522904be",
        "colab": {
          "base_uri": "https://localhost:8080/"
        }
      },
      "execution_count": null,
      "outputs": [
        {
          "output_type": "stream",
          "name": "stdout",
          "text": [
            "  Source  ddof1  ddof2         F     p-unc       ng2       eps\n",
            "0   test      3     15  0.375334  0.772069  0.063152  0.485982\n"
          ]
        }
      ]
    },
    {
      "cell_type": "code",
      "source": [
        "#varsayalım ki anova sonucu h0 red edildi. bu farka hangı grupların neden oldugunu bulamk ıcın posthoc testı uygulayacaktık.\n",
        "#padjust parametresi eklenmesi gerekir dogru sonuc verılebılmesı ıcın. unutma.\n",
        "posthoc=pg.pairwise_ttests(data=pd,dv=\"olcum\",subject=\"kısıler\",within=\"test\",padjust=\"bonf\")\n",
        "#p-corr kısmına bak. orası 0.05 ten kucuk ıse demek ki orası farka neden olmus demektır.\n",
        "print(posthoc)"
      ],
      "metadata": {
        "id": "db8sKxXOe937",
        "outputId": "57931546-8a42-4709-f286-bff26b238f24",
        "colab": {
          "base_uri": "https://localhost:8080/"
        }
      },
      "execution_count": null,
      "outputs": [
        {
          "output_type": "stream",
          "name": "stdout",
          "text": [
            "  Contrast             A             B  Paired  Parametric         T  dof  \\\n",
            "0     test    testoncesı  testsonrası1    True        True  0.311962  5.0   \n",
            "1     test    testoncesı  testsonrası2    True        True -1.184289  5.0   \n",
            "2     test    testoncesı  testsonrası3    True        True -0.052404  5.0   \n",
            "3     test  testsonrası1  testsonrası2    True        True -0.949270  5.0   \n",
            "4     test  testsonrası1  testsonrası3    True        True -0.793568  5.0   \n",
            "5     test  testsonrası2  testsonrası3    True        True  0.576734  5.0   \n",
            "\n",
            "  alternative     p-unc  p-corr p-adjust   BF10    hedges  \n",
            "0   two-sided  0.767659     1.0     bonf  0.389  0.223229  \n",
            "1   two-sided  0.289523     1.0     bonf  0.625 -0.427985  \n",
            "2   two-sided  0.960236     1.0     bonf  0.374 -0.032626  \n",
            "3   two-sided  0.386075     1.0     bonf  0.528 -0.652794  \n",
            "4   two-sided  0.463426     1.0     bonf  0.479 -0.251444  \n",
            "5   two-sided  0.589110     1.0     bonf  0.427  0.380944  \n"
          ]
        },
        {
          "output_type": "stream",
          "name": "stderr",
          "text": [
            "/usr/local/lib/python3.8/dist-packages/pingouin/pairwise.py:28: UserWarning: pairwise_ttests is deprecated, use pairwise_tests instead.\n",
            "  warnings.warn(\"pairwise_ttests is deprecated, use pairwise_tests instead.\", UserWarning)\n"
          ]
        }
      ]
    },
    {
      "cell_type": "code",
      "source": [],
      "metadata": {
        "id": "cawRzZ9GTtPg"
      },
      "execution_count": null,
      "outputs": []
    }
  ],
  "metadata": {
    "colab": {
      "name": "Colaboratory'ye Hoş Geldiniz",
      "provenance": [],
      "include_colab_link": true
    },
    "kernelspec": {
      "display_name": "Python 3",
      "name": "python3"
    }
  },
  "nbformat": 4,
  "nbformat_minor": 0
}