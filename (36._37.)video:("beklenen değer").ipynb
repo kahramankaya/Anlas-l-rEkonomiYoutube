{
  "cells": [
    {
      "cell_type": "markdown",
      "metadata": {
        "id": "view-in-github",
        "colab_type": "text"
      },
      "source": [
        "<a href=\"https://colab.research.google.com/github/kahramankaya/Anlas-l-rEkonomiYoutube/blob/main/(36._37.)video%3A(%22beklenen%20de%C4%9Fer%22).ipynb\" target=\"_parent\"><img src=\"https://colab.research.google.com/assets/colab-badge.svg\" alt=\"Open In Colab\"/></a>"
      ]
    },
    {
      "cell_type": "code",
      "source": [
        "(36._37.)video:\"beklenen değer\": beklenen deger mesela yatırım yaparsın ve zararda olmaman ıcın bır degerı bılmen lazım buna da beklenen deger denılebılır."
      ],
      "metadata": {
        "id": "1FcjxaU7O2Nd"
      },
      "execution_count": null,
      "outputs": []
    },
    {
      "cell_type": "code",
      "source": [
        "olasılığın kesikli ve ya sürekli olmasına göre bekelenen değer hesaplama formülü değişir.\n",
        "eğer kesikli ise mesela zarda 1,2,3,4,5,6 gelem olasılıkları var. her birinin gelme olasılıgı esit olup 1/6 dır.\n",
        "beklenen değer hesaplama şöyle yapılır: E(x)=1*(1/6)+2*(1/6)+3*(1/6)+4*(1/6)+5*(1/6)+6*(1/6) bu şekilde hesaplanır.\n",
        "açıklaması şu: her bir değerin gelme olasığını random değişken(rassal değişken) ile çarpıp tümünü toplarsak o zaman kesikli için beklenen değer hesaplanır.\n",
        "ornek2: 12.dk ve 13. arası çok güzel bir ornek var farklı vıdeodan daha ıyı anlarsın. bu yüzden yazmadım.\n"
      ],
      "metadata": {
        "id": "OXAhBXxtO1ib"
      },
      "execution_count": null,
      "outputs": []
    },
    {
      "cell_type": "code",
      "source": [
        "eğer olasılık sürekli ise o zaman beklenen değer hesaplaması integral ile bulunur.\n",
        "bu integrale sınırlar yazılır ve verılen fonksıyonu ek olarak x  ile carpılır ve daha sonra ıntegral alam ışlemi ile beklenen değr bulunur.\n",
        "bunu video dan izlersen daha iyi anlarsın.\n"
      ],
      "metadata": {
        "id": "AFAnsSepO1fs"
      },
      "execution_count": null,
      "outputs": []
    },
    {
      "cell_type": "code",
      "source": [
        "şimdi yukarıda anlatılan şeyleri python ile nasıl yapıldığını göstereceğim."
      ],
      "metadata": {
        "id": "cIztrR8IO1cr"
      },
      "execution_count": null,
      "outputs": []
    },
    {
      "cell_type": "code",
      "source": [
        "from scipy import stats\n",
        "x=[1,2,3,4,5,6] # zar yuzeylerı yanı rassal degıskenler\n",
        "p=[1/6,1/6,1/6,1/6,1/6,1/6] # her rassal değişkenin olasılık değeri\n",
        "BeklenenDeger=stats.rv_discrete(values=([x],[p])).expect() # kesıklı ıse rv_discrete degılse rv_continious kullanılır. bundan sonra da expect fonksıyonu hesaplama yapar.\n",
        "print(BeklenenDeger) # 3.5 sonucu verdi yukarıda uzun yoldan cıktıgı gıbı."
      ],
      "metadata": {
        "id": "J3cggJMgO1ZL",
        "outputId": "e46a82d4-038b-4966-8aec-dca0593b9c7a",
        "colab": {
          "base_uri": "https://localhost:8080/"
        }
      },
      "execution_count": 2,
      "outputs": [
        {
          "output_type": "stream",
          "name": "stdout",
          "text": [
            "3.5\n"
          ]
        }
      ]
    },
    {
      "cell_type": "code",
      "source": [
        "# şimdi başka ornke olan parayı 3 kere yukarı atıyoruz. ve beklenen degerı hesaplıyoruz. bu durumd akesıklı.\n",
        "olasılıklar=\n",
        "\"\"\"\n",
        "ttt>>>>>>>>> 0 rassal değişkeni verildi.(yazının hıc gelmemesı)\n",
        "tty,tyt,ytt>>>>>> 1 rassal değişkeni verildi.(yazının sadece bır kez geldıgı durumlar)\n",
        "tyy,yty,yyt>>>>>>> 2 rassal değişkeni verildi.(yazının iki kez geldıgı durumlar)\n",
        "yyy>>>>>>>>>>>>>>> 3 rassal değişken olarak verildi. (yazının uc kez geldıgı durum)\n",
        "\"\"\"\n",
        "from scipy import stats\n",
        "x=[0,1,2,3]  # rassallar\n",
        "p=[1/8,3/8,3/8,1/8] # \n",
        "BeklenenDeger=stats.rv_discrete(values=([x],[p])).expect()\n",
        "print(BeklenenDeger) # 1.5 cıktı."
      ],
      "metadata": {
        "id": "GpY0KzSBO00T",
        "outputId": "3437f670-254f-496d-a031-909f5219c34e",
        "colab": {
          "base_uri": "https://localhost:8080/"
        }
      },
      "execution_count": 8,
      "outputs": [
        {
          "output_type": "stream",
          "name": "stdout",
          "text": [
            "1.5\n"
          ]
        }
      ]
    },
    {
      "cell_type": "code",
      "source": [
        "\n",
        "# bu ornek sürekli bir ornke olacak.\n",
        "from scipy import stats\n",
        "import scipy.integrate\n",
        "def f(x):\n",
        "  return (3/7)*(x)**3\n",
        "\n",
        "BeklenenDeger=scipy.integrate.quad(f,1,2) # quad ıntegral hesaplamaya yarar. parantezde ılk parametre fonksıyon ısmı. dıgerı sırasıyla ıntegrakın alt ve ust sınırı.\n",
        "print(BeklenenDeger) # (1.6071428571428572, 1.7842870038618588e-14) sonuc bu ama bızım cevabımız ilk olan bu 1.6071428571428572\n"
      ],
      "metadata": {
        "id": "LQCGdHmmuKM-",
        "outputId": "6cd7f25e-69ce-4c11-b803-bfd49283466a",
        "colab": {
          "base_uri": "https://localhost:8080/"
        }
      },
      "execution_count": 15,
      "outputs": [
        {
          "output_type": "stream",
          "name": "stdout",
          "text": [
            "(1.6071428571428572, 1.7842870038618588e-14)\n"
          ]
        }
      ]
    }
  ],
  "metadata": {
    "colab": {
      "name": "Colaboratory'ye Hoş Geldiniz",
      "provenance": [],
      "include_colab_link": true
    },
    "kernelspec": {
      "display_name": "Python 3",
      "name": "python3"
    }
  },
  "nbformat": 4,
  "nbformat_minor": 0
}