{
  "cells": [
    {
      "cell_type": "markdown",
      "metadata": {
        "id": "view-in-github",
        "colab_type": "text"
      },
      "source": [
        "<a href=\"https://colab.research.google.com/github/kahramankaya/Anlas-l-rEkonomiYoutube/blob/main/Anla%C5%9F%C4%B1l%C4%B1r%20Ekonomi%20Python%20ile%20Veri%20Analizi/42.video(Bernoulli%20da%C4%9F%C4%B1l%C4%B1m%C4%B1).ipynb\" target=\"_parent\"><img src=\"https://colab.research.google.com/assets/colab-badge.svg\" alt=\"Open In Colab\"/></a>"
      ]
    },
    {
      "cell_type": "code",
      "source": [
        "# 42.video(Bernoulli dağılımı) : bernoulli dagılımı daha cok tek olaylarda gerceklesır. tek olaydan kastetdıgım şu: mesela parayı cogu kez degılde sadece \n",
        "bır kere atmak bernoullı dagılımını olusuturur. boyle dusun.\n",
        "# video da bernoulli dağılımının fonksiyonunun formulu var.\n",
        "# hem yazı tura için hemde 52 oyunun da papaz gelme dagılımları bernoulli ile cızıldı.\n",
        "\n"
      ],
      "metadata": {
        "id": "sAk_S1iZtRiM"
      },
      "execution_count": null,
      "outputs": []
    },
    {
      "cell_type": "code",
      "source": [
        "# para atma ornegı:\n",
        "from scipy import stats\n",
        "p=0.5 # olasılık degerımız.\n",
        "dağilim=stats.bernoulli(p)\n",
        "turaOlasılık=dağilim.pmf(k=0) # k degerı rassalın degerı oluyor. k nın 0 olması tura gelme olasılıgı ıken, 1 gelmesi ise yazı gelme olasılıgıdır.\n",
        "yazıOlasılık=dağilim.pmf(k=1) # pmf fonksiyonunu kullanmamızın nedeni de bernoulli de kesikli oldugu ıcın pmf de kesıklı ıcın kullanılan bır fon oldugu ıcın kullandık.\n",
        "print(turaOlasılık) # 0.5\n",
        "print(yazıOlasılık) # 0.5\n",
        "print(dağilim.expect()) # bu da bize beklenen değeri verdi. 0.5 cıktı.\n",
        "print(dağilim.var()) # varyansı bulduk var() ile. \n"
      ],
      "metadata": {
        "id": "vJm1NFdJtR4r",
        "outputId": "479ee63d-8e4e-4922-8f31-bfaae7f43e58",
        "colab": {
          "base_uri": "https://localhost:8080/"
        }
      },
      "execution_count": null,
      "outputs": [
        {
          "output_type": "stream",
          "name": "stdout",
          "text": [
            "0.5\n",
            "0.5\n",
            "0.5\n",
            "0.25\n"
          ]
        }
      ]
    },
    {
      "cell_type": "code",
      "source": [
        "# 52 oyunu için papaz gelme olasıgı:\n",
        "from scipy import stats\n",
        "p=4/52 # papaz gelme olasılıgı\n",
        "dağilim=stats.bernoulli(p)\n",
        "papazgelmeOlasılık=dağilim.pmf(k=1) # kesikli olduğu için pmf fonksyonu kullanılıyor.\n",
        "papazgelmemeOlasılık=dağilim.pmf(k=0)\n",
        "print(papazgelmeOlasılık,papazgelmemeOlasılık)\n",
        "print(dağilim.expect())\n",
        "print(dağilim.var())\n",
        "\n",
        "\n",
        "\n"
      ],
      "metadata": {
        "id": "J3_XCugptSAS",
        "outputId": "b3d830d2-568a-49b2-8dae-5dd6fa0e9297",
        "colab": {
          "base_uri": "https://localhost:8080/"
        }
      },
      "execution_count": null,
      "outputs": [
        {
          "output_type": "stream",
          "name": "stdout",
          "text": [
            "0.07692307692307693 0.9230769230769231\n",
            "0.07692307692307693\n",
            "0.07100591715976332\n"
          ]
        }
      ]
    },
    {
      "cell_type": "code",
      "source": [],
      "metadata": {
        "id": "Zr505V76tRXq"
      },
      "execution_count": null,
      "outputs": []
    },
    {
      "cell_type": "code",
      "source": [],
      "metadata": {
        "id": "NjhtYR81tRSk"
      },
      "execution_count": null,
      "outputs": []
    },
    {
      "cell_type": "code",
      "source": [],
      "metadata": {
        "id": "XXWAyql5tRKS"
      },
      "execution_count": null,
      "outputs": []
    }
  ],
  "metadata": {
    "colab": {
      "name": "Colaboratory'ye Hoş Geldiniz",
      "provenance": [],
      "include_colab_link": true
    },
    "kernelspec": {
      "display_name": "Python 3",
      "name": "python3"
    }
  },
  "nbformat": 4,
  "nbformat_minor": 0
}