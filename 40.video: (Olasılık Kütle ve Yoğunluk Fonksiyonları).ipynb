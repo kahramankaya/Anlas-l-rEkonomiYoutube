{
  "cells": [
    {
      "cell_type": "markdown",
      "metadata": {
        "id": "view-in-github",
        "colab_type": "text"
      },
      "source": [
        "<a href=\"https://colab.research.google.com/github/kahramankaya/Anlas-l-rEkonomiYoutube/blob/main/40.video%3A%20(Olas%C4%B1l%C4%B1k%20K%C3%BCtle%20ve%20Yo%C4%9Funluk%20Fonksiyonlar%C4%B1).ipynb\" target=\"_parent\"><img src=\"https://colab.research.google.com/assets/colab-badge.svg\" alt=\"Open In Colab\"/></a>"
      ]
    },
    {
      "cell_type": "code",
      "source": [
        "# 40.video: ((Olasılık Kütle ve Yoğunluk Fonksiyonları))"
      ],
      "metadata": {
        "id": "XRMUUBfzBJER"
      },
      "execution_count": null,
      "outputs": []
    },
    {
      "cell_type": "code",
      "source": [
        "# video da cogu sey anlatılmıs hepsını ayazmadım.\n",
        "# ama en onemlı yerlerden bır tanesı şu: \n",
        "# 1) kesikli degerler ıcın her rassalın bır olasılık degerı bulunurken sureklı(tekdüze) bır dagılımda \n",
        "# bu boyle degıl. sureklı olunca her rassal ıcın dırek bır tane olasılık degerı bulunmuyor.\n",
        "# bunun yerıne aralık kullanılır. meslea su aralık ıcın olasılık degerı şu dur diye.\n",
        "# ve de sürekli(tekdüze) de rassalın karşıgı olan olasılık degrı degıl dıkkat et. o rassalın fonksıyon degreıdır.\n",
        "# PMF=Olasılık kuramı bilim dalında bir olasılık kütle fonksiyonu bir ayrık rassal değişkenin olasılığının tıpatıp belli bir değere eşit olduğunu gösteren bir fonksiyondur\n",
        "# PDF=sürekli fonksiyon için kullanılan isim gibi bir şey tam anlamadım.\n"
      ],
      "metadata": {
        "id": "o0lEo85OBJ1y"
      },
      "execution_count": null,
      "outputs": []
    }
  ],
  "metadata": {
    "colab": {
      "name": "Colaboratory'ye Hoş Geldiniz",
      "provenance": [],
      "include_colab_link": true
    },
    "kernelspec": {
      "display_name": "Python 3",
      "name": "python3"
    }
  },
  "nbformat": 4,
  "nbformat_minor": 0
}