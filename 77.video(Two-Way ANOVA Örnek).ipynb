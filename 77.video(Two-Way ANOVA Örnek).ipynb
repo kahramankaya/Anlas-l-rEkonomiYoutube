{
  "cells": [
    {
      "cell_type": "markdown",
      "metadata": {
        "id": "view-in-github",
        "colab_type": "text"
      },
      "source": [
        "<a href=\"https://colab.research.google.com/github/kahramankaya/Anlas-l-rEkonomiYoutube/blob/main/77.video(Two-Way%20ANOVA%20%C3%96rnek).ipynb\" target=\"_parent\"><img src=\"https://colab.research.google.com/assets/colab-badge.svg\" alt=\"Open In Colab\"/></a>"
      ]
    },
    {
      "cell_type": "code",
      "source": [
        "#devam 77.video(Two-Way ANOVA Örnek)\n",
        "import numpy as np\n",
        "import pandas as pd\n",
        "\n",
        "np.random.seed(5)\n",
        "list1=[]\n",
        "list2=[]\n",
        "for m in range(100):\n",
        "  tohum_turlerı=np.random.choice([\"a\",\"b\",\"c\",\"d\",\"e\"])\n",
        "  list1.append(tohum_turlerı)\n",
        "\n",
        "for m in range(100):\n",
        "  gubre_turlerı=np.random.choice([\"x\",\"y\",\"z\"])\n",
        "  list2.append(gubre_turlerı)\n",
        "\n",
        "verim=np.random.randint(1,1000,size=(100))\n",
        "pd.DataFrame(verim,columns=[\"verim\"])\n",
        "data=pd.concat([pd.DataFrame(list1,columns=[\"tohum\"]),pd.DataFrame(list2,columns=[\"gubre\"]),pd.DataFrame(verim,columns=[\"verim\"])],axis=1)\n",
        "print(data)\n"
      ],
      "metadata": {
        "colab": {
          "base_uri": "https://localhost:8080/"
        },
        "id": "VEtaE3pZvW3_",
        "outputId": "5604a008-fb02-4bc9-afa9-a87535835a0f"
      },
      "execution_count": 3,
      "outputs": [
        {
          "output_type": "stream",
          "name": "stdout",
          "text": [
            "   tohum gubre  verim\n",
            "0      d     x    411\n",
            "1      a     z    938\n",
            "2      b     x    212\n",
            "3      a     y    285\n",
            "4      e     x    460\n",
            "..   ...   ...    ...\n",
            "95     e     y    436\n",
            "96     d     z    726\n",
            "97     e     x    114\n",
            "98     d     y    785\n",
            "99     b     y    865\n",
            "\n",
            "[100 rows x 3 columns]\n"
          ]
        }
      ]
    },
    {
      "cell_type": "code",
      "source": [
        "#iki yonlu anova yapısı arkada bır dogrusal model ile çalışıyor.\n",
        "from scipy import stats\n",
        "import statsmodels.api as sm\n",
        "import statsmodels.stats as ss\n",
        "from statsmodels.formula.api import  ols\n",
        "import matplotlib.pyplot as plt\n",
        "\n",
        "#yapılan işlem şu: yalnızca tohum yalnız gubre ve daha sonra tohum gubrenın bırlıkte verıme etkısı . yazılan kod bu anlamda.\n",
        "model=\"verim ~ C(tohum)+C(gubre):C(tohum)+C(gubre)\"\n",
        "test=ols(model,data=data).fit()\n"
      ],
      "metadata": {
        "id": "IYDUC0KdcFVB"
      },
      "execution_count": 20,
      "outputs": []
    },
    {
      "cell_type": "code",
      "source": [
        "#resid modelde ki hataları hatalar degıskenıne atmayı saglar.\n",
        "hatalar=test.resid\n",
        "\n",
        "nor=stats.shapiro(hatalar)\n",
        "#hatalar normal dagılmıs ılk adım tamamlandı. ikinci adım varyans homojenlıgı ıcın h0 kabul varsayarak yola devam. cunku o bıraz burada karıısık regresyonda ıslenecek.\n",
        "print(nor)"
      ],
      "metadata": {
        "id": "2c5gC-OIsMhv",
        "outputId": "337edd23-ddd2-4196-ef3a-e0b83b9a1812",
        "colab": {
          "base_uri": "https://localhost:8080/"
        }
      },
      "execution_count": 19,
      "outputs": [
        {
          "output_type": "stream",
          "name": "stdout",
          "text": [
            "ShapiroResult(statistic=0.9913063049316406, pvalue=0.769005537033081)\n"
          ]
        }
      ]
    },
    {
      "cell_type": "code",
      "source": [
        "#model anlamlılıgına bakalım. eger ols regression results kısmında \"Prob (F-statistic):             0.0588\"  bu degere baktıgımız zaman eger 0.05 ten kucuk ıse o zaman model anlamlı olur.\n",
        "print(test.summary())"
      ],
      "metadata": {
        "id": "9cSSv3jHsNn_",
        "outputId": "5583352f-49fb-4d3e-ac0e-eb44b23802ac",
        "colab": {
          "base_uri": "https://localhost:8080/"
        }
      },
      "execution_count": 24,
      "outputs": [
        {
          "output_type": "stream",
          "name": "stdout",
          "text": [
            "                            OLS Regression Results                            \n",
            "==============================================================================\n",
            "Dep. Variable:                  verim   R-squared:                       0.225\n",
            "Model:                            OLS   Adj. R-squared:                  0.097\n",
            "Method:                 Least Squares   F-statistic:                     1.759\n",
            "Date:                Tue, 07 Mar 2023   Prob (F-statistic):             0.0588\n",
            "Time:                        15:51:00   Log-Likelihood:                -697.01\n",
            "No. Observations:                 100   AIC:                             1424.\n",
            "Df Residuals:                      85   BIC:                             1463.\n",
            "Df Model:                          14                                         \n",
            "Covariance Type:            nonrobust                                         \n",
            "===============================================================================================\n",
            "                                  coef    std err          t      P>|t|      [0.025      0.975]\n",
            "-----------------------------------------------------------------------------------------------\n",
            "Intercept                     406.8000    124.930      3.256      0.002     158.406     655.194\n",
            "C(tohum)[T.b]                 -36.4667    155.815     -0.234      0.816    -346.268     273.334\n",
            "C(tohum)[T.c]                 -88.3000    169.155     -0.522      0.603    -424.626     248.026\n",
            "C(tohum)[T.d]                 -93.2000    153.007     -0.609      0.544    -397.419     211.019\n",
            "C(tohum)[T.e]                -119.8000    233.722     -0.513      0.610    -584.502     344.902\n",
            "C(gubre)[T.y]                 -79.0500    159.255     -0.496      0.621    -395.691     237.591\n",
            "C(gubre)[T.z]                   1.2000    159.255      0.008      0.994    -315.441     317.841\n",
            "C(gubre)[T.y]:C(tohum)[T.b]   437.3167    222.801      1.963      0.053      -5.671     880.304\n",
            "C(gubre)[T.z]:C(tohum)[T.b]   316.9667    216.885      1.461      0.148    -114.258     748.192\n",
            "C(gubre)[T.y]:C(tohum)[T.c]   353.5500    240.577      1.470      0.145    -124.782     831.882\n",
            "C(gubre)[T.z]:C(tohum)[T.c]    64.0500    240.577      0.266      0.791    -414.282     542.382\n",
            "C(gubre)[T.y]:C(tohum)[T.d]   203.2000    207.172      0.981      0.329    -208.714     615.114\n",
            "C(gubre)[T.z]:C(tohum)[T.d]   360.7000    214.876      1.679      0.097     -66.532     787.932\n",
            "C(gubre)[T.y]:C(tohum)[T.e]   301.6500    268.671      1.123      0.265    -232.540     835.840\n",
            "C(gubre)[T.z]:C(tohum)[T.e]   324.1333    270.280      1.199      0.234    -213.256     861.523\n",
            "==============================================================================\n",
            "Omnibus:                        0.515   Durbin-Watson:                   1.742\n",
            "Prob(Omnibus):                  0.773   Jarque-Bera (JB):                0.665\n",
            "Skew:                           0.105   Prob(JB):                        0.717\n",
            "Kurtosis:                       2.660   Cond. No.                         24.7\n",
            "==============================================================================\n",
            "\n",
            "Notes:\n",
            "[1] Standard Errors assume that the covariance matrix of the errors is correctly specified.\n"
          ]
        }
      ]
    },
    {
      "cell_type": "code",
      "source": [
        "#lm lineer model demek.\n",
        "anova=sm.stats.anova_lm(test,type=2)\n",
        "# PR(>F)  bu kısma bak. tohumun,gubrenın,her ıksının bırlıkte verım ustunden etkısı var mı burdn anlaşılır. 0.05 ten buyuk mu kucuk mu bak bu kadar.\n",
        "#tohumun degerı alpha dan buyuk demek kı verım ustunde etksıı var. gubrenın kı yok. her ıkısı bırlıkte verım ustunde etkısı var.\n",
        "print(anova)"
      ],
      "metadata": {
        "id": "VinW_X9rxzpy",
        "outputId": "031bdb55-8796-4a05-8fe2-1dba46bbf94e",
        "colab": {
          "base_uri": "https://localhost:8080/"
        }
      },
      "execution_count": 28,
      "outputs": [
        {
          "output_type": "stream",
          "name": "stdout",
          "text": [
            "                     df        sum_sq        mean_sq         F    PR(>F)\n",
            "C(tohum)            4.0  4.637365e+05  115934.114702  1.485630  0.213731\n",
            "C(gubre)            2.0  8.432801e+05  421640.065090  5.403077  0.006181\n",
            "C(gubre):C(tohum)   8.0  6.142965e+05   76787.058876  0.983982  0.454285\n",
            "Residual           85.0  6.633147e+06   78037.024118       NaN       NaN\n"
          ]
        }
      ]
    },
    {
      "cell_type": "code",
      "source": [
        "#posthoc yapısı ile grupların içidekilerin aralarında ne gıbı bır fark var bunu gorecegız.\n",
        "x=ss.multicomp.pairwise_tukeyhsd(endog=data[\"verim\"],groups=data[\"tohum\"])\n",
        "#reject kısmı false ise her ıkı grup arasında farklılık yok demektır. true ıse fark vardır demektır.\n",
        "print(x)\n",
        "\n",
        "#verim ortalamalarına bakıp kımın kımden daha iyi verim veridğini gorebılırız.\n",
        "print(data.groupby(\"tohum\")[\"verim\"].mean())\n",
        "#print(data[\"tohum\"][\"verim\"].mean())"
      ],
      "metadata": {
        "id": "me2YVcBM1R36",
        "outputId": "e6cac691-9b69-4bd1-e835-1cecfc3efd07",
        "colab": {
          "base_uri": "https://localhost:8080/"
        }
      },
      "execution_count": 34,
      "outputs": [
        {
          "output_type": "stream",
          "name": "stdout",
          "text": [
            "  Multiple Comparison of Means - Tukey HSD, FWER=0.05   \n",
            "========================================================\n",
            "group1 group2  meandiff p-adj    lower    upper   reject\n",
            "--------------------------------------------------------\n",
            "     a      b  178.2071 0.2964  -75.3518 431.7661  False\n",
            "     a      c   38.4286 0.9954 -241.5805 318.4376  False\n",
            "     a      d   68.3155 0.9348 -174.1795 310.8104  False\n",
            "     a      e  155.2857 0.4242   -95.162 405.7334  False\n",
            "     b      c -139.7786 0.6454 -422.5739 143.0167  False\n",
            "     b      d -109.8917 0.7258 -355.5986 135.8153  False\n",
            "     b      e  -22.9214 0.9991 -276.4804 230.6376  False\n",
            "     c      d   29.8869 0.9981 -243.0322  302.806  False\n",
            "     c      e  116.8571 0.7736 -163.1519 396.8662  False\n",
            "     d      e   86.9702 0.8559 -155.5247 329.4652  False\n",
            "--------------------------------------------------------\n",
            "tohum\n",
            "a    377.142857\n",
            "b    555.350000\n",
            "c    415.571429\n",
            "d    445.458333\n",
            "e    532.428571\n",
            "Name: verim, dtype: float64\n"
          ]
        }
      ]
    },
    {
      "cell_type": "code",
      "source": [
        "y=ss.multicomp.pairwise_tukeyhsd(endog=data[\"verim\"],groups=data[\"tohum\"]+data[\"gubre\"])\n",
        "print(y)\n",
        "print(data.groupby([\"tohum\",\"gubre\"])[\"verim\"].mean())"
      ],
      "metadata": {
        "id": "6ysFiG7Y55xr",
        "outputId": "1622afb3-3a72-4989-c686-63d8fd1c5191",
        "colab": {
          "base_uri": "https://localhost:8080/"
        }
      },
      "execution_count": 37,
      "outputs": [
        {
          "output_type": "stream",
          "name": "stdout",
          "text": [
            "   Multiple Comparison of Means - Tukey HSD, FWER=0.05    \n",
            "==========================================================\n",
            "group1 group2  meandiff p-adj    lower      upper   reject\n",
            "----------------------------------------------------------\n",
            "    ax     ay    -79.05    1.0  -635.3694  477.2694  False\n",
            "    ax     az       1.2    1.0  -555.1194  557.5194  False\n",
            "    ax     bx  -36.4667    1.0  -580.7691  507.8358  False\n",
            "    ax     by     321.8 0.8827   -295.381   938.981  False\n",
            "    ax     bz     281.7 0.9376  -309.2058  872.6058  False\n",
            "    ax     cx     -88.3    1.0  -679.2058  502.6058  False\n",
            "    ax     cy     186.2 0.9996  -468.4193  840.8193  False\n",
            "    ax     cz    -23.05    1.0  -677.6693  631.5693  False\n",
            "    ax     dx     -93.2    1.0  -627.6944  441.2944  False\n",
            "    ax     dy     30.95    1.0  -525.3694  587.2694  False\n",
            "    ax     dz     268.7 0.9567  -322.2058  859.6058  False\n",
            "    ax     ex    -119.8    1.0  -936.2537  696.6537  False\n",
            "    ax     ey     102.8    1.0  -431.6944  637.2944  False\n",
            "    ax     ez  205.5333 0.9915  -338.7691  749.8358  False\n",
            "    ay     az     80.25    1.0  -407.6744  568.1744  False\n",
            "    ay     bx   42.5833    1.0  -431.5939  516.7606  False\n",
            "    ay     by    400.85   0.44  -155.4694  957.1694  False\n",
            "    ay     bz    360.75 0.5281  -166.2686  887.7686  False\n",
            "    ay     cx     -9.25    1.0  -536.2686  517.7686  False\n",
            "    ay     cy    265.25 0.9643  -332.3329  862.8329  False\n",
            "    ay     cz      56.0    1.0  -541.5829  653.5829  False\n",
            "    ay     dx    -14.15    1.0  -477.0357  448.7357  False\n",
            "    ay     dy     110.0    1.0  -377.9244  597.9244  False\n",
            "    ay     dz    347.75 0.5898  -179.2686  874.7686  False\n",
            "    ay     ex    -40.75    1.0  -812.2262  730.7262  False\n",
            "    ay     ey    181.85 0.9877  -281.0357  644.7357  False\n",
            "    ay     ez  284.5833 0.7333  -189.5939  758.7606  False\n",
            "    az     bx  -37.6667    1.0  -511.8439  436.5106  False\n",
            "    az     by     320.6 0.7849  -235.7194  876.9194  False\n",
            "    az     bz     280.5 0.8659  -246.5186  807.5186  False\n",
            "    az     cx     -89.5    1.0  -616.5186  437.5186  False\n",
            "    az     cy     185.0 0.9989  -412.5829  782.5829  False\n",
            "    az     cz    -24.25    1.0  -621.8329  573.3329  False\n",
            "    az     dx     -94.4    1.0  -557.2857  368.4857  False\n",
            "    az     dy     29.75    1.0  -458.1744  517.6744  False\n",
            "    az     dz     267.5 0.9021  -259.5186  794.5186  False\n",
            "    az     ex    -121.0    1.0  -892.4762  650.4762  False\n",
            "    az     ey     101.6    1.0  -361.2857  564.4857  False\n",
            "    az     ez  204.3333 0.9721  -269.8439  678.5106  False\n",
            "    bx     by  358.2667 0.5938  -186.0358  902.5691  False\n",
            "    bx     bz  318.1667 0.6906  -196.1508  832.4841  False\n",
            "    bx     cx  -51.8333    1.0  -566.1508  462.4841  False\n",
            "    bx     cy  222.6667  0.991  -363.7455  809.0788  False\n",
            "    bx     cz   13.4167    1.0  -572.9955  599.8288  False\n",
            "    bx     dx  -56.7333    1.0  -505.1049  391.6382  False\n",
            "    bx     dy   67.4167    1.0  -406.7606  541.5939  False\n",
            "    bx     dz  305.1667 0.7485  -209.1508  819.4841  False\n",
            "    bx     ex  -83.3333    1.0  -846.1894  679.5227  False\n",
            "    bx     ey  139.2667 0.9988  -309.1049  587.6382  False\n",
            "    bx     ez     242.0 0.8756  -218.0195  702.0195  False\n",
            "    by     bz     -40.1    1.0  -631.0058  550.8058  False\n",
            "    by     cx    -410.1 0.5045 -1001.0058  180.8058  False\n",
            "    by     cy    -135.6    1.0  -790.2193  519.0193  False\n",
            "    by     cz   -344.85 0.8745  -999.4693  309.7693  False\n",
            "    by     dx    -415.0 0.3158  -949.4944  119.4944  False\n",
            "    by     dy   -290.85 0.8806  -847.1694  265.4694  False\n",
            "    by     dz     -53.1    1.0  -644.0058  537.8058  False\n",
            "    by     ex    -441.6 0.8517 -1258.0537  374.8537  False\n",
            "    by     ey    -219.0  0.982  -753.4944  315.4944  False\n",
            "    by     ez -116.2667    1.0  -660.5691  428.0358  False\n",
            "    bz     cx    -370.0 0.5976  -933.4066  193.4066  False\n",
            "    bz     cy     -95.5    1.0  -725.4077  534.4077  False\n",
            "    bz     cz   -304.75 0.9304  -934.6577  325.1577  False\n",
            "    bz     dx    -374.9 0.3857  -878.8261  129.0261  False\n",
            "    bz     dy   -250.75 0.9385  -777.7686  276.2686  False\n",
            "    bz     dz     -13.0    1.0  -576.4066  550.4066  False\n",
            "    bz     ex    -401.5 0.9069 -1198.2772  395.2772  False\n",
            "    bz     ey    -178.9 0.9953  -682.8261  325.0261  False\n",
            "    bz     ez  -76.1667    1.0  -590.4841  438.1508  False\n",
            "    cx     cy     274.5 0.9693  -355.4077  904.4077  False\n",
            "    cx     cz     65.25    1.0  -564.6577  695.1577  False\n",
            "    cx     dx      -4.9    1.0  -508.8261  499.0261  False\n",
            "    cx     dy    119.25    1.0  -407.7686  646.2686  False\n",
            "    cx     dz     357.0 0.6545  -206.4066  920.4066  False\n",
            "    cx     ex     -31.5    1.0  -828.2772  765.2772  False\n",
            "    cx     ey     191.1 0.9911  -312.8261  695.0261  False\n",
            "    cx     ez  293.8333  0.795  -220.4841  808.1508  False\n",
            "    cy     cz   -209.25 0.9991  -899.2793  480.7793  False\n",
            "    cy     dx    -279.4 0.9302  -856.7199  297.9199  False\n",
            "    cy     dy   -155.25 0.9998  -752.8329  442.3329  False\n",
            "    cy     dz      82.5    1.0  -547.4077  712.4077  False\n",
            "    cy     ex    -306.0 0.9943 -1151.1098  539.1098  False\n",
            "    cy     ey     -83.4    1.0  -660.7199  493.9199  False\n",
            "    cy     ez   19.3333    1.0  -567.0788  605.7455  False\n",
            "    cz     dx    -70.15    1.0  -647.4699  507.1699  False\n",
            "    cz     dy      54.0    1.0  -543.5829  651.5829  False\n",
            "    cz     dz    291.75 0.9499  -338.1577  921.6577  False\n",
            "    cz     ex    -96.75    1.0  -941.8598  748.3598  False\n",
            "    cz     ey    125.85    1.0  -451.4699  703.1699  False\n",
            "    cz     ez  228.5833 0.9885  -357.8288  814.9955  False\n",
            "    dx     dy    124.15 0.9998  -338.7357  587.0357  False\n",
            "    dx     dz     361.9 0.4457  -142.0261  865.8261  False\n",
            "    dx     ex     -26.6    1.0  -782.4892  729.2892  False\n",
            "    dx     ey     196.0 0.9608  -240.4128  632.4128  False\n",
            "    dx     ez  298.7333 0.5737  -149.6382  747.1049  False\n",
            "    dy     dz    237.75 0.9593  -289.2686  764.7686  False\n",
            "    dy     ex   -150.75    1.0  -922.2262  620.7262  False\n",
            "    dy     ey     71.85    1.0  -391.0357  534.7357  False\n",
            "    dy     ez  174.5833 0.9933  -299.5939  648.7606  False\n",
            "    dz     ex    -388.5 0.9263 -1185.2772  408.2772  False\n",
            "    dz     ey    -165.9 0.9978  -669.8261  338.0261  False\n",
            "    dz     ez  -63.1667    1.0  -577.4841  451.1508  False\n",
            "    ex     ey     222.6 0.9993  -533.2892  978.4892  False\n",
            "    ex     ez  325.3333 0.9744  -437.5227 1088.1894  False\n",
            "    ey     ez  102.7333    1.0  -345.6382  551.1049  False\n",
            "----------------------------------------------------------\n",
            "tohum  gubre\n",
            "a      x        406.800000\n",
            "       y        327.750000\n",
            "       z        408.000000\n",
            "b      x        370.333333\n",
            "       y        728.600000\n",
            "       z        688.500000\n",
            "c      x        318.500000\n",
            "       y        593.000000\n",
            "       z        383.750000\n",
            "d      x        313.600000\n",
            "       y        437.750000\n",
            "       z        675.500000\n",
            "e      x        287.000000\n",
            "       y        509.600000\n",
            "       z        612.333333\n",
            "Name: verim, dtype: float64\n"
          ]
        }
      ]
    }
  ],
  "metadata": {
    "colab": {
      "name": "Colaboratory'ye Hoş Geldiniz",
      "provenance": [],
      "include_colab_link": true
    },
    "kernelspec": {
      "display_name": "Python 3",
      "name": "python3"
    }
  },
  "nbformat": 4,
  "nbformat_minor": 0
}