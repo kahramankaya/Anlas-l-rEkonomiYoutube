{
  "cells": [
    {
      "cell_type": "markdown",
      "metadata": {
        "id": "view-in-github",
        "colab_type": "text"
      },
      "source": [
        "<a href=\"https://colab.research.google.com/github/kahramankaya/Anlas-l-rEkonomiYoutube/blob/main/76.video(Two-Way%20ANOVA).ipynb\" target=\"_parent\"><img src=\"https://colab.research.google.com/assets/colab-badge.svg\" alt=\"Open In Colab\"/></a>"
      ]
    },
    {
      "cell_type": "code",
      "source": [
        "#76.video(Two-Way ANOVA): ANOVA tek ve çift yonlu olmak uzere ikiye ayrılır. burada cıftı ısleyecegız. tek zaten işlenmişti.\n",
        "#tek yonlu ANOVA için bir tane sürekli bagımlı değişken yapısı ve bir tane de bağımsız kategegorık degısken olması gerekırdı. ek olarak bagımsız degısken en az 3 farklı gruptan olmalıdır.  3 ten az ise t testi kullanıyorduk zaten.\n",
        "#iki yonlu tek yonlunun bır uzantısıdır ve tek yonden tek farkı iki kategorık bagımsız degıskenın tek bagımlı sureklı degıskne uzerınde etkısını olcer.\n",
        "# bizler onceden sunu demıstık: eger 2 den fazla grup var se alpha da hata cıkma olasıgı artıyor aynı sekılde bagımsız degısken sayısının artması da hatayı arttırdıgı ıcın tek yonlu kullanamıyoruz bu yuzden ıkı yonlu kullanıyoruz.\n"
      ],
      "metadata": {
        "id": "qwxYahXtvW05"
      },
      "execution_count": null,
      "outputs": []
    },
    {
      "cell_type": "code",
      "source": [
        "import numpy as np\n",
        "import pandas as pd\n",
        "\n",
        "np.random.seed(5)\n",
        "list1=[]\n",
        "list2=[]\n",
        "for m in range(100):\n",
        "  tohum_turlerı=np.random.choice([\"a\",\"b\",\"c\",\"d\",\"e\"])\n",
        "  list1.append(tohum_turlerı)\n",
        "\n",
        "for m in range(100):\n",
        "  gubre_turlerı=np.random.choice([\"x\",\"y\",\"z\"])\n",
        "  list2.append(gubre_turlerı)\n",
        "\n",
        "verim=np.random.randint(1,1000,size=(100))\n",
        "pd.DataFrame(verim,columns=[\"verim\"])\n",
        "data=pd.concat([pd.DataFrame(list1,columns=[\"tohum\"]),pd.DataFrame(list2,columns=[\"gubre\"]),pd.DataFrame(verim,columns=[\"verim\"])],axis=1)\n",
        "\n",
        "print(data)\n",
        "print(data.groupby(\"tohum\").mean())\n",
        "print(data.groupby(\"tohum\").sum())\n",
        "\n"
      ],
      "metadata": {
        "id": "VEtaE3pZvW3_",
        "outputId": "761cae62-9a76-499e-b9d7-4888f752277a",
        "colab": {
          "base_uri": "https://localhost:8080/"
        }
      },
      "execution_count": 2,
      "outputs": [
        {
          "output_type": "stream",
          "name": "stdout",
          "text": [
            "   tohum gubre  verim\n",
            "0      d     x    411\n",
            "1      a     z    938\n",
            "2      b     x    212\n",
            "3      a     y    285\n",
            "4      e     x    460\n",
            "..   ...   ...    ...\n",
            "95     e     y    436\n",
            "96     d     z    726\n",
            "97     e     x    114\n",
            "98     d     y    785\n",
            "99     b     y    865\n",
            "\n",
            "[100 rows x 3 columns]\n",
            "            verim\n",
            "tohum            \n",
            "a      377.142857\n",
            "b      555.350000\n",
            "c      415.571429\n",
            "d      445.458333\n",
            "e      532.428571\n",
            "       verim\n",
            "tohum       \n",
            "a       7920\n",
            "b      11107\n",
            "c       5818\n",
            "d      10691\n",
            "e      11181\n"
          ]
        }
      ]
    },
    {
      "cell_type": "code",
      "source": [
        "import statsmodels.api as sm\n",
        "from statsmodels.formula.api import ols\n",
        "\n",
        "model=\"verim ~ C(tohum)+C(gubre):C(tohum)+C(gubre)\"\n",
        "test=ols(model,data=data,).fit()\n",
        "anova=sm.stats.anova_lm(test,type=2)\n",
        "\n",
        "#cıkan sonucta en sonda kı PR degerıne bak. \n",
        "#tohumun tek basına etkısı ilk satır, diger satır gubrenın tek basına etksıı,3.satırda hem gubre hem tohum bırlıkte anlamlı bır farklılık yoktur. cunku hepsı 0.05 ten buyuk\n",
        "print(anova)\n"
      ],
      "metadata": {
        "id": "kPDg916BvW9C",
        "outputId": "25e23a18-6cb8-48b3-daba-4a8cb446ff43",
        "colab": {
          "base_uri": "https://localhost:8080/"
        }
      },
      "execution_count": 3,
      "outputs": [
        {
          "output_type": "stream",
          "name": "stdout",
          "text": [
            "                     df        sum_sq        mean_sq         F    PR(>F)\n",
            "C(tohum)            4.0  4.637365e+05  115934.114702  1.485630  0.213731\n",
            "C(gubre)            2.0  8.432801e+05  421640.065090  5.403077  0.006181\n",
            "C(gubre):C(tohum)   8.0  6.142965e+05   76787.058876  0.983982  0.454285\n",
            "Residual           85.0  6.633147e+06   78037.024118       NaN       NaN\n"
          ]
        }
      ]
    }
  ],
  "metadata": {
    "colab": {
      "name": "Colaboratory'ye Hoş Geldiniz",
      "provenance": [],
      "include_colab_link": true
    },
    "kernelspec": {
      "display_name": "Python 3",
      "name": "python3"
    }
  },
  "nbformat": 4,
  "nbformat_minor": 0
}