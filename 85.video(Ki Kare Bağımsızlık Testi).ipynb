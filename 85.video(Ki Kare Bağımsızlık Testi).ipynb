{
  "cells": [
    {
      "cell_type": "markdown",
      "metadata": {
        "id": "view-in-github",
        "colab_type": "text"
      },
      "source": [
        "<a href=\"https://colab.research.google.com/github/kahramankaya/Anlas-l-rEkonomiYoutube/blob/main/85.video(Ki%20Kare%20Ba%C4%9F%C4%B1ms%C4%B1zl%C4%B1k%20Testi).ipynb\" target=\"_parent\"><img src=\"https://colab.research.google.com/assets/colab-badge.svg\" alt=\"Open In Colab\"/></a>"
      ]
    },
    {
      "cell_type": "code",
      "source": [
        "#85.video(Ki Kare Bağımsızlık Testi):iki kategorik değişken arasında anlamlı bir farklılık var mı buna bakıyor.\n",
        "#bu test yapısı 2*2 ve R*C iki farklı tablo ıcın farklı kı kare testlerı yapılır.birinci tablo ornegı erkek-kadın ve uzun boy-kısaboy iken digerı ıcın cınsıyete ek olarak\n",
        "# uzun boy-kısanoy-normalboy olur. yani ıkı kategorık degıskenden her bıri >=2 buyuk olmalı."
      ],
      "metadata": {
        "id": "ywvM9ii6Hx0j"
      },
      "execution_count": 7,
      "outputs": []
    },
    {
      "cell_type": "code",
      "source": [
        "# 2*2 tablosunda eger en kucuk beklenen frekans degeı>25 ise  pearson ki kare testi kullanılır.\n",
        "# 2*2 tablosunda eger en kucuk beklenen frekans degeri 5<beklenen frekans<25 arasında ise yates ki kare testi kullanılır.\n",
        "# 2*2 tablosunda eger en kucuk beklenen frekans degerı <5 ise o zaman fisher ki kare testi kullanılır."
      ],
      "metadata": {
        "id": "Jikd8QtqHx3P"
      },
      "execution_count": 8,
      "outputs": []
    },
    {
      "cell_type": "code",
      "source": [
        "#h0: cinsiyet ile sag ve sol el kullanımı arasında bır anlamlılık yoktur\n",
        "#h1: ilişki vardır. \n",
        "import pandas as pd\n",
        "import numpy as np\n",
        "np.random.seed(5)\n",
        "\n",
        "data=pd.DataFrame(\n",
        "{\n",
        "\"cinsiyet\":np.random.choice([\"erkek\",\"kadın\"],size=(100)),\n",
        "\"el\":np.random.choice([\"sağ\",\"sol\"],size=(100))\n",
        "})\n",
        "print(data)"
      ],
      "metadata": {
        "id": "vedTJqGWHx7B",
        "outputId": "b7d96ae9-cf67-4fde-f825-f65827dbf40e",
        "colab": {
          "base_uri": "https://localhost:8080/"
        }
      },
      "execution_count": 9,
      "outputs": [
        {
          "output_type": "stream",
          "name": "stdout",
          "text": [
            "   cinsiyet   el\n",
            "0     kadın  sağ\n",
            "1     erkek  sol\n",
            "2     kadın  sağ\n",
            "3     kadın  sol\n",
            "4     erkek  sağ\n",
            "..      ...  ...\n",
            "95    erkek  sol\n",
            "96    kadın  sağ\n",
            "97    erkek  sağ\n",
            "98    kadın  sağ\n",
            "99    kadın  sağ\n",
            "\n",
            "[100 rows x 2 columns]\n"
          ]
        }
      ]
    },
    {
      "cell_type": "code",
      "source": [
        "cross=pd.crosstab(index=data[\"cinsiyet\"],columns=data[\"el\"]) \n",
        "print(cross)"
      ],
      "metadata": {
        "id": "Ko6o72e6YJ_M",
        "outputId": "a6301810-e649-40c9-c548-90d1929cfdfa",
        "colab": {
          "base_uri": "https://localhost:8080/"
        }
      },
      "execution_count": 10,
      "outputs": [
        {
          "output_type": "stream",
          "name": "stdout",
          "text": [
            "el        sağ  sol\n",
            "cinsiyet          \n",
            "erkek      30   16\n",
            "kadın      29   25\n"
          ]
        }
      ]
    },
    {
      "cell_type": "code",
      "source": [
        "from scipy import stats\n",
        "test,p,sd,beklenenfrekans=stats.chi2_contingency(cross)\n",
        "#en kucuk frekans degerı 18 cıktıgı ıcın yates testi en ıyı sonucu verecektır.\n",
        "print(test,p,sd,beklenenfrekans)"
      ],
      "metadata": {
        "id": "blqsuw0TaSCc",
        "outputId": "34b5725d-b190-4347-f73e-8b04f10f0a86",
        "colab": {
          "base_uri": "https://localhost:8080/"
        }
      },
      "execution_count": 11,
      "outputs": [
        {
          "output_type": "stream",
          "name": "stdout",
          "text": [
            "0.9269078198028353 0.3356677172959964 1 [[27.14 18.86]\n",
            " [31.86 22.14]]\n"
          ]
        }
      ]
    },
    {
      "cell_type": "code",
      "source": [
        "#diyelim ki 25 ten buyuk cıktı o zamn pearson ki kare testi kullanırız.\n",
        "test,p,sd,beklenenfrekans=stats.chi2_contingency(cross,correction=False)\n",
        "#ho kabul edildi\n",
        "print(test,p)"
      ],
      "metadata": {
        "id": "xJHZKUsJbOZo",
        "outputId": "be5d5620-7de6-43c6-a074-f640ed29e695",
        "colab": {
          "base_uri": "https://localhost:8080/"
        }
      },
      "execution_count": 12,
      "outputs": [
        {
          "output_type": "stream",
          "name": "stdout",
          "text": [
            "1.361271043317163 0.24331732013032198\n"
          ]
        }
      ]
    },
    {
      "cell_type": "code",
      "source": [
        "#diyelim ki 5 ile 25 arasında cıktı o zaman pearson ki kare testi kullanırız.\n",
        "test,p,sd,beklenenfrekans=stats.chi2_contingency(cross,correction=True)\n",
        "#h0 kabul edildi.\n",
        "print(test,p)"
      ],
      "metadata": {
        "id": "r9ky4MOZb8D8",
        "outputId": "066ea468-f3a2-401b-f8d1-e5ff943103dc",
        "colab": {
          "base_uri": "https://localhost:8080/"
        }
      },
      "execution_count": 13,
      "outputs": [
        {
          "output_type": "stream",
          "name": "stdout",
          "text": [
            "0.9269078198028353 0.3356677172959964\n"
          ]
        }
      ]
    },
    {
      "cell_type": "code",
      "source": [
        "#diyelim ki fisher kullansaydık\n",
        "#h0 kabul edildi.\n",
        "stats.fisher_exact(cross)"
      ],
      "metadata": {
        "id": "8t1KjhiTdvOl",
        "outputId": "7e5ea60e-2440-44e9-e969-0593e2e97a3f",
        "colab": {
          "base_uri": "https://localhost:8080/"
        }
      },
      "execution_count": 14,
      "outputs": [
        {
          "output_type": "execute_result",
          "data": {
            "text/plain": [
              "SignificanceResult(statistic=1.6163793103448276, pvalue=0.30864457493135894)"
            ]
          },
          "metadata": {},
          "execution_count": 14
        }
      ]
    },
    {
      "cell_type": "code",
      "source": [
        "#eger R*C yapısı ile çalışıyorsak o zaman beklenen frekans degerı 5 ten kucuk olanların sayısı toplam frekans saysı ıcınde kı degerı yuzde 20 den kucuk ıse pearson ki kare kullanılır.\n",
        "# eger yuzde 20 den buyukse o zaman fisher ki kare testi kullanılır."
      ],
      "metadata": {
        "id": "pEMWHLCtZ-49"
      },
      "execution_count": 15,
      "outputs": []
    },
    {
      "cell_type": "code",
      "source": [
        "#h0: cinsiyet ile marka kullanımı arasında bır anlamlılık yoktur\n",
        "#h1: ilişki vardır. \n",
        "#erkek kadın ıkı tane kategorık ve marka saysıda 4 tane oldugu ıcın R*C tablosu kullanılır.\n",
        "import pandas as pd\n",
        "import numpy as np\n",
        "np.random.seed(5)\n",
        "\n",
        "data=pd.DataFrame(\n",
        "{\n",
        "\"cinsiyet\":np.random.choice([\"erkek\",\"kadın\"],size=(100)),\n",
        "\"marka\":np.random.choice([\"A\",\"B\",\"C\",\"D\"],size=(100))\n",
        "})\n",
        "print(data)"
      ],
      "metadata": {
        "colab": {
          "base_uri": "https://localhost:8080/"
        },
        "id": "f7OQCay4dyXa",
        "outputId": "92abda40-ae3d-4598-a8f6-1d96bb184a62"
      },
      "execution_count": 16,
      "outputs": [
        {
          "output_type": "stream",
          "name": "stdout",
          "text": [
            "   cinsiyet marka\n",
            "0     kadın     A\n",
            "1     erkek     B\n",
            "2     kadın     C\n",
            "3     kadın     D\n",
            "4     erkek     A\n",
            "..      ...   ...\n",
            "95    erkek     D\n",
            "96    kadın     A\n",
            "97    erkek     C\n",
            "98    kadın     C\n",
            "99    kadın     A\n",
            "\n",
            "[100 rows x 2 columns]\n"
          ]
        }
      ]
    },
    {
      "cell_type": "code",
      "source": [
        "#frekansı yazdırmış olduk.\n",
        "cross=pd.crosstab(index=data[\"cinsiyet\"],columns=data[\"marka\"])\n",
        "print(cross)"
      ],
      "metadata": {
        "colab": {
          "base_uri": "https://localhost:8080/"
        },
        "id": "7p0Ck92Pdyoi",
        "outputId": "6edeb613-f27e-4d2e-f264-ea66f49e9e0e"
      },
      "execution_count": 18,
      "outputs": [
        {
          "output_type": "stream",
          "name": "stdout",
          "text": [
            "marka      A   B   C   D\n",
            "cinsiyet                \n",
            "erkek     18   6  12  10\n",
            "kadın     16  10  13  15\n"
          ]
        }
      ]
    },
    {
      "cell_type": "code",
      "source": [
        "from scipy import stats\n",
        "test,p,sd,beklenenfrekans=stats.chi2_contingency(cross)\n",
        "print(test,p,sd,beklenenfrekans)\n",
        "# yuzde 20 den kucuk oldugu ıcın pearson ki kareye gecılır."
      ],
      "metadata": {
        "colab": {
          "base_uri": "https://localhost:8080/"
        },
        "id": "Sw4Xprscdy0T",
        "outputId": "1cd29f75-778c-42cc-d3ac-af41cf5d1454"
      },
      "execution_count": 20,
      "outputs": [
        {
          "output_type": "stream",
          "name": "stdout",
          "text": [
            "1.5274225632281895 0.6759558323354953 3 [[15.64  7.36 11.5  11.5 ]\n",
            " [18.36  8.64 13.5  13.5 ]]\n"
          ]
        }
      ]
    },
    {
      "cell_type": "code",
      "source": [
        "#pearson ki kare:\n",
        "test,p,sd,beklenenfrekans=stats.chi2_contingency(cross,correction=False)\n",
        "#h0 kabul edildi.\n",
        "print(p)"
      ],
      "metadata": {
        "colab": {
          "base_uri": "https://localhost:8080/"
        },
        "id": "n7IMmuiZfvWt",
        "outputId": "0b6f352d-85e9-42dd-d77b-96da47065fd3"
      },
      "execution_count": 22,
      "outputs": [
        {
          "output_type": "stream",
          "name": "stdout",
          "text": [
            "0.6759558323354953\n"
          ]
        }
      ]
    },
    {
      "cell_type": "code",
      "source": [
        "#R*C tablosunda diyelim ki pearson degılde fisher kullanmamız gerekti. fisher için python bir kod yok. r dilinde var."
      ],
      "metadata": {
        "id": "FIS6ztDMii1n"
      },
      "execution_count": null,
      "outputs": []
    }
  ],
  "metadata": {
    "colab": {
      "name": "Colaboratory'ye Hoş Geldiniz",
      "provenance": [],
      "include_colab_link": true
    },
    "kernelspec": {
      "display_name": "Python 3",
      "name": "python3"
    }
  },
  "nbformat": 4,
  "nbformat_minor": 0
}