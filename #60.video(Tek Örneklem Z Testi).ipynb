{
  "cells": [
    {
      "cell_type": "markdown",
      "metadata": {
        "id": "view-in-github",
        "colab_type": "text"
      },
      "source": [
        "<a href=\"https://colab.research.google.com/github/kahramankaya/Anlas-l-rEkonomiYoutube/blob/main/%2360.video(Tek%20%C3%96rneklem%20Z%20Testi).ipynb\" target=\"_parent\"><img src=\"https://colab.research.google.com/assets/colab-badge.svg\" alt=\"Open In Colab\"/></a>"
      ]
    },
    {
      "cell_type": "code",
      "source": [
        "#60.video(Tek Örneklem Z Testi):\n",
        "#Tek Örneklem Z Testi bir popülasyonun ortalaması hakkında bir hipotez testi yapmak için kullanılan istatistiksel bir testtir. Bu test, bir popülasyonun ortalaması hakkındaki bir önermeyi test etmek için bir örneklemin ortalamasını kullanır.\n",
        "#Örneğin, bir şirketin ürünlerinin ortalama müşteri memnuniyeti puanı 4 olduğunu düşünelim. Şimdi, bir pazarlama araştırma şirketi, bu şirketin ürünlerini kullanan 100 müşteriye bir anket yaptı ve müşteri memnuniyeti puanının ortalama 4.5 olduğunu buldu. Şimdi, bu sonucun şans eseri mi olduğunu yoksa gerçekten bir farklılık olup olmadığını belirlemek için tek örneklem z testi yapabiliriz.\n",
        "#Tek Örneklem Z Testi bize örneklemin ortalaması ile popülasyonun bilinen veya varsayılan ortalaması arasındaki farkın istatistiksel olarak anlamlı olup olmadığını söyler. Eğer test sonucunda elde edilen p değeri belirli bir anlamlılık düzeyinden (örneğin %5) daha düşükse, bu, örneklemin popülasyondan istatistiksel olarak anlamlı bir şekilde farklı olduğunu gösterir ve hipotez reddedilir. Aksi takdirde, hipotez reddedilmez ve örneklemin popülasyondan istatistiksel olarak anlamlı bir şekilde farklı olmadığı sonucuna varılır."
      ],
      "metadata": {
        "id": "9bB6hBn0XHYW"
      },
      "execution_count": null,
      "outputs": []
    },
    {
      "cell_type": "code",
      "source": [
        "#ornek: bır sınav verılerı var bu verıleın ortalamasının 80 den buyuk oldugu iddaa ediliyor.\n",
        "# h0: ortalama=80 dir\n",
        "# h1: ortalama>80 dir\n",
        "from statsmodels.stats.weightstats import ztest\n",
        "veri=[95,70,120,65.130,38,110,90,60]\n",
        "alfa=0.05 # yuzde 95 guvenırlılık ıle olculdugu ıcın alfaya 5 kalır.\n",
        "zhesap,p=ztest(veri,value=80,alternative=\"larger\") # value deger ıddaa edılen atılır. alernative ise h1 de buyuk denıldıhı ıcın larger kucuk ya da esıt denılseyı onlar yazılırdı.\n",
        "print(zhesap,p)\n",
        "\n",
        "if p>alfa:\n",
        "  print(\"h0 red edilmez.\")\n",
        "else:\n",
        "  print(\"h0 red edilir.\")\n",
        "\n",
        "# sonuc red edilmez cıktı. demek kı ortalama 80 imiş iddaa edilen yanlış imiş.\n"
      ],
      "metadata": {
        "id": "yaeJDpCHXHSu",
        "outputId": "eadcd6de-4d2c-4de7-d2b0-3193702e32bf",
        "colab": {
          "base_uri": "https://localhost:8080/"
        }
      },
      "execution_count": 5,
      "outputs": [
        {
          "output_type": "stream",
          "name": "stdout",
          "text": [
            "0.10444331741033522 0.45840877415455505\n",
            "h0 red edilmez.\n"
          ]
        }
      ]
    },
    {
      "cell_type": "code",
      "source": [],
      "metadata": {
        "id": "7gtJhWD3XJcw"
      },
      "execution_count": null,
      "outputs": []
    },
    {
      "cell_type": "code",
      "source": [],
      "metadata": {
        "id": "ZOwkc9wOXJg5"
      },
      "execution_count": null,
      "outputs": []
    },
    {
      "cell_type": "code",
      "source": [],
      "metadata": {
        "id": "gN3wYv_DXHOv"
      },
      "execution_count": null,
      "outputs": []
    }
  ],
  "metadata": {
    "colab": {
      "name": "Colaboratory'ye Hoş Geldiniz",
      "provenance": [],
      "include_colab_link": true
    },
    "kernelspec": {
      "display_name": "Python 3",
      "name": "python3"
    }
  },
  "nbformat": 4,
  "nbformat_minor": 0
}