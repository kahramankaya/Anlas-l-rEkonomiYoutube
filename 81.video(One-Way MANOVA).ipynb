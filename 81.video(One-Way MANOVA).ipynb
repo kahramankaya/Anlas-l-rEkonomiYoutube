{
  "cells": [
    {
      "cell_type": "markdown",
      "metadata": {
        "id": "view-in-github",
        "colab_type": "text"
      },
      "source": [
        "<a href=\"https://colab.research.google.com/github/kahramankaya/Anlas-l-rEkonomiYoutube/blob/main/81.video(One-Way%20MANOVA).ipynb\" target=\"_parent\"><img src=\"https://colab.research.google.com/assets/colab-badge.svg\" alt=\"Open In Colab\"/></a>"
      ]
    },
    {
      "cell_type": "code",
      "source": [
        "#81.video(One-Way MANOVA):iki veya daha fazla bagımlı degısken oldugunda kullanılır. tek yonlu anova  tek bagımsız degıskende en az 3 grup olmalı. 1 tane bagımlı degısken de olmalı. ve bagımlı degısken sureklı olmalı.\n",
        "# cıft yonlu anova da ıse yıne 1 tane bagımlı degısken olmalı ve sureklı olmalı. en az ıkı bagımsız degısken de olmalı.\n",
        "#manova yapısında ise bagımlı degısken sayısı tek bır tane degıl. birden fazla ise ve de tek bır tane bagımsız degısken var ıse tek yonlu manova kullanılır.\n",
        "#bagımlı degısken birden fazla iken, ve de 2 tane bagımsız degısken var ıse çift yonlu manova kullanılır.\n",
        "#tek yonlu anova nın sartları: gozlemler bagımsız olmalı her zaman, her bagımlı degıskne sureklı ve bagımlı degıskenlerın normal dagılması lazım. varyans hoojenlıgı saglanmalıdır. var-cov matrısı esıtlıgıde olmalı.\n"
      ],
      "metadata": {
        "id": "bH7wphyHQw2b"
      },
      "execution_count": null,
      "outputs": []
    },
    {
      "cell_type": "code",
      "source": [
        "import pandas as pd\n",
        "import numpy as np\n",
        "np.random.seed(5)\n",
        "data=pd.DataFrame({\n",
        "\"erkek_tutumu\":np.random.randint(1,25,size=(30)),\n",
        "\"kadın_tutumu\":np.random.randint(1,25,size=(30)),\n",
        "\"urunler\":np.random.choice([\"A\",\"B\",\"C\",\"D\"],size=(30))\n",
        "})\n",
        "print(data)\n"
      ],
      "metadata": {
        "id": "wIDRqY8cQyFp",
        "outputId": "2f80df9d-87e3-47d0-e752-59b060479d14",
        "colab": {
          "base_uri": "https://localhost:8080/"
        }
      },
      "execution_count": 21,
      "outputs": [
        {
          "output_type": "stream",
          "name": "stdout",
          "text": [
            "    erkek_tutumu  kadın_tutumu urunler\n",
            "0              4            10       A\n",
            "1             15             2       B\n",
            "2             16            19       D\n",
            "3              7             8       D\n",
            "4             23            17       D\n",
            "5             17            15       C\n",
            "6             10             6       D\n",
            "7              9             1       B\n",
            "8              5            17       B\n",
            "9              8             5       B\n",
            "10            17            15       B\n",
            "11            17             5       D\n",
            "12             8            10       A\n",
            "13            13            20       C\n",
            "14            16             3       C\n",
            "15            18             5       C\n",
            "16            22             7       D\n",
            "17             8            10       B\n",
            "18            17            20       C\n",
            "19            13            20       D\n",
            "20            14            19       A\n",
            "21            12            18       B\n",
            "22             2            22       C\n",
            "23            16             8       B\n",
            "24            21             5       D\n",
            "25            23            13       A\n",
            "26            19            14       B\n",
            "27            10            12       C\n",
            "28            11            12       D\n",
            "29            10             4       A\n"
          ]
        }
      ]
    },
    {
      "cell_type": "code",
      "source": [
        "#1.adım normallıge bakılır.\n",
        "#2.adım homojenlıge bakılır.\n",
        "#3.adım  varcov'a bak.\n",
        "!pip install pingouin\n",
        "import pingouin as pg\n",
        "erkekhomojenlık=pg.homoscedasticity(data,dv=\"erkek_tutumu\",group=\"urunler\",center=\"mean\")\n",
        "#erkek ve kadın ıcın ıcın homojenlık saglandı. o zaman var-cov matrısı esitliginden devam edebılırız. daha sonra da manova yapısına gecılır.\n",
        "print(erkekhomojenlık)\n",
        "kadınhomojenlık=pg.homoscedasticity(data,dv=\"kadın_tutumu\",group=\"urunler\",center=\"mean\")\n",
        "print(erkekhomojenlık)"
      ],
      "metadata": {
        "id": "wgmMr-DZQwvy",
        "outputId": "579d801f-0071-462e-864f-9b284356577e",
        "colab": {
          "base_uri": "https://localhost:8080/"
        }
      },
      "execution_count": 26,
      "outputs": [
        {
          "output_type": "stream",
          "name": "stdout",
          "text": [
            "Looking in indexes: https://pypi.org/simple, https://us-python.pkg.dev/colab-wheels/public/simple/\n",
            "Requirement already satisfied: pingouin in /usr/local/lib/python3.9/dist-packages (0.5.3)\n",
            "Requirement already satisfied: seaborn>=0.11 in /usr/local/lib/python3.9/dist-packages (from pingouin) (0.11.2)\n",
            "Requirement already satisfied: pandas>=1.0 in /usr/local/lib/python3.9/dist-packages (from pingouin) (1.3.5)\n",
            "Requirement already satisfied: outdated in /usr/local/lib/python3.9/dist-packages (from pingouin) (0.2.2)\n",
            "Requirement already satisfied: matplotlib>=3.0.2 in /usr/local/lib/python3.9/dist-packages (from pingouin) (3.5.3)\n",
            "Requirement already satisfied: scikit-learn in /usr/local/lib/python3.9/dist-packages (from pingouin) (1.2.1)\n",
            "Requirement already satisfied: scipy>=1.7 in /usr/local/lib/python3.9/dist-packages (from pingouin) (1.10.1)\n",
            "Requirement already satisfied: statsmodels>=0.13 in /usr/local/lib/python3.9/dist-packages (from pingouin) (0.13.5)\n",
            "Requirement already satisfied: pandas-flavor>=0.2.0 in /usr/local/lib/python3.9/dist-packages (from pingouin) (0.5.0)\n",
            "Requirement already satisfied: tabulate in /usr/local/lib/python3.9/dist-packages (from pingouin) (0.8.10)\n",
            "Requirement already satisfied: numpy>=1.19 in /usr/local/lib/python3.9/dist-packages (from pingouin) (1.22.4)\n",
            "Requirement already satisfied: pyparsing>=2.2.1 in /usr/local/lib/python3.9/dist-packages (from matplotlib>=3.0.2->pingouin) (3.0.9)\n",
            "Requirement already satisfied: kiwisolver>=1.0.1 in /usr/local/lib/python3.9/dist-packages (from matplotlib>=3.0.2->pingouin) (1.4.4)\n",
            "Requirement already satisfied: cycler>=0.10 in /usr/local/lib/python3.9/dist-packages (from matplotlib>=3.0.2->pingouin) (0.11.0)\n",
            "Requirement already satisfied: pillow>=6.2.0 in /usr/local/lib/python3.9/dist-packages (from matplotlib>=3.0.2->pingouin) (8.4.0)\n",
            "Requirement already satisfied: fonttools>=4.22.0 in /usr/local/lib/python3.9/dist-packages (from matplotlib>=3.0.2->pingouin) (4.39.0)\n",
            "Requirement already satisfied: python-dateutil>=2.7 in /usr/local/lib/python3.9/dist-packages (from matplotlib>=3.0.2->pingouin) (2.8.2)\n",
            "Requirement already satisfied: packaging>=20.0 in /usr/local/lib/python3.9/dist-packages (from matplotlib>=3.0.2->pingouin) (23.0)\n",
            "Requirement already satisfied: pytz>=2017.3 in /usr/local/lib/python3.9/dist-packages (from pandas>=1.0->pingouin) (2022.7.1)\n",
            "Requirement already satisfied: xarray in /usr/local/lib/python3.9/dist-packages (from pandas-flavor>=0.2.0->pingouin) (2022.12.0)\n",
            "Requirement already satisfied: lazy-loader>=0.1 in /usr/local/lib/python3.9/dist-packages (from pandas-flavor>=0.2.0->pingouin) (0.1)\n",
            "Requirement already satisfied: patsy>=0.5.2 in /usr/local/lib/python3.9/dist-packages (from statsmodels>=0.13->pingouin) (0.5.3)\n",
            "Requirement already satisfied: setuptools>=44 in /usr/local/lib/python3.9/dist-packages (from outdated->pingouin) (57.4.0)\n",
            "Requirement already satisfied: requests in /usr/local/lib/python3.9/dist-packages (from outdated->pingouin) (2.25.1)\n",
            "Requirement already satisfied: littleutils in /usr/local/lib/python3.9/dist-packages (from outdated->pingouin) (0.2.2)\n",
            "Requirement already satisfied: joblib>=1.1.1 in /usr/local/lib/python3.9/dist-packages (from scikit-learn->pingouin) (1.2.0)\n",
            "Requirement already satisfied: threadpoolctl>=2.0.0 in /usr/local/lib/python3.9/dist-packages (from scikit-learn->pingouin) (3.1.0)\n",
            "Requirement already satisfied: six in /usr/local/lib/python3.9/dist-packages (from patsy>=0.5.2->statsmodels>=0.13->pingouin) (1.15.0)\n",
            "Requirement already satisfied: idna<3,>=2.5 in /usr/local/lib/python3.9/dist-packages (from requests->outdated->pingouin) (2.10)\n",
            "Requirement already satisfied: certifi>=2017.4.17 in /usr/local/lib/python3.9/dist-packages (from requests->outdated->pingouin) (2022.12.7)\n",
            "Requirement already satisfied: urllib3<1.27,>=1.21.1 in /usr/local/lib/python3.9/dist-packages (from requests->outdated->pingouin) (1.26.14)\n",
            "Requirement already satisfied: chardet<5,>=3.0.2 in /usr/local/lib/python3.9/dist-packages (from requests->outdated->pingouin) (4.0.0)\n",
            "               W      pval  equal_var\n",
            "levene  0.218642  0.882564       True\n",
            "               W      pval  equal_var\n",
            "levene  0.218642  0.882564       True\n"
          ]
        }
      ]
    },
    {
      "cell_type": "code",
      "source": [
        "varcov=pg.box_m(data,dvs=[\"erkek_tutumu\",\"kadın_tutumu\"],group=\"urunler\")\n",
        "#h0 kabul edıldı.\n",
        "print(varcov)"
      ],
      "metadata": {
        "id": "0HwVm0yWU19y",
        "outputId": "971776af-7d6b-4e80-9134-762aa3a88ad3",
        "colab": {
          "base_uri": "https://localhost:8080/"
        }
      },
      "execution_count": 28,
      "outputs": [
        {
          "output_type": "stream",
          "name": "stdout",
          "text": [
            "        Chi2   df      pval  equal_cov\n",
            "box  3.39182  9.0  0.946718       True\n"
          ]
        }
      ]
    },
    {
      "cell_type": "code",
      "source": [
        "from statsmodels.multivariate.manova import MANOVA\n",
        "model=MANOVA.from_formula(\"erkek_tutumu+kadın_tutumu~urunler\",data=data)\n",
        "# altta wilks kısmından Pr > F degerı 0.7465 h0 kabul edecegız anlamı tasır.\n",
        "print(model.mv_test())\n",
        "#demek kı cınsıyetın urun tutumu uzerınde bır farkı yokmus."
      ],
      "metadata": {
        "id": "Tzyq-pm2V-ji",
        "outputId": "4acd8767-18e5-48a0-df91-d281aff12153",
        "colab": {
          "base_uri": "https://localhost:8080/"
        }
      },
      "execution_count": 34,
      "outputs": [
        {
          "output_type": "stream",
          "name": "stdout",
          "text": [
            "                 Multivariate linear model\n",
            "============================================================\n",
            "                                                            \n",
            "------------------------------------------------------------\n",
            "       Intercept        Value  Num DF  Den DF F Value Pr > F\n",
            "------------------------------------------------------------\n",
            "          Wilks' lambda 0.4080 2.0000 25.0000 18.1351 0.0000\n",
            "         Pillai's trace 0.5920 2.0000 25.0000 18.1351 0.0000\n",
            " Hotelling-Lawley trace 1.4508 2.0000 25.0000 18.1351 0.0000\n",
            "    Roy's greatest root 1.4508 2.0000 25.0000 18.1351 0.0000\n",
            "------------------------------------------------------------\n",
            "                                                            \n",
            "------------------------------------------------------------\n",
            "        urunler         Value  Num DF  Den DF F Value Pr > F\n",
            "------------------------------------------------------------\n",
            "          Wilks' lambda 0.8746 6.0000 50.0000  0.5774 0.7465\n",
            "         Pillai's trace 0.1294 6.0000 52.0000  0.5993 0.7295\n",
            " Hotelling-Lawley trace 0.1388 6.0000 31.6164  0.5682 0.7524\n",
            "    Roy's greatest root 0.0865 3.0000 26.0000  0.7493 0.5326\n",
            "============================================================\n",
            "\n"
          ]
        }
      ]
    },
    {
      "cell_type": "code",
      "source": [
        "#dıyelim ki manova testınde h0 red edılırse o zaman surdan devam edılır:posthoc\n",
        "posthoc1=pg.pairwise_tukey(data=data,dv=\"erkek_tutumu\",between=\"urunler\")\n",
        "posthoc2=pg.pairwise_tukey(data=data,dv=\"kadın_tutumu\",between=\"urunler\")\n",
        "print(posthoc1)\n",
        "print(posthoc2)\n",
        "# p tukey degerlerıne bak ve 0.05 ıle karsılastır.buyukse farklılık yok tersı ıse farklılık var demek"
      ],
      "metadata": {
        "id": "53EJjzOxYAGL",
        "outputId": "68dea2e1-9fbd-4ce2-d90e-ea44e38b146e",
        "colab": {
          "base_uri": "https://localhost:8080/"
        }
      },
      "execution_count": 36,
      "outputs": [
        {
          "output_type": "stream",
          "name": "stdout",
          "text": [
            "   A  B    mean(A)    mean(B)      diff        se         T   p-tukey  \\\n",
            "0  A  B  11.800000  12.111111 -0.311111  3.195450 -0.097361  0.999660   \n",
            "1  A  C  11.800000  13.285714 -1.485714  3.354524 -0.442899  0.970404   \n",
            "2  A  D  11.800000  15.555556 -3.755556  3.195450 -1.175282  0.647364   \n",
            "3  B  C  12.111111  13.285714 -1.174603  2.887115 -0.406843  0.976770   \n",
            "4  B  D  12.111111  15.555556 -3.444444  2.700648 -1.275414  0.586175   \n",
            "5  C  D  13.285714  15.555556 -2.269841  2.887115 -0.786197  0.860027   \n",
            "\n",
            "     hedges  \n",
            "0 -0.050593  \n",
            "1 -0.215705  \n",
            "2 -0.562371  \n",
            "3 -0.211958  \n",
            "4 -0.619174  \n",
            "5 -0.376170  \n",
            "   A  B    mean(A)    mean(B)      diff        se         T   p-tukey  \\\n",
            "0  A  B  11.200000  10.000000  1.200000  3.617526  0.331718  0.987118   \n",
            "1  A  C  11.200000  13.857143 -2.657143  3.797611 -0.699688  0.896257   \n",
            "2  A  D  11.200000  11.000000  0.200000  3.617526  0.055286  0.999938   \n",
            "3  B  C  10.000000  13.857143 -3.857143  3.268464 -1.180109  0.644429   \n",
            "4  B  D  10.000000  11.000000 -1.000000  3.057368 -0.327079  0.987636   \n",
            "5  C  D  13.857143  11.000000  2.857143  3.268464  0.874155  0.818086   \n",
            "\n",
            "     hedges  \n",
            "0  0.184107  \n",
            "1 -0.360988  \n",
            "2  0.031543  \n",
            "3 -0.526812  \n",
            "4 -0.151535  \n",
            "5  0.397404  \n"
          ]
        }
      ]
    }
  ],
  "metadata": {
    "colab": {
      "name": "Colaboratory'ye Hoş Geldiniz",
      "provenance": [],
      "include_colab_link": true
    },
    "kernelspec": {
      "display_name": "Python 3",
      "name": "python3"
    }
  },
  "nbformat": 4,
  "nbformat_minor": 0
}