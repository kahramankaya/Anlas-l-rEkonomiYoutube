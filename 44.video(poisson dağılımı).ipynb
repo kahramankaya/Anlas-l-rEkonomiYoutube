{
  "cells": [
    {
      "cell_type": "markdown",
      "metadata": {
        "id": "view-in-github",
        "colab_type": "text"
      },
      "source": [
        "<a href=\"https://colab.research.google.com/github/kahramankaya/Anlas-l-rEkonomiYoutube/blob/main/44.video(poisson%20da%C4%9F%C4%B1l%C4%B1m%C4%B1).ipynb\" target=\"_parent\"><img src=\"https://colab.research.google.com/assets/colab-badge.svg\" alt=\"Open In Colab\"/></a>"
      ]
    },
    {
      "cell_type": "code",
      "source": [
        "44.video(poisson dağılımı)"
      ],
      "metadata": {
        "id": "LmsK0DL665pP"
      },
      "execution_count": null,
      "outputs": []
    },
    {
      "cell_type": "code",
      "source": [
        "# poısson dagılımı bır olayda nadır gerceklesen olaylarda kullanılır. mesela 3 sene de bır hastalıga yakalanma ya da 1000 secenekten 5 tanesının gerceklesmesı gıbı yerlerde bu dagılım kullanılır. \n",
        "# aslında nadır gerceklesen bu olaylarda bınom da kullanılabılır ama poısson kullanılması daha ıyı sonuc verdıgı ıcın bu dagılımı kullanıyoruz..\n",
        "# poisson dagılımı bınom dagılımının ozel bır dagılımıdır aslında.\n",
        "# poısson dagılımını bılmek ıcın lamba yanı ortalama degerı bılmek zorundayız.\n",
        "# bır olayın nadır syılabılmesı ıcın matemtık alemınde şoyle bır sey var: n>=50 ıse n*p<5 ise bu bır nadır olaydor. n deneme sayısı."
      ],
      "metadata": {
        "id": "_ik0w8VS65mr"
      },
      "execution_count": null,
      "outputs": []
    },
    {
      "cell_type": "code",
      "source": [
        "# beklenen değer = ortalama  .....poisson dağılımnında ortalama yani beklenen değer n*p ya da landa dır"
      ],
      "metadata": {
        "id": "Aym9xLDpAgXT"
      },
      "execution_count": null,
      "outputs": []
    },
    {
      "cell_type": "code",
      "source": [],
      "metadata": {
        "id": "CuW49aMmAj7O"
      },
      "execution_count": null,
      "outputs": []
    }
  ],
  "metadata": {
    "colab": {
      "name": "Colaboratory'ye Hoş Geldiniz",
      "provenance": [],
      "include_colab_link": true
    },
    "kernelspec": {
      "display_name": "Python 3",
      "name": "python3"
    }
  },
  "nbformat": 4,
  "nbformat_minor": 0
}