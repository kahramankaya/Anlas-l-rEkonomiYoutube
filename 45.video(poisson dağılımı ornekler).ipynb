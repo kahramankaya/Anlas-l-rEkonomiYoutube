{
  "cells": [
    {
      "cell_type": "markdown",
      "metadata": {
        "id": "view-in-github",
        "colab_type": "text"
      },
      "source": [
        "<a href=\"https://colab.research.google.com/github/kahramankaya/Anlas-l-rEkonomiYoutube/blob/main/45.video(poisson%20da%C4%9F%C4%B1l%C4%B1m%C4%B1%20ornekler).ipynb\" target=\"_parent\"><img src=\"https://colab.research.google.com/assets/colab-badge.svg\" alt=\"Open In Colab\"/></a>"
      ]
    },
    {
      "cell_type": "code",
      "source": [
        "45.video(poisson dağılımı ornekler)"
      ],
      "metadata": {
        "id": "CuW49aMmAj7O"
      },
      "execution_count": null,
      "outputs": []
    },
    {
      "cell_type": "code",
      "source": [
        "# ornek: 1 dk da 10 tane arama olmakadır. bu vıze ortalamayı vermış oldu. peki hıc arama olmama olasılıg nedır.\n",
        "from scipy import stats\n",
        "ortalama=10\n",
        "dağilim=stats.poisson(ortalama)\n",
        "p0=dağilim.pmf(k=0) # k alınan bır parametre ve hıc arama olmama 0 olarak gırılır.\n",
        "print(p0) # 4.5 cıkar. yuzdeye cevırmek ıcın ıcını 100 ile carp.\n",
        "print(p0*100) # yuzde  0.0045 cıkar.\n"
      ],
      "metadata": {
        "colab": {
          "base_uri": "https://localhost:8080/"
        },
        "id": "3d1WM7U_FqZf",
        "outputId": "f46f0ab5-d50e-41a4-d3cb-3f1c36f83168"
      },
      "execution_count": 6,
      "outputs": [
        {
          "output_type": "stream",
          "name": "stdout",
          "text": [
            "4.5399929762484854e-05\n",
            "0.004539992976248485\n"
          ]
        }
      ]
    },
    {
      "cell_type": "code",
      "source": [
        "# baska ornek: bır magaza var. 1 yılda 1825 tane tv satmış. pekı bır gunde 9 tane satma olasılıgı nedır.\n",
        "from scipy import stats\n",
        "ortalama=1825/365 # landa yani ortalama 5 cıktı.\n",
        "dağilim=stats.poisson(ortalama)\n",
        "p1=dağilim.pmf(k=9)\n",
        "print(p1*100) # yuzde 3.6 cıktı."
      ],
      "metadata": {
        "colab": {
          "base_uri": "https://localhost:8080/"
        },
        "id": "Q5zsLvI-JhQ3",
        "outputId": "4f72c890-dc39-4e41-fe0f-6c65e4fa365b"
      },
      "execution_count": 15,
      "outputs": [
        {
          "output_type": "stream",
          "name": "stdout",
          "text": [
            "3.6265577415643713\n"
          ]
        }
      ]
    },
    {
      "cell_type": "code",
      "source": [
        "#ornek: 1 yılda ortalama 6 deprem olmaktadır. pekı 1 yılda en az 3 ve de en fazla 3 deprem olma olasılgı nedır.\n",
        "from scipy import stats\n",
        "ortalama=6\n",
        "dağilim=stats.poisson(ortalama)\n",
        "p0=dağilim.cdf(x=3)\n",
        "print(p0*100) # en fazla 3 deprem olma olasılıgı bu dur. yuzde 15\n",
        "print((1-dağilim.cdf(2))*100) # en az 3 deprem olma olasılıgıdır. yuzde 93 tur."
      ],
      "metadata": {
        "id": "pBz3RZR3LKb_",
        "outputId": "e52208dc-1398-41ef-bf7b-3140edc2bc69",
        "colab": {
          "base_uri": "https://localhost:8080/"
        }
      },
      "execution_count": 19,
      "outputs": [
        {
          "output_type": "stream",
          "name": "stdout",
          "text": [
            "15.120388277664784\n",
            "93.8031195583341\n"
          ]
        }
      ]
    }
  ],
  "metadata": {
    "colab": {
      "name": "Colaboratory'ye Hoş Geldiniz",
      "provenance": [],
      "include_colab_link": true
    },
    "kernelspec": {
      "display_name": "Python 3",
      "name": "python3"
    }
  },
  "nbformat": 4,
  "nbformat_minor": 0
}