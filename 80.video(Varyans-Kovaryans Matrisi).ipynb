{
  "cells": [
    {
      "cell_type": "markdown",
      "metadata": {
        "id": "view-in-github",
        "colab_type": "text"
      },
      "source": [
        "<a href=\"https://colab.research.google.com/github/kahramankaya/Anlas-l-rEkonomiYoutube/blob/main/80.video(Varyans-Kovaryans%20Matrisi).ipynb\" target=\"_parent\"><img src=\"https://colab.research.google.com/assets/colab-badge.svg\" alt=\"Open In Colab\"/></a>"
      ]
    },
    {
      "cell_type": "code",
      "source": [
        "#80.video(Varyans-Kovaryans Matrisi)\n",
        "#Varyans-kovaryans matrisi, bir veri setindeki değişkenler arasındaki ilişkiyi ölçmek için kullanılan bir matrisdir. \n",
        "#Bu matris, veri setindeki her bir değişkenin varyansını ve her bir değişkenin diğer değişkenlerle kovaryansını içerir.\n",
        "#Varyans, bir değişkenin dağılımındaki değişkenliği ölçerken, \n",
        "#kovaryans iki değişken arasındaki ilişkinin ne kadar değişebileceğini ölçer.\n",
        "#Bu matris, istatistiksel analizlerde sıklıkla kullanılır ve çok değişkenli analizlerde, faktör analizi ve regresyon analizleri gibi tekniklerde önemli bir rol oynar."
      ],
      "metadata": {
        "id": "eMMtCrN_jgcC"
      },
      "execution_count": null,
      "outputs": []
    },
    {
      "cell_type": "code",
      "source": [
        "import numpy as np\n",
        "import pandas as pd\n",
        "x=[5,6,68,9,7]\n",
        "y=[3,63,44,89,77]\n",
        "veri=np.array([x,y])\n",
        "varcov=np.cov(veri,bias=True)\n",
        "#602 degerı x ın kovaryansıdır, pozıtıf olması egımı pozıtıf anlamında dır.\n",
        "#-103.8 xy kovaryansı dır negatıf olması egımı negatıf demektır. \n",
        "#905.76 da y nın kovaryansıdır.\n",
        "print(varcov)"
      ],
      "metadata": {
        "id": "evZ8rXujpiXx",
        "outputId": "42e89c04-d014-4b2a-9a0c-e51c9b9eec2c",
        "colab": {
          "base_uri": "https://localhost:8080/"
        }
      },
      "execution_count": 3,
      "outputs": [
        {
          "output_type": "stream",
          "name": "stdout",
          "text": [
            "[[ 602.   -103.8 ]\n",
            " [-103.8   905.76]]\n"
          ]
        }
      ]
    },
    {
      "cell_type": "code",
      "source": [],
      "metadata": {
        "id": "7Q-gddtOpidp"
      },
      "execution_count": null,
      "outputs": []
    }
  ],
  "metadata": {
    "colab": {
      "name": "Colaboratory'ye Hoş Geldiniz",
      "provenance": [],
      "include_colab_link": true
    },
    "kernelspec": {
      "display_name": "Python 3",
      "name": "python3"
    }
  },
  "nbformat": 4,
  "nbformat_minor": 0
}