{
  "cells": [
    {
      "cell_type": "markdown",
      "metadata": {
        "id": "view-in-github",
        "colab_type": "text"
      },
      "source": [
        "<a href=\"https://colab.research.google.com/github/kahramankaya/Anlas-l-rEkonomiYoutube/blob/main/92.video(kovaryans%20korelasyon%20ili%C5%9Fkisi).ipynb\" target=\"_parent\"><img src=\"https://colab.research.google.com/assets/colab-badge.svg\" alt=\"Open In Colab\"/></a>"
      ]
    },
    {
      "cell_type": "code",
      "source": [
        "#92.video(kovaryans korelasyon ilişkisi)"
      ],
      "metadata": {
        "id": "XxCBYo_DnRQm"
      },
      "execution_count": null,
      "outputs": []
    },
    {
      "cell_type": "code",
      "source": [
        "#kovaryans da korelasyonda iki seyın arasında ılışkıyı anlamamıza yarar. her ıkısınde de pozıtıf ve de negatıf yon var.\n",
        "#kovaryans ile korelasyon arasında kı ılıskıye gelınce soyle bır sey var: korelasyon ıkısı arasında kı sıddetı ne kadar oldugunu bıe verır.\n",
        "#ama kovaryans bunu yapamaz. hr ıkısnde yapılan degısıklık yapılınca kovaryans degısır bu yuzde bunlar arasında ılıskının sıddetını anlamak ıcın korelasyona gecerız.\n",
        "#yanı korelasyonu bulamk ıcın kovaryansı standart hale getırmemız gerekır.\n"
      ],
      "metadata": {
        "id": "wxJc1W_LnRNm"
      },
      "execution_count": null,
      "outputs": []
    },
    {
      "cell_type": "code",
      "source": [
        "import numpy as np\n",
        "x=[5,10,15,20,25,78]\n",
        "y=[1,3,6,9,25,89]\n",
        "#pythonda korelasyon işlemi:\n",
        "print(np.corrcoef(x,y))"
      ],
      "metadata": {
        "id": "tYvdcP-tnRL9",
        "outputId": "2cddf687-fcfa-4fa7-f74a-b2cbc504615d",
        "colab": {
          "base_uri": "https://localhost:8080/"
        }
      },
      "execution_count": null,
      "outputs": [
        {
          "output_type": "stream",
          "name": "stdout",
          "text": [
            "[[1.         0.99282477]\n",
            " [0.99282477 1.        ]]\n"
          ]
        }
      ]
    },
    {
      "cell_type": "code",
      "source": [
        "x=[50,100,150,200,250,780]\n",
        "y=[10,30,60,90,250,890]\n",
        "#degerlerı 10 ile carptık yıne sonuc degısmedı ıste bu yuzden korelasyon kullanılır. 10 ile carpmamız koveryansı degıstırır ama.\n",
        "print(np.corrcoef(x,y))"
      ],
      "metadata": {
        "id": "Vp2NrfhAnRKy",
        "outputId": "85731bc5-b6a3-4182-af69-fafd3b889fdf",
        "colab": {
          "base_uri": "https://localhost:8080/"
        }
      },
      "execution_count": null,
      "outputs": [
        {
          "output_type": "stream",
          "name": "stdout",
          "text": [
            "[[1.         0.99282477]\n",
            " [0.99282477 1.        ]]\n"
          ]
        }
      ]
    },
    {
      "cell_type": "code",
      "source": [
        "#korelasyonda hıpotezler olacak. var olan ılıskı sans eserı mı oldu yoksa arasında bır nedensellık var mı. bunlar ılerde hıpotezlerımız olacaktır."
      ],
      "metadata": {
        "id": "qEiMyf_dtxX0"
      },
      "execution_count": null,
      "outputs": []
    }
  ],
  "metadata": {
    "colab": {
      "name": "Colaboratory'ye Hoş Geldiniz",
      "provenance": [],
      "include_colab_link": true
    },
    "kernelspec": {
      "display_name": "Python 3",
      "name": "python3"
    }
  },
  "nbformat": 4,
  "nbformat_minor": 0
}