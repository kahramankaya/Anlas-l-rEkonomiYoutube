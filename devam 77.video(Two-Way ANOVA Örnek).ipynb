{
  "cells": [
    {
      "cell_type": "markdown",
      "metadata": {
        "id": "view-in-github",
        "colab_type": "text"
      },
      "source": [
        "<a href=\"https://colab.research.google.com/github/kahramankaya/Anlas-l-rEkonomiYoutube/blob/main/devam%2077.video(Two-Way%20ANOVA%20%C3%96rnek).ipynb\" target=\"_parent\"><img src=\"https://colab.research.google.com/assets/colab-badge.svg\" alt=\"Open In Colab\"/></a>"
      ]
    },
    {
      "cell_type": "code",
      "source": [
        "#devam 77.video(Two-Way ANOVA Örnek)\n",
        "import numpy as np\n",
        "import pandas as pd\n",
        "\n",
        "np.random.seed(5)\n",
        "list1=[]\n",
        "list2=[]\n",
        "for m in range(100):\n",
        "  tohum_turlerı=np.random.choice([\"a\",\"b\",\"c\",\"d\",\"e\"])\n",
        "  list1.append(tohum_turlerı)\n",
        "\n",
        "for m in range(100):\n",
        "  gubre_turlerı=np.random.choice([\"x\",\"y\",\"z\"])\n",
        "  list2.append(gubre_turlerı)\n",
        "\n",
        "verim=np.random.randint(1,1000,size=(100))\n",
        "pd.DataFrame(verim,columns=[\"verim\"])\n",
        "data=pd.concat([pd.DataFrame(list1,columns=[\"tohum\"]),pd.DataFrame(list2,columns=[\"gubre\"]),pd.DataFrame(verim,columns=[\"verim\"])],axis=1)\n",
        "print(data)\n"
      ],
      "metadata": {
        "colab": {
          "base_uri": "https://localhost:8080/"
        },
        "id": "VEtaE3pZvW3_",
        "outputId": "01d603bc-02ce-44b8-cdcf-89366cdd22f3"
      },
      "execution_count": 20,
      "outputs": [
        {
          "output_type": "stream",
          "name": "stdout",
          "text": [
            "   tohum gubre  verim\n",
            "0      d     x    411\n",
            "1      a     z    938\n",
            "2      b     x    212\n",
            "3      a     y    285\n",
            "4      e     x    460\n",
            "..   ...   ...    ...\n",
            "95     e     y    436\n",
            "96     d     z    726\n",
            "97     e     x    114\n",
            "98     d     y    785\n",
            "99     b     y    865\n",
            "\n",
            "[100 rows x 3 columns]\n"
          ]
        }
      ]
    },
    {
      "cell_type": "code",
      "source": [
        "#iki yonlu anova yapısı arkada bır dogrusal model ile çalışıyor.\n",
        "from scipy import stats\n",
        "import statsmodels.api as sm\n",
        "import statsmodels.stats as ss\n",
        "import statsmodels.formula.api as ols\n",
        "import matplotlib.pyplot as plt\n",
        "\n",
        "#yapılan işlem şu: yalnızca tohum yalnız gubre ve daha sonra tohum gubrenın bırlıkte verıme etkısı . yazılan kod bu anlamda.\n",
        "model=\"verim ~ C(tohum)+C(gubre):C(tohum)+C(gubre)\"\n",
        "test=ols(model,data=data).fit()\n",
        "\n",
        "#resid modelde ki hataları hatalar degıskenıne atmayı saglar.\n",
        "#hatalar=model.resid\n",
        "#nor=stats.shapiro(hatalar)\n",
        "#print(nor)\n",
        "\n",
        "anova=sm.stats.anova_lm(model,type=2)\n",
        "print(anova)"
      ],
      "metadata": {
        "id": "IYDUC0KdcFVB",
        "outputId": "3b1b6d1b-ece8-4902-a053-8d6f78a520c9",
        "colab": {
          "base_uri": "https://localhost:8080/",
          "height": 235
        }
      },
      "execution_count": 23,
      "outputs": [
        {
          "output_type": "error",
          "ename": "TypeError",
          "evalue": "ignored",
          "traceback": [
            "\u001b[0;31m---------------------------------------------------------------------------\u001b[0m",
            "\u001b[0;31mTypeError\u001b[0m                                 Traceback (most recent call last)",
            "\u001b[0;32m<ipython-input-23-3c0d388280f0>\u001b[0m in \u001b[0;36m<module>\u001b[0;34m\u001b[0m\n\u001b[1;32m      8\u001b[0m \u001b[0;31m#yapılan işlem şu: yalnızca tohum yalnız gubre ve daha sonra tohum gubrenın bırlıkte verıme etkısı . yazılan kod bu anlamda.\u001b[0m\u001b[0;34m\u001b[0m\u001b[0;34m\u001b[0m\u001b[0;34m\u001b[0m\u001b[0m\n\u001b[1;32m      9\u001b[0m \u001b[0mmodel\u001b[0m\u001b[0;34m=\u001b[0m\u001b[0;34m\"verim ~ C(tohum)+C(gubre):C(tohum)+C(gubre)\"\u001b[0m\u001b[0;34m\u001b[0m\u001b[0;34m\u001b[0m\u001b[0m\n\u001b[0;32m---> 10\u001b[0;31m \u001b[0mtest\u001b[0m\u001b[0;34m=\u001b[0m\u001b[0mols\u001b[0m\u001b[0;34m(\u001b[0m\u001b[0mmodel\u001b[0m\u001b[0;34m,\u001b[0m\u001b[0mdata\u001b[0m\u001b[0;34m=\u001b[0m\u001b[0mdata\u001b[0m\u001b[0;34m)\u001b[0m\u001b[0;34m.\u001b[0m\u001b[0mfit\u001b[0m\u001b[0;34m(\u001b[0m\u001b[0;34m)\u001b[0m\u001b[0;34m\u001b[0m\u001b[0;34m\u001b[0m\u001b[0m\n\u001b[0m\u001b[1;32m     11\u001b[0m \u001b[0;34m\u001b[0m\u001b[0m\n\u001b[1;32m     12\u001b[0m \u001b[0;31m#resid modelde ki hataları hatalar degıskenıne atmayı saglar.\u001b[0m\u001b[0;34m\u001b[0m\u001b[0;34m\u001b[0m\u001b[0;34m\u001b[0m\u001b[0m\n",
            "\u001b[0;31mTypeError\u001b[0m: 'module' object is not callable"
          ]
        }
      ]
    }
  ],
  "metadata": {
    "colab": {
      "name": "Colaboratory'ye Hoş Geldiniz",
      "provenance": [],
      "include_colab_link": true
    },
    "kernelspec": {
      "display_name": "Python 3",
      "name": "python3"
    }
  },
  "nbformat": 4,
  "nbformat_minor": 0
}