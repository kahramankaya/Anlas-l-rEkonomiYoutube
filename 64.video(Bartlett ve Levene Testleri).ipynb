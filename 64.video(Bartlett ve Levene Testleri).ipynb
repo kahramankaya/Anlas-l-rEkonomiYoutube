{
  "cells": [
    {
      "cell_type": "markdown",
      "metadata": {
        "id": "view-in-github",
        "colab_type": "text"
      },
      "source": [
        "<a href=\"https://colab.research.google.com/github/kahramankaya/Anlas-l-rEkonomiYoutube/blob/main/64.video(Bartlett%20ve%20Levene%20Testleri).ipynb\" target=\"_parent\"><img src=\"https://colab.research.google.com/assets/colab-badge.svg\" alt=\"Open In Colab\"/></a>"
      ]
    },
    {
      "cell_type": "code",
      "source": [
        "#64.video(Bartlett ve Levene Testleri):\n",
        "#Bartlett ve Levene testleri, veri setlerinin varyans homojenliğini test etmek için kullanılan istatistiksel testlerdir.\n",
        "#Varyans homojenliği, bir veri setindeki farklı grupların varyanslarının birbirine eşit olduğu anlamına gelir.\n",
        "#Bazı istatistiksel analizler, varsayılan olarak veri setlerindeki grupların varyanslarının homojen olduğunu varsayarlar. \n",
        "#Bu nedenle, veri setindeki grupların varyansları homojen değilse, analiz sonuçları yanıltıcı olabilir."
      ],
      "metadata": {
        "id": "coSj_Jc3Yb1m"
      },
      "execution_count": null,
      "outputs": []
    },
    {
      "cell_type": "code",
      "source": [
        "#h0:erkek ve kadın ların varyansları eşittir.\n",
        "#h1:erkek ve kadın ların varyansları eşit değildir.\n",
        "# bunun varyans homojenlıgınden once normallık testıne bakılır. ona gore varyans testlerı olan levene ve bartlett kullanılır.\n",
        "\n",
        "import numpy as np\n",
        "import pandas as pd\n",
        "from scipy import stats\n",
        "\n",
        "np.random.seed(0)\n",
        "\n",
        "list1=[]\n",
        "list2=[]\n",
        "harcama=[]\n",
        "\n",
        "for m in range(50):\n",
        "  list1.append(\"erkek\")\n",
        "  harcama.append(np.random.randint(1000,size=1))\n",
        "\n",
        "for m in range(50):\n",
        "  list2.append(\"kadın\")\n",
        "  harcama.append(np.random.randint(1000,size=1))\n",
        "  \n",
        "erkek=pd.DataFrame(list1,columns=[\"cinsiyet\"])\n",
        "kadın=pd.DataFrame(list2,columns=[\"cinsiyet\"])\n",
        "harcamaa=pd.DataFrame(harcama,columns=[\"harcama\"])\n",
        "\n",
        "veri=pd.concat([erkek,kadın], ignore_index=True)\n",
        "x=pd.concat([veri,harcamaa],axis=1)\n",
        "\n",
        "erkeklerin_harcamalari = x[x[\"cinsiyet\"] == \"erkek\"][\"harcama\"]\n",
        "kadınların_harcamalari = x[x[\"cinsiyet\"] == \"kadın\"][\"harcama\"]\n",
        "\n",
        "p1=stats.shapiro(erkeklerin_harcamalari)\n",
        "p2=stats.shapiro(kadınların_harcamalari)\n",
        "print(p1) # p1 ve p2 p-value degerlerı 0.05 ten kucuk oldugu ıcın red edilmez. yanı sectıgımız erkek ve kadınlar normal dagılmıslar. \n",
        "print(p2) # normal dagılım oldugu ıcın varyans homojenlıgını ogrnemek ıcın bartlett kullanılır.\n",
        "\n",
        "print(stats.bartlett(erkeklerin_harcamalari,kadınların_harcamalari)) # 0.05 ten buyuk oldugu ıcın hıpotez red edılmez yanı varyans homojen dagılmıstır. erkek ve kadınların varyansları esıt demektır."
      ],
      "metadata": {
        "id": "JIJ1hbKXYbyU",
        "outputId": "24be1d12-536a-4514-c07b-1ed84d07dbeb",
        "colab": {
          "base_uri": "https://localhost:8080/"
        }
      },
      "execution_count": 91,
      "outputs": [
        {
          "output_type": "stream",
          "name": "stdout",
          "text": [
            "ShapiroResult(statistic=0.9368371367454529, pvalue=0.010120010934770107)\n",
            "ShapiroResult(statistic=0.9436560869216919, pvalue=0.018843984231352806)\n",
            "BartlettResult(statistic=0.2144368276416287, pvalue=0.6433118689002999)\n"
          ]
        }
      ]
    },
    {
      "cell_type": "code",
      "source": [],
      "metadata": {
        "id": "048sxu8GYb-0"
      },
      "execution_count": null,
      "outputs": []
    }
  ],
  "metadata": {
    "colab": {
      "name": "Colaboratory'ye Hoş Geldiniz",
      "provenance": [],
      "include_colab_link": true
    },
    "kernelspec": {
      "display_name": "Python 3",
      "name": "python3"
    }
  },
  "nbformat": 4,
  "nbformat_minor": 0
}