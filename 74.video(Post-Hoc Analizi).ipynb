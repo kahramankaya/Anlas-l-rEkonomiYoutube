{
  "cells": [
    {
      "cell_type": "markdown",
      "metadata": {
        "id": "view-in-github",
        "colab_type": "text"
      },
      "source": [
        "<a href=\"https://colab.research.google.com/github/kahramankaya/Anlas-l-rEkonomiYoutube/blob/main/74.video(Post-Hoc%20Analizi).ipynb\" target=\"_parent\"><img src=\"https://colab.research.google.com/assets/colab-badge.svg\" alt=\"Open In Colab\"/></a>"
      ]
    },
    {
      "cell_type": "code",
      "source": [
        "#74.video(Post-Hoc Analizi):\n",
        "#ANOVA testinden sonra gruplar arasında fark olmuş ise bu farklı olan grupların hangısı oldugunu bılmek ıcın post-hoc kullanılır.\n",
        "#1.adım normallık testı shapıroydu. 2.adım varyans omojenlıgı testı olan bartlett ve levene kullanılır. daha sonra 3. adımda eger varyans aynıysa ANOVA , degılse Welch t testi kullanılır.\n"
      ],
      "metadata": {
        "id": "nqZTlUAQsyeX"
      },
      "execution_count": null,
      "outputs": []
    },
    {
      "cell_type": "code",
      "source": [
        "from statsmodels.stats.multicomp import pairwise_tukeyhsd\n",
        "from scipy import stats\n",
        "import numpy as np\n",
        "import pandas as pd\n",
        "\n",
        "np.random.seed(6)\n",
        "tv_suresı=np.random.randint(0,50,(24))\n",
        "\n",
        "df1=pd.DataFrame(8*[\"ortaokul\"],columns=[\"grup\"])\n",
        "df2=pd.DataFrame(8*[\"lıse\"],columns=[\"grup\"])\n",
        "df3=pd.DataFrame(8*[\"unıversıte\"],columns=[\"grup\"])\n",
        "df4=pd.concat([df1,df2,df3],axis=0,ignore_index=True)\n",
        "df5=pd.DataFrame(tv_suresı,columns=[\"tv_suresı\"])\n",
        "data=pd.concat([df4,df5],axis=1)\n",
        "print(data)\n",
        "# ben suanlık 1. 2. 3. adımları atlayıp ANOVA yapılmıs ve gruplar arasında da fark olmus gıbı devam edecegım.\n"
      ],
      "metadata": {
        "id": "wYrMsY-usyhu",
        "outputId": "128c8083-22c3-4b75-fc7a-44bccc23f57f",
        "colab": {
          "base_uri": "https://localhost:8080/"
        }
      },
      "execution_count": 25,
      "outputs": [
        {
          "output_type": "stream",
          "name": "stdout",
          "text": [
            "          grup  tv_suresı\n",
            "0     ortaokul         10\n",
            "1     ortaokul          9\n",
            "2     ortaokul         35\n",
            "3     ortaokul         20\n",
            "4     ortaokul         42\n",
            "5     ortaokul         45\n",
            "6     ortaokul         15\n",
            "7     ortaokul         42\n",
            "8         lıse         16\n",
            "9         lıse         25\n",
            "10        lıse          1\n",
            "11        lıse         11\n",
            "12        lıse         13\n",
            "13        lıse         26\n",
            "14        lıse         47\n",
            "15        lıse         33\n",
            "16  unıversıte         44\n",
            "17  unıversıte         46\n",
            "18  unıversıte          4\n",
            "19  unıversıte         33\n",
            "20  unıversıte          8\n",
            "21  unıversıte          2\n",
            "22  unıversıte         12\n",
            "23  unıversıte         20\n"
          ]
        }
      ]
    },
    {
      "cell_type": "code",
      "source": [
        "from statsmodels.stats.multicomp import pairwise_tukeyhsd\n",
        "\n",
        "# dıkkat et ilk parametre sayısal degerler olan bagımlı degıslenler, ıkıncı paramete ıse bagımsız degısken olan kategorık deıskenler olmalı\n",
        "#goruldugu uzere ıkılı ıkılı karsılastırmıs. reject kısmı tru ıse nlar arasında bır fark yoktur ama true ıse o ıkı grup arasında tv ızleme suresı arasında anlamlı bır fark vardır.anlamına gelır.\n",
        "print(pairwise_tukeyhsd(data[\"tv_suresı\"],data[\"grup\"],alpha=0.05)) "
      ],
      "metadata": {
        "id": "gKhXzKIzFGYc",
        "outputId": "560a75aa-8de9-494d-d0c9-fdaef71b76f6",
        "colab": {
          "base_uri": "https://localhost:8080/"
        }
      },
      "execution_count": 23,
      "outputs": [
        {
          "output_type": "stream",
          "name": "stdout",
          "text": [
            "    Multiple Comparison of Means - Tukey HSD, FWER=0.05    \n",
            "===========================================================\n",
            " group1    group2   meandiff p-adj   lower    upper  reject\n",
            "-----------------------------------------------------------\n",
            "    lıse   ortaokul     5.75 0.7519 -14.2533 25.7533  False\n",
            "    lıse unıversıte   -0.375 0.9988 -20.3783 19.6283  False\n",
            "ortaokul unıversıte   -6.125  0.724 -26.1283 13.8783  False\n",
            "-----------------------------------------------------------\n"
          ]
        }
      ]
    },
    {
      "cell_type": "code",
      "source": [
        "# diyelim ki bartlett ve levene den sonra varyans homojen cıkmadı o zaman ANOVA uygulayamıyoruz, bunun yerine Welch t testi kullanıyoruz.\n",
        "!pip install pingouin\n",
        "import pingouin as pg\n",
        "\n",
        "#ilk parametre datamızı atıyoruz. ıkıncı parametre sureklı degıskenı yanı tv ızleme suresını atıyoruz. son parametre ne arasında dıyor o da grup olacak dıgerı gıbı koselı paranteze gerek yok. \n",
        "# sonucta kı p-unc degerı aslında p degerı oluyor. bu 0.05 ten buyuk h0 red edilmez. gruplar arasında tv ızleme ıcın anlamlı bır fark yoktur.\n",
        "print(pg.welch_anova(data=data,dv=\"tv_suresı\",between=\"grup\"))\n"
      ],
      "metadata": {
        "id": "mQs3iT9tsykd",
        "outputId": "457e825c-99ff-4290-e8f6-942c425694b2",
        "colab": {
          "base_uri": "https://localhost:8080/"
        }
      },
      "execution_count": 39,
      "outputs": [
        {
          "output_type": "stream",
          "name": "stdout",
          "text": [
            "Looking in indexes: https://pypi.org/simple, https://us-python.pkg.dev/colab-wheels/public/simple/\n",
            "Requirement already satisfied: pingouin in /usr/local/lib/python3.8/dist-packages (0.5.3)\n",
            "Requirement already satisfied: scikit-learn in /usr/local/lib/python3.8/dist-packages (from pingouin) (1.2.1)\n",
            "Requirement already satisfied: scipy>=1.7 in /usr/local/lib/python3.8/dist-packages (from pingouin) (1.10.1)\n",
            "Requirement already satisfied: tabulate in /usr/local/lib/python3.8/dist-packages (from pingouin) (0.8.10)\n",
            "Requirement already satisfied: numpy>=1.19 in /usr/local/lib/python3.8/dist-packages (from pingouin) (1.22.4)\n",
            "Requirement already satisfied: statsmodels>=0.13 in /usr/local/lib/python3.8/dist-packages (from pingouin) (0.13.5)\n",
            "Requirement already satisfied: pandas-flavor>=0.2.0 in /usr/local/lib/python3.8/dist-packages (from pingouin) (0.5.0)\n",
            "Requirement already satisfied: seaborn>=0.11 in /usr/local/lib/python3.8/dist-packages (from pingouin) (0.11.2)\n",
            "Requirement already satisfied: pandas>=1.0 in /usr/local/lib/python3.8/dist-packages (from pingouin) (1.3.5)\n",
            "Requirement already satisfied: matplotlib>=3.0.2 in /usr/local/lib/python3.8/dist-packages (from pingouin) (3.5.3)\n",
            "Requirement already satisfied: outdated in /usr/local/lib/python3.8/dist-packages (from pingouin) (0.2.2)\n",
            "Requirement already satisfied: pyparsing>=2.2.1 in /usr/local/lib/python3.8/dist-packages (from matplotlib>=3.0.2->pingouin) (3.0.9)\n",
            "Requirement already satisfied: packaging>=20.0 in /usr/local/lib/python3.8/dist-packages (from matplotlib>=3.0.2->pingouin) (23.0)\n",
            "Requirement already satisfied: pillow>=6.2.0 in /usr/local/lib/python3.8/dist-packages (from matplotlib>=3.0.2->pingouin) (8.4.0)\n",
            "Requirement already satisfied: cycler>=0.10 in /usr/local/lib/python3.8/dist-packages (from matplotlib>=3.0.2->pingouin) (0.11.0)\n",
            "Requirement already satisfied: kiwisolver>=1.0.1 in /usr/local/lib/python3.8/dist-packages (from matplotlib>=3.0.2->pingouin) (1.4.4)\n",
            "Requirement already satisfied: python-dateutil>=2.7 in /usr/local/lib/python3.8/dist-packages (from matplotlib>=3.0.2->pingouin) (2.8.2)\n",
            "Requirement already satisfied: fonttools>=4.22.0 in /usr/local/lib/python3.8/dist-packages (from matplotlib>=3.0.2->pingouin) (4.38.0)\n",
            "Requirement already satisfied: pytz>=2017.3 in /usr/local/lib/python3.8/dist-packages (from pandas>=1.0->pingouin) (2022.7.1)\n",
            "Requirement already satisfied: lazy-loader>=0.1 in /usr/local/lib/python3.8/dist-packages (from pandas-flavor>=0.2.0->pingouin) (0.1)\n",
            "Requirement already satisfied: xarray in /usr/local/lib/python3.8/dist-packages (from pandas-flavor>=0.2.0->pingouin) (2022.12.0)\n",
            "Requirement already satisfied: patsy>=0.5.2 in /usr/local/lib/python3.8/dist-packages (from statsmodels>=0.13->pingouin) (0.5.3)\n",
            "Requirement already satisfied: littleutils in /usr/local/lib/python3.8/dist-packages (from outdated->pingouin) (0.2.2)\n",
            "Requirement already satisfied: setuptools>=44 in /usr/local/lib/python3.8/dist-packages (from outdated->pingouin) (57.4.0)\n",
            "Requirement already satisfied: requests in /usr/local/lib/python3.8/dist-packages (from outdated->pingouin) (2.25.1)\n",
            "Requirement already satisfied: joblib>=1.1.1 in /usr/local/lib/python3.8/dist-packages (from scikit-learn->pingouin) (1.2.0)\n",
            "Requirement already satisfied: threadpoolctl>=2.0.0 in /usr/local/lib/python3.8/dist-packages (from scikit-learn->pingouin) (3.1.0)\n",
            "Requirement already satisfied: six in /usr/local/lib/python3.8/dist-packages (from patsy>=0.5.2->statsmodels>=0.13->pingouin) (1.15.0)\n",
            "Requirement already satisfied: certifi>=2017.4.17 in /usr/local/lib/python3.8/dist-packages (from requests->outdated->pingouin) (2022.12.7)\n",
            "Requirement already satisfied: idna<3,>=2.5 in /usr/local/lib/python3.8/dist-packages (from requests->outdated->pingouin) (2.10)\n",
            "Requirement already satisfied: chardet<5,>=3.0.2 in /usr/local/lib/python3.8/dist-packages (from requests->outdated->pingouin) (4.0.0)\n",
            "Requirement already satisfied: urllib3<1.27,>=1.21.1 in /usr/local/lib/python3.8/dist-packages (from requests->outdated->pingouin) (1.26.14)\n",
            "  Source  ddof1      ddof2         F     p-unc      np2\n",
            "0   grup      2  13.902844  0.370475  0.697021  0.03442\n"
          ]
        }
      ]
    },
    {
      "cell_type": "code",
      "source": [
        "#diyelimki welch t testinde de h0 red edildi yanı anlmalı fark vardır dedı. post-hoctan tamhane bır testini kullanacagız. \n",
        "#yuarıda kı kod dedıgım gıbı varyans homojen olmadıgı ıcın welch kullanmıstık. aynı sekılde esıt olmadıgı ıcın tamhane posthoc tan tamhane testi kullanılır.\n",
        "!pip install scikit-posthocs\n",
        "import scikit_posthocs as sp\n",
        "# bu matrıxte her deger bakıyoruz hangısı 0.05 ten kucukse onların arasında anlamlı bır farklılık var demektır. tabı ben degerlerı rasgele randınt ıle yaptıgım ıcın hepsı alpha dan buyuk. ama takma burayı.\n",
        "print(sp.posthoc_tamhane(data,val_col=\"tv_suresı\",group_col=\"grup\"))"
      ],
      "metadata": {
        "id": "E_nwPQByIPfD",
        "outputId": "a47c6d7e-4c6e-463d-c117-9aa66612f610",
        "colab": {
          "base_uri": "https://localhost:8080/",
          "height": 472
        }
      },
      "execution_count": 43,
      "outputs": [
        {
          "output_type": "stream",
          "name": "stdout",
          "text": [
            "Looking in indexes: https://pypi.org/simple, https://us-python.pkg.dev/colab-wheels/public/simple/\n",
            "Requirement already satisfied: scikit-posthocs in /usr/local/lib/python3.8/dist-packages (0.7.0)\n",
            "Requirement already satisfied: pandas>=0.20.0 in /usr/local/lib/python3.8/dist-packages (from scikit-posthocs) (1.3.5)\n",
            "Requirement already satisfied: scipy in /usr/local/lib/python3.8/dist-packages (from scikit-posthocs) (1.10.1)\n",
            "Requirement already satisfied: statsmodels in /usr/local/lib/python3.8/dist-packages (from scikit-posthocs) (0.13.5)\n",
            "Requirement already satisfied: seaborn in /usr/local/lib/python3.8/dist-packages (from scikit-posthocs) (0.11.2)\n",
            "Requirement already satisfied: numpy in /usr/local/lib/python3.8/dist-packages (from scikit-posthocs) (1.22.4)\n",
            "Requirement already satisfied: matplotlib in /usr/local/lib/python3.8/dist-packages (from scikit-posthocs) (3.5.3)\n",
            "Requirement already satisfied: python-dateutil>=2.7.3 in /usr/local/lib/python3.8/dist-packages (from pandas>=0.20.0->scikit-posthocs) (2.8.2)\n",
            "Requirement already satisfied: pytz>=2017.3 in /usr/local/lib/python3.8/dist-packages (from pandas>=0.20.0->scikit-posthocs) (2022.7.1)\n",
            "Requirement already satisfied: fonttools>=4.22.0 in /usr/local/lib/python3.8/dist-packages (from matplotlib->scikit-posthocs) (4.38.0)\n",
            "Requirement already satisfied: pyparsing>=2.2.1 in /usr/local/lib/python3.8/dist-packages (from matplotlib->scikit-posthocs) (3.0.9)\n",
            "Requirement already satisfied: pillow>=6.2.0 in /usr/local/lib/python3.8/dist-packages (from matplotlib->scikit-posthocs) (8.4.0)\n",
            "Requirement already satisfied: packaging>=20.0 in /usr/local/lib/python3.8/dist-packages (from matplotlib->scikit-posthocs) (23.0)\n",
            "Requirement already satisfied: kiwisolver>=1.0.1 in /usr/local/lib/python3.8/dist-packages (from matplotlib->scikit-posthocs) (1.4.4)\n",
            "Requirement already satisfied: cycler>=0.10 in /usr/local/lib/python3.8/dist-packages (from matplotlib->scikit-posthocs) (0.11.0)\n",
            "Requirement already satisfied: patsy>=0.5.2 in /usr/local/lib/python3.8/dist-packages (from statsmodels->scikit-posthocs) (0.5.3)\n",
            "Requirement already satisfied: six in /usr/local/lib/python3.8/dist-packages (from patsy>=0.5.2->statsmodels->scikit-posthocs) (1.15.0)\n"
          ]
        },
        {
          "output_type": "execute_result",
          "data": {
            "text/plain": [
              "            ortaokul      lıse  unıversıte\n",
              "ortaokul    1.000000  0.835361    0.852895\n",
              "lıse        0.835361  1.000000    0.999952\n",
              "unıversıte  0.852895  0.999952    1.000000"
            ],
            "text/html": [
              "\n",
              "  <div id=\"df-0abbca3c-bba5-449c-9c8a-23683434b471\">\n",
              "    <div class=\"colab-df-container\">\n",
              "      <div>\n",
              "<style scoped>\n",
              "    .dataframe tbody tr th:only-of-type {\n",
              "        vertical-align: middle;\n",
              "    }\n",
              "\n",
              "    .dataframe tbody tr th {\n",
              "        vertical-align: top;\n",
              "    }\n",
              "\n",
              "    .dataframe thead th {\n",
              "        text-align: right;\n",
              "    }\n",
              "</style>\n",
              "<table border=\"1\" class=\"dataframe\">\n",
              "  <thead>\n",
              "    <tr style=\"text-align: right;\">\n",
              "      <th></th>\n",
              "      <th>ortaokul</th>\n",
              "      <th>lıse</th>\n",
              "      <th>unıversıte</th>\n",
              "    </tr>\n",
              "  </thead>\n",
              "  <tbody>\n",
              "    <tr>\n",
              "      <th>ortaokul</th>\n",
              "      <td>1.000000</td>\n",
              "      <td>0.835361</td>\n",
              "      <td>0.852895</td>\n",
              "    </tr>\n",
              "    <tr>\n",
              "      <th>lıse</th>\n",
              "      <td>0.835361</td>\n",
              "      <td>1.000000</td>\n",
              "      <td>0.999952</td>\n",
              "    </tr>\n",
              "    <tr>\n",
              "      <th>unıversıte</th>\n",
              "      <td>0.852895</td>\n",
              "      <td>0.999952</td>\n",
              "      <td>1.000000</td>\n",
              "    </tr>\n",
              "  </tbody>\n",
              "</table>\n",
              "</div>\n",
              "      <button class=\"colab-df-convert\" onclick=\"convertToInteractive('df-0abbca3c-bba5-449c-9c8a-23683434b471')\"\n",
              "              title=\"Convert this dataframe to an interactive table.\"\n",
              "              style=\"display:none;\">\n",
              "        \n",
              "  <svg xmlns=\"http://www.w3.org/2000/svg\" height=\"24px\"viewBox=\"0 0 24 24\"\n",
              "       width=\"24px\">\n",
              "    <path d=\"M0 0h24v24H0V0z\" fill=\"none\"/>\n",
              "    <path d=\"M18.56 5.44l.94 2.06.94-2.06 2.06-.94-2.06-.94-.94-2.06-.94 2.06-2.06.94zm-11 1L8.5 8.5l.94-2.06 2.06-.94-2.06-.94L8.5 2.5l-.94 2.06-2.06.94zm10 10l.94 2.06.94-2.06 2.06-.94-2.06-.94-.94-2.06-.94 2.06-2.06.94z\"/><path d=\"M17.41 7.96l-1.37-1.37c-.4-.4-.92-.59-1.43-.59-.52 0-1.04.2-1.43.59L10.3 9.45l-7.72 7.72c-.78.78-.78 2.05 0 2.83L4 21.41c.39.39.9.59 1.41.59.51 0 1.02-.2 1.41-.59l7.78-7.78 2.81-2.81c.8-.78.8-2.07 0-2.86zM5.41 20L4 18.59l7.72-7.72 1.47 1.35L5.41 20z\"/>\n",
              "  </svg>\n",
              "      </button>\n",
              "      \n",
              "  <style>\n",
              "    .colab-df-container {\n",
              "      display:flex;\n",
              "      flex-wrap:wrap;\n",
              "      gap: 12px;\n",
              "    }\n",
              "\n",
              "    .colab-df-convert {\n",
              "      background-color: #E8F0FE;\n",
              "      border: none;\n",
              "      border-radius: 50%;\n",
              "      cursor: pointer;\n",
              "      display: none;\n",
              "      fill: #1967D2;\n",
              "      height: 32px;\n",
              "      padding: 0 0 0 0;\n",
              "      width: 32px;\n",
              "    }\n",
              "\n",
              "    .colab-df-convert:hover {\n",
              "      background-color: #E2EBFA;\n",
              "      box-shadow: 0px 1px 2px rgba(60, 64, 67, 0.3), 0px 1px 3px 1px rgba(60, 64, 67, 0.15);\n",
              "      fill: #174EA6;\n",
              "    }\n",
              "\n",
              "    [theme=dark] .colab-df-convert {\n",
              "      background-color: #3B4455;\n",
              "      fill: #D2E3FC;\n",
              "    }\n",
              "\n",
              "    [theme=dark] .colab-df-convert:hover {\n",
              "      background-color: #434B5C;\n",
              "      box-shadow: 0px 1px 3px 1px rgba(0, 0, 0, 0.15);\n",
              "      filter: drop-shadow(0px 1px 2px rgba(0, 0, 0, 0.3));\n",
              "      fill: #FFFFFF;\n",
              "    }\n",
              "  </style>\n",
              "\n",
              "      <script>\n",
              "        const buttonEl =\n",
              "          document.querySelector('#df-0abbca3c-bba5-449c-9c8a-23683434b471 button.colab-df-convert');\n",
              "        buttonEl.style.display =\n",
              "          google.colab.kernel.accessAllowed ? 'block' : 'none';\n",
              "\n",
              "        async function convertToInteractive(key) {\n",
              "          const element = document.querySelector('#df-0abbca3c-bba5-449c-9c8a-23683434b471');\n",
              "          const dataTable =\n",
              "            await google.colab.kernel.invokeFunction('convertToInteractive',\n",
              "                                                     [key], {});\n",
              "          if (!dataTable) return;\n",
              "\n",
              "          const docLinkHtml = 'Like what you see? Visit the ' +\n",
              "            '<a target=\"_blank\" href=https://colab.research.google.com/notebooks/data_table.ipynb>data table notebook</a>'\n",
              "            + ' to learn more about interactive tables.';\n",
              "          element.innerHTML = '';\n",
              "          dataTable['output_type'] = 'display_data';\n",
              "          await google.colab.output.renderOutput(dataTable, element);\n",
              "          const docLink = document.createElement('div');\n",
              "          docLink.innerHTML = docLinkHtml;\n",
              "          element.appendChild(docLink);\n",
              "        }\n",
              "      </script>\n",
              "    </div>\n",
              "  </div>\n",
              "  "
            ]
          },
          "metadata": {},
          "execution_count": 43
        }
      ]
    }
  ],
  "metadata": {
    "colab": {
      "name": "Colaboratory'ye Hoş Geldiniz",
      "provenance": [],
      "include_colab_link": true
    },
    "kernelspec": {
      "display_name": "Python 3",
      "name": "python3"
    }
  },
  "nbformat": 4,
  "nbformat_minor": 0
}