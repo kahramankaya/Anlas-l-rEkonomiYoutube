{
  "cells": [
    {
      "cell_type": "markdown",
      "metadata": {
        "id": "view-in-github",
        "colab_type": "text"
      },
      "source": [
        "<a href=\"https://colab.research.google.com/github/kahramankaya/Anlas-l-rEkonomiYoutube/blob/main/%20Anla%C5%9F%C4%B1l%C4%B1r%20Ekonomi%20Python%20ile%20Veri%20Analizi/61.video(Tek%20%C3%96rneklem%20T%20Testi).ipynb\" target=\"_parent\"><img src=\"https://colab.research.google.com/assets/colab-badge.svg\" alt=\"Open In Colab\"/></a>"
      ]
    },
    {
      "cell_type": "code",
      "source": [
        "# 61.video(Tek Örneklem T Testi)\n",
        "#T-Test, istatistiksel bir analiz yöntemidir ve iki örneklem arasındaki farkın anlamlılığını test etmek için kullanılır. İki örneklem arasındaki farkın anlamlı olup olmadığını belirlemek için tek örneklem t-testi veya bağımsız iki örneklem t-testi kullanılabilir.\n",
        "#Tek örneklem t-testi, bir örneklem veri setinin, beklenen bir değere eşit olup olmadığını test etmek için kullanılır. Örneğin, bir üniversite sınıfında öğrencilerin matematik notlarının ortalama olarak 70 olduğunu düşünelim ve bir öğrencinin notu 80 olsun. Bu durumda, tek örneklem t-testi kullanılarak, bu öğrencinin notunun ortalama nottan anlamlı şekilde farklı olup olmadığı test edilebilir.\n"
      ],
      "metadata": {
        "id": "UQ-scmXgm0yK"
      },
      "execution_count": null,
      "outputs": []
    },
    {
      "cell_type": "code",
      "source": [
        "#ornek: bır sınıf var bu sınıfın gecen sene yaptıgı sınav ortallamsı 28 dir. \n",
        "#bu sene peki 28 den farklı degıl mı ogrenmek ıcın sınıftan 12 kişilik bır orneklem alınıyor. ve yuzde 95 guvenırlılık ıle olculmesı ıstenıyor.\n",
        "\n",
        "#h0:M=28 # M yi mü diye al. mü demek populasyon ortalaması ama x ise orneklem ortalaması dır.\n",
        "#H1:M=!28\n",
        "\n",
        "from scipy import stats\n",
        "import numpy as np\n",
        "alfa=0.05\n",
        "veri=[28,29,35,37,32,26,37,39,22,29,36,38] # 12 ogrencının verısı.\n",
        "t_test,p=stats.ttest_1samp(veri,popmean=28,alternative=\"two-sided\")\n",
        "print(t_test,p)\n",
        "\n",
        "if p>alfa:\n",
        "  print(\"h0 red edilmez.\")\n",
        "\n",
        "else:\n",
        "  print(\"h0 red edilir.\")  "
      ],
      "metadata": {
        "colab": {
          "base_uri": "https://localhost:8080/"
        },
        "id": "gN3wYv_DXHOv",
        "outputId": "b7107e18-392e-42d5-c524-8283955869ff"
      },
      "execution_count": null,
      "outputs": [
        {
          "output_type": "stream",
          "name": "stdout",
          "text": [
            "2.746194120979329 0.01901964255331356\n",
            "h0 red edilir.\n"
          ]
        }
      ]
    },
    {
      "cell_type": "code",
      "source": [],
      "metadata": {
        "id": "5i00QRdYm06q"
      },
      "execution_count": null,
      "outputs": []
    },
    {
      "cell_type": "code",
      "source": [],
      "metadata": {
        "id": "epf5obTzm0-r"
      },
      "execution_count": null,
      "outputs": []
    }
  ],
  "metadata": {
    "colab": {
      "name": "Colaboratory'ye Hoş Geldiniz",
      "provenance": [],
      "include_colab_link": true
    },
    "kernelspec": {
      "display_name": "Python 3",
      "name": "python3"
    }
  },
  "nbformat": 4,
  "nbformat_minor": 0
}