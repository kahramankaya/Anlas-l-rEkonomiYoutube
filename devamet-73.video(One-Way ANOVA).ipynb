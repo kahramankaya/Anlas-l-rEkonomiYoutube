{
  "cells": [
    {
      "cell_type": "markdown",
      "metadata": {
        "id": "view-in-github",
        "colab_type": "text"
      },
      "source": [
        "<a href=\"https://colab.research.google.com/github/kahramankaya/Anlas-l-rEkonomiYoutube/blob/main/devamet-73.video(One-Way%20ANOVA).ipynb\" target=\"_parent\"><img src=\"https://colab.research.google.com/assets/colab-badge.svg\" alt=\"Open In Colab\"/></a>"
      ]
    },
    {
      "cell_type": "code",
      "source": [
        "#73.video(One-Way ANOVA)"
      ],
      "metadata": {
        "id": "oNYRQTsnAged"
      },
      "execution_count": null,
      "outputs": []
    },
    {
      "cell_type": "code",
      "source": [
        "import pandas as pd\n",
        "from scipy import stats\n",
        "\n",
        "data = [[120, 130, 110],\n",
        "        [130, 120, 140],\n",
        "        [140, 140, 130],\n",
        "        [130, 130, 140],\n",
        "        [120, 140, 120],\n",
        "        [130, 120, 130],\n",
        "        [140, 130, 140],\n",
        "        [130, 140, 130],\n",
        "        [120, 120, 110],\n",
        "        [130, 130, 140]]\n",
        "\n",
        "df_tedavi_yontemi_1 = pd.DataFrame(data[:,0], columns=[\"Tedavi Yöntemi 1\"])\n",
        "df_tedavi_yontemi_2 = pd.DataFrame(data[:,1], columns=[\"Tedavi Yöntemi 2\"])\n",
        "df_tedavi_yontemi_3 = pd.DataFrame(data[:,2], columns=[\"Tedavi Yöntemi 3\"])\n",
        "\n",
        "#1.adım: normallık testını yap. 2.adım varyans homojenlıgıne bak. 3. adım anova testını uygula. 1 ve 2 saglandıgında 3 e gecılır. ben dırek uzamasın dıye 3. adımı yazdım.\n",
        "#yoksa shapiro ve barlett testlerini uygulalamalıyız.\n",
        "fvalue, pvalue = stats.f_oneway(df_tedavi_yontemi_1,df_tedavi_yontemi_2,df_tedavi_yontemi_3)\n",
        "print(fvalue, pvalue)\n"
      ],
      "metadata": {
        "id": "df9lpGx4hl4H",
        "outputId": "db447810-dafa-417c-86d5-331a59727b96",
        "colab": {
          "base_uri": "https://localhost:8080/",
          "height": 235
        }
      },
      "execution_count": null,
      "outputs": [
        {
          "output_type": "error",
          "ename": "TypeError",
          "evalue": "ignored",
          "traceback": [
            "\u001b[0;31m---------------------------------------------------------------------------\u001b[0m",
            "\u001b[0;31mTypeError\u001b[0m                                 Traceback (most recent call last)",
            "\u001b[0;32m<ipython-input-17-305951f1503e>\u001b[0m in \u001b[0;36m<module>\u001b[0;34m\u001b[0m\n\u001b[1;32m     13\u001b[0m         [130, 130, 140]]\n\u001b[1;32m     14\u001b[0m \u001b[0;34m\u001b[0m\u001b[0m\n\u001b[0;32m---> 15\u001b[0;31m \u001b[0mdf_tedavi_yontemi_1\u001b[0m \u001b[0;34m=\u001b[0m \u001b[0mpd\u001b[0m\u001b[0;34m.\u001b[0m\u001b[0mDataFrame\u001b[0m\u001b[0;34m(\u001b[0m\u001b[0mdata\u001b[0m\u001b[0;34m[\u001b[0m\u001b[0;34m:\u001b[0m\u001b[0;34m,\u001b[0m\u001b[0;36m0\u001b[0m\u001b[0;34m]\u001b[0m\u001b[0;34m,\u001b[0m \u001b[0mcolumns\u001b[0m\u001b[0;34m=\u001b[0m\u001b[0;34m[\u001b[0m\u001b[0;34m\"Tedavi Yöntemi 1\"\u001b[0m\u001b[0;34m]\u001b[0m\u001b[0;34m)\u001b[0m\u001b[0;34m\u001b[0m\u001b[0;34m\u001b[0m\u001b[0m\n\u001b[0m\u001b[1;32m     16\u001b[0m \u001b[0mdf_tedavi_yontemi_2\u001b[0m \u001b[0;34m=\u001b[0m \u001b[0mpd\u001b[0m\u001b[0;34m.\u001b[0m\u001b[0mDataFrame\u001b[0m\u001b[0;34m(\u001b[0m\u001b[0mdata\u001b[0m\u001b[0;34m[\u001b[0m\u001b[0;34m:\u001b[0m\u001b[0;34m,\u001b[0m\u001b[0;36m1\u001b[0m\u001b[0;34m]\u001b[0m\u001b[0;34m,\u001b[0m \u001b[0mcolumns\u001b[0m\u001b[0;34m=\u001b[0m\u001b[0;34m[\u001b[0m\u001b[0;34m\"Tedavi Yöntemi 2\"\u001b[0m\u001b[0;34m]\u001b[0m\u001b[0;34m)\u001b[0m\u001b[0;34m\u001b[0m\u001b[0;34m\u001b[0m\u001b[0m\n\u001b[1;32m     17\u001b[0m \u001b[0mdf_tedavi_yontemi_3\u001b[0m \u001b[0;34m=\u001b[0m \u001b[0mpd\u001b[0m\u001b[0;34m.\u001b[0m\u001b[0mDataFrame\u001b[0m\u001b[0;34m(\u001b[0m\u001b[0mdata\u001b[0m\u001b[0;34m[\u001b[0m\u001b[0;34m:\u001b[0m\u001b[0;34m,\u001b[0m\u001b[0;36m2\u001b[0m\u001b[0;34m]\u001b[0m\u001b[0;34m,\u001b[0m \u001b[0mcolumns\u001b[0m\u001b[0;34m=\u001b[0m\u001b[0;34m[\u001b[0m\u001b[0;34m\"Tedavi Yöntemi 3\"\u001b[0m\u001b[0;34m]\u001b[0m\u001b[0;34m)\u001b[0m\u001b[0;34m\u001b[0m\u001b[0;34m\u001b[0m\u001b[0m\n",
            "\u001b[0;31mTypeError\u001b[0m: list indices must be integers or slices, not tuple"
          ]
        }
      ]
    },
    {
      "cell_type": "code",
      "source": [
        "import numpy as np\n",
        "# çift BOYUTLU SLICE(ALT KÜME) BULMA IŞLEMLERI  \n",
        "a=np.random.randint(2,21,(4,5))\n",
        "print(a)\n",
        "print(a[:,2])# virgülden önceki tüm satırlar anlamına geliyor. virgülden sonra ki ise 2. sütun da kiler anlamına geliyor.\n"
      ],
      "metadata": {
        "id": "OkES5Tapkcg3",
        "outputId": "2773b50f-3025-4da2-df16-bb1267450610",
        "colab": {
          "base_uri": "https://localhost:8080/"
        }
      },
      "execution_count": null,
      "outputs": [
        {
          "output_type": "stream",
          "name": "stdout",
          "text": [
            "[[ 5  2  4 17 11]\n",
            " [ 6  9  5 17  7]\n",
            " [10  2  8  8 19]\n",
            " [10 15  9 14  6]]\n",
            "[]\n"
          ]
        }
      ]
    }
  ],
  "metadata": {
    "colab": {
      "name": "Colaboratory'ye Hoş Geldiniz",
      "provenance": [],
      "include_colab_link": true
    },
    "kernelspec": {
      "display_name": "Python 3",
      "name": "python3"
    }
  },
  "nbformat": 4,
  "nbformat_minor": 0
}