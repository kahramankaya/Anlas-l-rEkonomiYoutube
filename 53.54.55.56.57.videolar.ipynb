{
  "cells": [
    {
      "cell_type": "markdown",
      "metadata": {
        "id": "view-in-github",
        "colab_type": "text"
      },
      "source": [
        "<a href=\"https://colab.research.google.com/github/kahramankaya/Anlas-l-rEkonomiYoutube/blob/main/53.54.55.56.57.videolar.ipynb\" target=\"_parent\"><img src=\"https://colab.research.google.com/assets/colab-badge.svg\" alt=\"Open In Colab\"/></a>"
      ]
    },
    {
      "cell_type": "code",
      "source": [
        "#53.video:hipotez \n",
        "# ornek:bir satılan tartı var. tartı 100 urunnden 99 u dogru tartıyor. yani aslında yuzde 99 guvenırlılıkle çalışmış.\n",
        "# ve ben bu tartıyı satın alacam ama ercekten yuzde 99 guvenılırlılık ile mi çalışıyor bunu bılmek ıstıyorum.\n",
        "# ve tartıyı 100 kişiye denettim 100 kişiden 95 tanesi doğru çıktı 99 cıkmadı. pekı bu tartının 100 urunden 95 tane dogru cıkarma olasılıgı nedır dıye bakınca\n",
        "# olasılık5 degerın bu sonucu verdı=yuzde 0.2 cıktı. demek ki bu tartının 100 urunden 95 tanesını dogru cıkarma olasılıgı bu kadar dusukse ben bu tartıyı almam cunku guvenmem.\n",
        "from scipy import stats\n",
        "p=0.99 # 99/100\n",
        "n=100 # 100 urun\n",
        "olasılık1=stats.binom(n,p).pmf(k=99)\n",
        "olasılık2=stats.binom(n,p).pmf(k=98) # peki 100 urunden 98 tanesının dogru tartılması olasılıgı nedır demıs olduk.\n",
        "olasılık3=stats.binom(n,p).pmf(k=97)\n",
        "olasılık4=stats.binom(n,p).pmf(k=96)\n",
        "olasılık5=stats.binom(n,p).pmf(k=95)\n",
        "print(olasılık1*100)\n",
        "print(olasılık2*100)\n",
        "print(olasılık3*100)\n",
        "print(olasılık4*100)\n",
        "print(olasılık5*100)\n"
      ],
      "metadata": {
        "id": "UuXfdG_3rAgQ",
        "outputId": "bf0b4512-39ad-4e02-b1f0-16830a074ea5",
        "colab": {
          "base_uri": "https://localhost:8080/"
        }
      },
      "execution_count": 9,
      "outputs": [
        {
          "output_type": "stream",
          "name": "stdout",
          "text": [
            "36.972963764972654\n",
            "18.486481882486345\n",
            "6.099916580753071\n",
            "1.4941714856895187\n",
            "0.2897787123761487\n"
          ]
        }
      ]
    },
    {
      "cell_type": "code",
      "source": [
        "#ornek2:bır secım anketı var. bır partının oy alma yuzdesı yuzde 10 imiş. ama ben 5000 kişilik ornekleme uygulayınca yuzde 20 çıkmış. şimdi bu adımdan sonra hipotez kurulur.\n",
        "#h0:yuzde 10 dur. h1:yuzde 10 dan farklı. diye 2 tane hipotez kurdum.\n",
        "#şimdi grafik cızılınce ortalama zaten yuzde 10 dur. pekı yuzde 20 grafıkte nereye dusuyor. işte p degerını  bılırsem hıpotez red edılıp edılmeyecegını bılebılırım.\n"
      ],
      "metadata": {
        "id": "WwEYhTHzrBiW"
      },
      "execution_count": 10,
      "outputs": []
    },
    {
      "cell_type": "code",
      "source": [
        "#54.video:\n",
        "#hipotezin red edilmesinde egerkı buyukluk kucukluk var ıse o zaman red alanı tek bır yone dusecegı ıcın tek kuyruklu dıye adlandırılır.\n",
        "#ama red edılmede sadece buyukluk kucukluk yoksa sadece h0 dan farklıdır der ıse o zaman red alanı ıkı yone dusecegı ıcın cıft kuyruklu derız. ıslemlerde buna dıkkat ederız.\n"
      ],
      "metadata": {
        "id": "C5GCWnDyrAaf"
      },
      "execution_count": null,
      "outputs": []
    },
    {
      "cell_type": "code",
      "source": [
        "#55.video:hata tipleri\n",
        "#Tip I Hatası: Bu hata, null hipotezinin doğru olduğu ancak test sonucunda reddedildiği durumlarda ortaya çıkar\n",
        "#Tip II Hatası: Bu hata, null hipotezinin yanlış olduğu ancak test sonucunda kabul edildiği durumlarda ortaya çıkar\n"
      ],
      "metadata": {
        "id": "4Vmj_DlVrAUQ"
      },
      "execution_count": null,
      "outputs": []
    },
    {
      "cell_type": "code",
      "source": [
        "#56.video(Hipotez Testinde P Değeri):\n",
        "#eger p bızım red alanları yanı alfa denılen kısımlara denk gelırse hıpotez red edilir. gelmez ise red edilmez.\n",
        "#eger ki yüzde 95 güvenilirlik ile çalışıyorsak (ki genelde bununla çalışılıyor) alfa yani red alanının 0.025 tir. \n",
        "#red edilmeyen alan ise 0.475 tir. bu alan bılınıyorsa z tablo uzerınden bu alanı olusturan sınırı bulaılırım. bu sınır 1,96 dır. ve artık buna gore red mi degıl mı bılırım."
      ],
      "metadata": {
        "id": "GMWbvxIMJjlb"
      },
      "execution_count": null,
      "outputs": []
    },
    {
      "cell_type": "code",
      "source": [
        "#57.video(Hipotez Testi Örnekleri):\n",
        "#ornek1:bır fabrıkada vidalar uretılıyor. vıdalar ort uzunlugu 100, std=2 dir. biz 9 vida lık bır orneklem uzerınden hıpotez testlerını uygulayacagız. \n",
        "#ve bu 9 vıdanın ortalaması 102 cıkmıs.\n",
        "#guvenılırlık yuzde 95 verılmıs ve de normal dagılım oldugu soylenmıs.\n",
        "#grafık cızılır. grafıkte red alanı cızılır. red edılmeyen alanın z tablodan z scoru bulunur boylece sınır belırlenmıs olur.\n",
        "#ona gore denılen deger bu sınırın neresınde kaldıgına gore red edılıp edılmeme olayına bakılır.\n"
      ],
      "metadata": {
        "id": "0a6Fba-CQUNm"
      },
      "execution_count": null,
      "outputs": []
    },
    {
      "cell_type": "code",
      "source": [],
      "metadata": {
        "id": "JrbrZOlyXZd3"
      },
      "execution_count": null,
      "outputs": []
    }
  ],
  "metadata": {
    "colab": {
      "name": "Colaboratory'ye Hoş Geldiniz",
      "provenance": [],
      "include_colab_link": true
    },
    "kernelspec": {
      "display_name": "Python 3",
      "name": "python3"
    }
  },
  "nbformat": 4,
  "nbformat_minor": 0
}