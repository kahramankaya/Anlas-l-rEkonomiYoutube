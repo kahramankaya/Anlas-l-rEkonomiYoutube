{
  "cells": [
    {
      "cell_type": "markdown",
      "metadata": {
        "id": "view-in-github",
        "colab_type": "text"
      },
      "source": [
        "<a href=\"https://colab.research.google.com/github/kahramankaya/Anlas-l-rEkonomiYoutube/blob/main/85.video(28.dk)(Ki%20Kare%20Ba%C4%9F%C4%B1ms%C4%B1zl%C4%B1k%20Testi).ipynb\" target=\"_parent\"><img src=\"https://colab.research.google.com/assets/colab-badge.svg\" alt=\"Open In Colab\"/></a>"
      ]
    },
    {
      "cell_type": "code",
      "source": [
        "#85.video(Ki Kare Bağımsızlık Testi):iki kategorik değişken arasında anlamlı bir farklılık var mı buna bakıyor.\n",
        "#bu test yapısı 2*2 ve R*C iki farklı tablo ıcın farklı kı kare testlerı yapılır.birinci tablo ornegı erkek-kadın ve uzun boy-kısaboy iken digerı ıcın cınsıyete ek olarak\n",
        "# uzun boy-kısanoy-normalboy olur. yani ıkı kategorık degıskenden her bıri >=2 buyuk olmalı."
      ],
      "metadata": {
        "id": "ywvM9ii6Hx0j"
      },
      "execution_count": null,
      "outputs": []
    },
    {
      "cell_type": "code",
      "source": [
        "# 2*2 tablosunda eger en kucuk beklenen frekans degeı>25 ise  pearson ki kare testi kullanılır.\n",
        "# 2*2 tablosunda eger en kucuk beklenen frekans degeri 5<beklenen frekans<25 arasında ise yates ki kare testi kullanılır.\n",
        "# 2*2 tablosunda eger en kucuk beklenen frekans degerı <5 ise o zaman fisher ki kare testi kullanılır."
      ],
      "metadata": {
        "id": "Jikd8QtqHx3P"
      },
      "execution_count": null,
      "outputs": []
    },
    {
      "cell_type": "code",
      "source": [
        "#h0: cinsiyet ile sag ve sol el kullanımı arasında bır anlamlılık yoktur\n",
        "#h1: ilişki vardır. \n",
        "import pandas as pd\n",
        "import numpy as np\n",
        "np.random.seed(5)\n",
        "\n",
        "data=pd.DataFrame(\n",
        "{\n",
        "\"cinsiyet\":np.random.choice([\"erkek\",\"kadın\"],size=(100)),\n",
        "\"el\":np.random.choice([\"sağ\",\"sol\"],size=(100))\n",
        "})\n",
        "print(data)"
      ],
      "metadata": {
        "id": "vedTJqGWHx7B",
        "outputId": "eafb2012-63cd-4272-ce87-65a355ba0d9b",
        "colab": {
          "base_uri": "https://localhost:8080/"
        }
      },
      "execution_count": 22,
      "outputs": [
        {
          "output_type": "stream",
          "name": "stdout",
          "text": [
            "   cinsiyet   el\n",
            "0     kadın  sağ\n",
            "1     erkek  sol\n",
            "2     kadın  sağ\n",
            "3     kadın  sol\n",
            "4     erkek  sağ\n",
            "..      ...  ...\n",
            "95    erkek  sol\n",
            "96    kadın  sağ\n",
            "97    erkek  sağ\n",
            "98    kadın  sağ\n",
            "99    kadın  sağ\n",
            "\n",
            "[100 rows x 2 columns]\n"
          ]
        }
      ]
    },
    {
      "cell_type": "code",
      "source": [
        "cross=pd.crosstab(index=data[\"cinsiyet\"],columns=data[\"el\"]) \n",
        "print(cross)"
      ],
      "metadata": {
        "id": "Ko6o72e6YJ_M",
        "outputId": "521fb562-2da9-407f-fb69-201ef92a0c04",
        "colab": {
          "base_uri": "https://localhost:8080/"
        }
      },
      "execution_count": 23,
      "outputs": [
        {
          "output_type": "stream",
          "name": "stdout",
          "text": [
            "el        sağ  sol\n",
            "cinsiyet          \n",
            "erkek      30   16\n",
            "kadın      29   25\n"
          ]
        }
      ]
    },
    {
      "cell_type": "code",
      "source": [
        "from scipy import stats\n",
        "test,p,sd,beklenenfrekans=stats.chi2_contingency(cross)\n",
        "#en kucuk frekans degerı 18 cıktıgı ıcın yates testi en ıyı sonucu verecektır.\n",
        "print(test,p,sd,beklenenfrekans)"
      ],
      "metadata": {
        "id": "blqsuw0TaSCc",
        "outputId": "d3724e34-729e-44ea-b5d8-f8afd54981bc",
        "colab": {
          "base_uri": "https://localhost:8080/"
        }
      },
      "execution_count": 24,
      "outputs": [
        {
          "output_type": "stream",
          "name": "stdout",
          "text": [
            "0.9269078198028353 0.3356677172959964 1 [[27.14 18.86]\n",
            " [31.86 22.14]]\n"
          ]
        }
      ]
    },
    {
      "cell_type": "code",
      "source": [
        "#diyelim ki 25 ten buyuk cıktı o zamn pearson ki kare testi kullanırız.\n",
        "test,p,sd,beklenenfrekans=stats.chi2_contingency(cross,correction=False)\n",
        "#ho kabul edildi\n",
        "print(test,p)"
      ],
      "metadata": {
        "id": "xJHZKUsJbOZo",
        "outputId": "086c03bc-36c3-46b6-d18d-dc65fc8a002f",
        "colab": {
          "base_uri": "https://localhost:8080/"
        }
      },
      "execution_count": 28,
      "outputs": [
        {
          "output_type": "stream",
          "name": "stdout",
          "text": [
            "1.361271043317163 0.24331732013032198\n"
          ]
        }
      ]
    },
    {
      "cell_type": "code",
      "source": [
        "#diyelim ki 5 ile 25 arasında cıktı o zaman pearson ki kare testi kullanırız.\n",
        "test,p,sd,beklenenfrekans=stats.chi2_contingency(cross,correction=True)\n",
        "#h0 kabul edildi.\n",
        "print(test,p)"
      ],
      "metadata": {
        "id": "r9ky4MOZb8D8",
        "outputId": "d881c555-b190-4915-fba5-9a46082a688b",
        "colab": {
          "base_uri": "https://localhost:8080/"
        }
      },
      "execution_count": 27,
      "outputs": [
        {
          "output_type": "stream",
          "name": "stdout",
          "text": [
            "0.9269078198028353 0.3356677172959964\n"
          ]
        }
      ]
    },
    {
      "cell_type": "code",
      "source": [
        "#diyelim ki fisher kullansaydık\n",
        "#h0 kabul edildi.\n",
        "stats.fisher_exact(cross)"
      ],
      "metadata": {
        "id": "8t1KjhiTdvOl",
        "outputId": "2c985d8d-a685-4732-d9b7-34cf755890e1",
        "colab": {
          "base_uri": "https://localhost:8080/"
        }
      },
      "execution_count": 29,
      "outputs": [
        {
          "output_type": "execute_result",
          "data": {
            "text/plain": [
              "SignificanceResult(statistic=1.6163793103448276, pvalue=0.30864457493135894)"
            ]
          },
          "metadata": {},
          "execution_count": 29
        }
      ]
    }
  ],
  "metadata": {
    "colab": {
      "name": "Colaboratory'ye Hoş Geldiniz",
      "provenance": [],
      "include_colab_link": true
    },
    "kernelspec": {
      "display_name": "Python 3",
      "name": "python3"
    }
  },
  "nbformat": 4,
  "nbformat_minor": 0
}