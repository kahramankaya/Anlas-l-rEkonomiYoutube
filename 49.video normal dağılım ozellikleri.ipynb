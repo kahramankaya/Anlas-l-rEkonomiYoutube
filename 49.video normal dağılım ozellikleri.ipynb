{
  "cells": [
    {
      "cell_type": "markdown",
      "metadata": {
        "id": "view-in-github",
        "colab_type": "text"
      },
      "source": [
        "<a href=\"https://colab.research.google.com/github/kahramankaya/Anlas-l-rEkonomiYoutube/blob/main/49.video%20normal%20da%C4%9F%C4%B1l%C4%B1m%20ozellikleri.ipynb\" target=\"_parent\"><img src=\"https://colab.research.google.com/assets/colab-badge.svg\" alt=\"Open In Colab\"/></a>"
      ]
    },
    {
      "cell_type": "code",
      "source": [
        "49.video normal dağılım ozellikleri: normal dagılımın tarihcesı verıldı."
      ],
      "metadata": {
        "id": "z-PsCOdkE54G"
      },
      "execution_count": null,
      "outputs": []
    },
    {
      "cell_type": "code",
      "source": [
        "#ornek: fabrıka da urunler var. ort ve varyans verıldı. agırlıgın 518 den kuuck olma olasıgı nedır dıye soruyor.\n",
        "from scipy import stats \n",
        "import numpy as np\n",
        "ortalama=500\n",
        "varyans=100\n",
        "dağilim=stats.norm(ortalama,np.sqrt(varyans))\n",
        "olasılık=dağilim.cdf(518)\n",
        "print(olasılık*100) # yuzde 96 imiş.\n"
      ],
      "metadata": {
        "id": "063H7hqyLas4",
        "outputId": "f0680d2d-4a8f-4259-a854-703cef8b9e24",
        "colab": {
          "base_uri": "https://localhost:8080/"
        }
      },
      "execution_count": 12,
      "outputs": [
        {
          "output_type": "stream",
          "name": "stdout",
          "text": [
            "96.40696808870743\n"
          ]
        }
      ]
    },
    {
      "cell_type": "code",
      "source": [],
      "metadata": {
        "id": "kNM3uGpoLa03"
      },
      "execution_count": null,
      "outputs": []
    },
    {
      "cell_type": "code",
      "source": [],
      "metadata": {
        "id": "AF-Z1bWbLa5h"
      },
      "execution_count": null,
      "outputs": []
    }
  ],
  "metadata": {
    "colab": {
      "name": "Colaboratory'ye Hoş Geldiniz",
      "provenance": [],
      "include_colab_link": true
    },
    "kernelspec": {
      "display_name": "Python 3",
      "name": "python3"
    }
  },
  "nbformat": 4,
  "nbformat_minor": 0
}