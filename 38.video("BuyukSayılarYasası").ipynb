{
  "cells": [
    {
      "cell_type": "markdown",
      "metadata": {
        "id": "view-in-github",
        "colab_type": "text"
      },
      "source": [
        "<a href=\"https://colab.research.google.com/github/kahramankaya/Anlas-l-rEkonomiYoutube/blob/main/38.video(%22BuyukSay%C4%B1larYasas%C4%B1%22).ipynb\" target=\"_parent\"><img src=\"https://colab.research.google.com/assets/colab-badge.svg\" alt=\"Open In Colab\"/></a>"
      ]
    },
    {
      "cell_type": "code",
      "source": [
        "# 38.video:\n",
        "import numpy as np\n",
        "import seaborn as sns\n",
        "import matplotlib as plt\n",
        "liste=[]\n",
        "for m in np.arange(0,100):\n",
        "  secme=m**3\n",
        "  a=np.random.randint(0,2,size=secme) # 2 dahıl degıl.\n",
        "  ort=np.mean(a)\n",
        "  liste.append(ort)\n",
        "sns.lineplot(data=liste) # goruldugu uzere cekılen orneklem sayısı arttıkca ortalama 0.5 e esıtlenmeye gitti."
      ],
      "metadata": {
        "id": "dZFDDd_l4WJQ"
      },
      "execution_count": null,
      "outputs": []
    }
  ],
  "metadata": {
    "colab": {
      "name": "Colaboratory'ye Hoş Geldiniz",
      "provenance": [],
      "include_colab_link": true
    },
    "kernelspec": {
      "display_name": "Python 3",
      "name": "python3"
    }
  },
  "nbformat": 4,
  "nbformat_minor": 0
}