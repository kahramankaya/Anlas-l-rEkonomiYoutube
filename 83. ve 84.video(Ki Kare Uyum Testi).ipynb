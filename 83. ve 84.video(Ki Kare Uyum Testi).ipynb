{
  "cells": [
    {
      "cell_type": "markdown",
      "metadata": {
        "id": "view-in-github",
        "colab_type": "text"
      },
      "source": [
        "<a href=\"https://colab.research.google.com/github/kahramankaya/Anlas-l-rEkonomiYoutube/blob/main/83.%20ve%2084.video(Ki%20Kare%20Uyum%20Testi).ipynb\" target=\"_parent\"><img src=\"https://colab.research.google.com/assets/colab-badge.svg\" alt=\"Open In Colab\"/></a>"
      ]
    },
    {
      "cell_type": "code",
      "source": [
        "#83.video(Non-Parametrik Testler):veriler normal dağılım göstermiyorsa, nonparametrik testler kullanmak daha doğrudur. merkezı limit teorrısının olması ıcın gereken verı sayısı yoksa o zaman kullanılan testlerdır.\n",
        "#non parametrık testler parametrık testlere gore daha gucsuzdur."
      ],
      "metadata": {
        "id": "8wz82gyEWD0X"
      },
      "execution_count": null,
      "outputs": []
    },
    {
      "cell_type": "code",
      "source": [
        "#84.video(Ki Kare Uyum Testi):normalde her parametrık testın non parametrık testı vardır ama kı kare testının parametrık olarak karsılıgı yok.\n",
        "#ki kare testi gozlem olan verılırımızle beklenen deger arasında bır fark var mı yok mu bunu ogrenmek ıcın kullanılan bır testtır.\n",
        "# ve kı kare testı kategorık degıskenle calısır.:Kategorik değişkenler, ölçülebilir bir özellikleri olmayan ancak belirli kategorilere ayrılabilen değişkenlerdir. Örneğin, cinsiyet, ırk, meslek, eğitim seviyesi, medeni durum, yaş aralığı, vb.\n",
        "\n",
        "#hipotezlerde h0:oi=ei , h1:oi!=ei oi demek bizim gozlemledıgımız verının frekansı ei ise beklenen olan frekans degerıdır."
      ],
      "metadata": {
        "id": "-FvhawkBWDw-"
      },
      "execution_count": null,
      "outputs": []
    },
    {
      "cell_type": "code",
      "source": [
        "#kategorık degıskenın bır frekansı olmalıdır. bu frekans degerlerı toplandıktan sonra kategorık degıskneın altında kı grup sayısına bolunur. bu beklenen deger ıle frekans lar arasında kı farka bakılır.\n"
      ],
      "metadata": {
        "id": "4cgM6tS7WDuB"
      },
      "execution_count": null,
      "outputs": []
    },
    {
      "cell_type": "code",
      "source": [
        "import pandas as pd\n",
        "import numpy as np\n",
        "from scipy import stats\n",
        "#h0: oi0=ei\n",
        "#h1:oi!=ei\n",
        "veri=pd.DataFrame({\"kilo\":np.random.choice([\"kilo\",\"asırı_kılolu\",\"normal\"],size=(30))})\n",
        "print(veri)"
      ],
      "metadata": {
        "id": "eCUZLNL9ghij",
        "outputId": "a9ffa53d-fcd7-4c81-b319-1a862d83cd5c",
        "colab": {
          "base_uri": "https://localhost:8080/"
        }
      },
      "execution_count": 1,
      "outputs": [
        {
          "output_type": "stream",
          "name": "stdout",
          "text": [
            "            kilo\n",
            "0         normal\n",
            "1           kilo\n",
            "2   asırı_kılolu\n",
            "3         normal\n",
            "4         normal\n",
            "5           kilo\n",
            "6         normal\n",
            "7   asırı_kılolu\n",
            "8           kilo\n",
            "9         normal\n",
            "10          kilo\n",
            "11        normal\n",
            "12        normal\n",
            "13        normal\n",
            "14        normal\n",
            "15          kilo\n",
            "16          kilo\n",
            "17  asırı_kılolu\n",
            "18          kilo\n",
            "19        normal\n",
            "20        normal\n",
            "21          kilo\n",
            "22          kilo\n",
            "23        normal\n",
            "24          kilo\n",
            "25        normal\n",
            "26        normal\n",
            "27          kilo\n",
            "28        normal\n",
            "29  asırı_kılolu\n"
          ]
        }
      ]
    },
    {
      "cell_type": "code",
      "source": [
        "#simdi bıze boyle verı geldı bızım bunun frekansını bulmamız gerekır. yanı ger gruptan kac tane oldugunu bılmemız gerek. eger frekan verılmısse dırek kıkare testıen gec burayla ugrasma.\n",
        "frekans=pd.value_counts(veri[\"kilo\"])\n",
        "print(frekans)"
      ],
      "metadata": {
        "id": "mOkbKvZliB0y",
        "outputId": "4b5ccf6f-bc8d-4fd9-f038-d76e382d91fc",
        "colab": {
          "base_uri": "https://localhost:8080/"
        }
      },
      "execution_count": null,
      "outputs": [
        {
          "output_type": "stream",
          "name": "stdout",
          "text": [
            "kilo            11\n",
            "normal          10\n",
            "asırı_kılolu     9\n",
            "Name: kilo, dtype: int64\n"
          ]
        }
      ]
    },
    {
      "cell_type": "code",
      "source": [
        "kikare,p=stats.chisquare(frekans)\n",
        "#p degerı 0.05 ten buyuk cıktı u yuzden h0 red edılmez. demek kı oi ile ei arasında frekans farkı yokmuş.\n",
        "print(kikare,p)"
      ],
      "metadata": {
        "id": "Sk3gipaSiC4Z",
        "outputId": "3ba82f40-f1f6-4b2c-8bb3-08664f7387fd",
        "colab": {
          "base_uri": "https://localhost:8080/"
        }
      },
      "execution_count": null,
      "outputs": [
        {
          "output_type": "stream",
          "name": "stdout",
          "text": [
            "0.2 0.9048374180359595\n"
          ]
        }
      ]
    }
  ],
  "metadata": {
    "colab": {
      "name": "Colaboratory'ye Hoş Geldiniz",
      "provenance": [],
      "include_colab_link": true
    },
    "kernelspec": {
      "display_name": "Python 3",
      "name": "python3"
    }
  },
  "nbformat": 4,
  "nbformat_minor": 0
}